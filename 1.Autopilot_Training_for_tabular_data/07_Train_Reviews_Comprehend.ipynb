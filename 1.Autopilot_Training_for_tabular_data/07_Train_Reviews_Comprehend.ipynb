{
 "cells": [
  {
   "cell_type": "markdown",
   "metadata": {},
   "source": [
    "# Setup Comprehend Through AWS Console "
   ]
  },
  {
   "cell_type": "markdown",
   "metadata": {},
   "source": [
    "<img src=\"img/comprehend.png\" width=\"80%\" align=\"left\">"
   ]
  },
  {
   "cell_type": "code",
   "execution_count": 28,
   "metadata": {},
   "outputs": [],
   "source": [
    "%store -r"
   ]
  },
  {
   "cell_type": "code",
   "execution_count": 54,
   "metadata": {},
   "outputs": [],
   "source": [
    "import sys\n",
    "import boto3\n",
    "import sagemaker\n",
    "import pandas as pd\n",
    "\n",
    "sess   = sagemaker.Session()\n",
    "role = sagemaker.get_execution_role()\n",
    "\n",
    "sm = boto3.Session().client(service_name='sagemaker', region_name=region_name)"
   ]
  },
  {
   "cell_type": "code",
   "execution_count": 30,
   "metadata": {},
   "outputs": [],
   "source": [
    "comprehend = boto3.client('comprehend')"
   ]
  },
  {
   "cell_type": "code",
   "execution_count": 31,
   "metadata": {},
   "outputs": [
    {
     "name": "stdout",
     "output_type": "stream",
     "text": [
      "s3://sagemaker-us-east-2-322537213286/data/amazon_reviews_us_Digital_Software_v1_00_noheader.csv\n"
     ]
    }
   ],
   "source": [
    "print(noheader_train_s3_uri)"
   ]
  },
  {
   "cell_type": "code",
   "execution_count": 32,
   "metadata": {},
   "outputs": [
    {
     "name": "stdout",
     "output_type": "stream",
     "text": [
      "2020-07-15 07:35:11   13700478 amazon_reviews_us_Digital_Software_v1_00_noheader.csv\r\n"
     ]
    }
   ],
   "source": [
    "!aws s3 ls $noheader_train_s3_uri"
   ]
  },
  {
   "cell_type": "markdown",
   "metadata": {},
   "source": [
    "# Create Data Access Role for Comprehend"
   ]
  },
  {
   "cell_type": "markdown",
   "metadata": {},
   "source": [
    "## Create Policy"
   ]
  },
  {
   "cell_type": "code",
   "execution_count": 33,
   "metadata": {},
   "outputs": [],
   "source": [
    "assume_role_policy_doc = {\n",
    "  \"Version\": \"2012-10-17\",\n",
    "  \"Statement\": [\n",
    "    {\n",
    "      \"Effect\": \"Allow\",\n",
    "      \"Principal\": {\n",
    "        \"Service\": \"comprehend.amazonaws.com\"\n",
    "      },\n",
    "      \"Action\": \"sts:AssumeRole\"\n",
    "    }\n",
    "  ]\n",
    "} "
   ]
  },
  {
   "cell_type": "markdown",
   "metadata": {},
   "source": [
    "## Create Role and Attach Policies"
   ]
  },
  {
   "cell_type": "code",
   "execution_count": 34,
   "metadata": {},
   "outputs": [],
   "source": [
    "iam_comprehend_role_name = 'aws_sm_hol_Comprehend'"
   ]
  },
  {
   "cell_type": "code",
   "execution_count": 35,
   "metadata": {},
   "outputs": [
    {
     "name": "stdout",
     "output_type": "stream",
     "text": [
      "Role already exists\n"
     ]
    }
   ],
   "source": [
    "import json\n",
    "import boto3\n",
    "import time\n",
    "\n",
    "from botocore.exceptions import ClientError\n",
    "\n",
    "try:\n",
    "    iam = boto3.client('iam')\n",
    "\n",
    "    iam_role_comprehend = iam.create_role(\n",
    "        RoleName=iam_comprehend_role_name,\n",
    "        AssumeRolePolicyDocument=json.dumps(assume_role_policy_doc),\n",
    "        Description='SageMAker HOL Comprehend Role'\n",
    "    )\n",
    "except ClientError as e:\n",
    "    if e.response['Error']['Code'] == 'EntityAlreadyExists':\n",
    "        iam_role_comprehend = iam.get_role(RoleName=iam_comprehend_role_name)\n",
    "        print(\"Role already exists\")\n",
    "    else:\n",
    "        print(\"Unexpected error: %s\" % e)\n",
    "        \n",
    "time.sleep(30)"
   ]
  },
  {
   "cell_type": "code",
   "execution_count": 36,
   "metadata": {},
   "outputs": [
    {
     "name": "stdout",
     "output_type": "stream",
     "text": [
      "{'Version': '2012-10-17', 'Statement': [{'Action': ['s3:GetObject'], 'Resource': ['arn:aws:s3:::sagemaker-us-east-2-322537213286/*'], 'Effect': 'Allow'}, {'Action': ['s3:ListBucket'], 'Resource': ['arn:aws:s3:::sagemaker-us-east-2-322537213286'], 'Effect': 'Allow'}, {'Action': ['s3:PutObject'], 'Resource': ['arn:aws:s3:::sagemaker-experiments-us-east-2-322537213286/*'], 'Effect': 'Allow'}]}\n"
     ]
    }
   ],
   "source": [
    "comprehend_s3_policy_doc = {\n",
    "    \"Version\": \"2012-10-17\",\n",
    "    \"Statement\": [\n",
    "        {\n",
    "            \"Action\": [\n",
    "                \"s3:GetObject\"\n",
    "            ],\n",
    "            \"Resource\": [\n",
    "                \"arn:aws:s3:::{}/*\".format(data_bucket)\n",
    "            ],\n",
    "            \"Effect\": \"Allow\"\n",
    "        },\n",
    "        {\n",
    "            \"Action\": [\n",
    "                \"s3:ListBucket\"\n",
    "            ],\n",
    "            \"Resource\": [\n",
    "                \"arn:aws:s3:::{}\".format(data_bucket)\n",
    "            ],\n",
    "            \"Effect\": \"Allow\"\n",
    "        },\n",
    "        {\n",
    "            \"Action\": [\n",
    "                \"s3:PutObject\"\n",
    "            ],\n",
    "            \"Resource\": [\n",
    "                \"arn:aws:s3:::{}/*\".format(job_bucket)\n",
    "            ],\n",
    "            \"Effect\": \"Allow\"\n",
    "        }\n",
    "    ]\n",
    "}\n",
    "\n",
    "print(comprehend_s3_policy_doc)"
   ]
  },
  {
   "cell_type": "markdown",
   "metadata": {},
   "source": [
    "# Attach Policy to Role"
   ]
  },
  {
   "cell_type": "code",
   "execution_count": 37,
   "metadata": {},
   "outputs": [
    {
     "name": "stdout",
     "output_type": "stream",
     "text": [
      "{'ResponseMetadata': {'RequestId': '93226f2a-98e0-4154-8985-e607cac0bff1', 'HTTPStatusCode': 200, 'HTTPHeaders': {'x-amzn-requestid': '93226f2a-98e0-4154-8985-e607cac0bff1', 'content-type': 'text/xml', 'content-length': '206', 'date': 'Wed, 15 Jul 2020 09:10:53 GMT'}, 'RetryAttempts': 0}}\n"
     ]
    }
   ],
   "source": [
    "import time\n",
    "\n",
    "response = iam.put_role_policy(\n",
    "    RoleName=iam_comprehend_role_name,\n",
    "    PolicyName='AWS_SM_HOL_ComprehendPolicyToS3',\n",
    "    PolicyDocument=json.dumps(comprehend_s3_policy_doc)\n",
    ")\n",
    "\n",
    "print(response)\n",
    "\n",
    "time.sleep(30)"
   ]
  },
  {
   "cell_type": "markdown",
   "metadata": {},
   "source": [
    "# Train the Model"
   ]
  },
  {
   "cell_type": "code",
   "execution_count": 38,
   "metadata": {},
   "outputs": [
    {
     "name": "stdout",
     "output_type": "stream",
     "text": [
      "s3://sagemaker-experiments-us-east-2-322537213286/models/comprehend/output\n"
     ]
    }
   ],
   "source": [
    "prefix = 'models'\n",
    "\n",
    "s3_output_job = 's3://{}/{}/{}'.format(job_bucket, prefix, 'comprehend/output')\n",
    "print(s3_output_job)"
   ]
  },
  {
   "cell_type": "code",
   "execution_count": 39,
   "metadata": {},
   "outputs": [],
   "source": [
    "iam_role_comprehend_arn = iam_role_comprehend['Role']['Arn']"
   ]
  },
  {
   "cell_type": "code",
   "execution_count": 40,
   "metadata": {},
   "outputs": [],
   "source": [
    "import datetime\n",
    "import time\n",
    "\n",
    "id = str(datetime.datetime.now().strftime(\"%s\"))\n",
    "\n",
    "training_job = comprehend.create_document_classifier(\n",
    "    DocumentClassifierName='Amazon-Customer-Reviews-Classifier-'+ id,\n",
    "    DataAccessRoleArn=iam_role_comprehend_arn,\n",
    "    InputDataConfig={\n",
    "        'S3Uri': noheader_train_s3_uri\n",
    "    },\n",
    "    OutputDataConfig={\n",
    "        'S3Uri': s3_output_job\n",
    "    },\n",
    "    LanguageCode='en'\n",
    ")\n",
    "\n",
    "time.sleep(30)"
   ]
  },
  {
   "cell_type": "code",
   "execution_count": 41,
   "metadata": {
    "scrolled": true
   },
   "outputs": [
    {
     "name": "stdout",
     "output_type": "stream",
     "text": [
      "Custom classifier: SUBMITTED\n",
      "Custom classifier: SUBMITTED\n",
      "Custom classifier: SUBMITTED\n",
      "Custom classifier: SUBMITTED\n",
      "Custom classifier: SUBMITTED\n",
      "Custom classifier: SUBMITTED\n",
      "Custom classifier: SUBMITTED\n",
      "Custom classifier: SUBMITTED\n",
      "Custom classifier: SUBMITTED\n",
      "Custom classifier: SUBMITTED\n",
      "Custom classifier: TRAINING\n",
      "Custom classifier: TRAINING\n",
      "Custom classifier: TRAINING\n",
      "Custom classifier: TRAINING\n",
      "Custom classifier: TRAINING\n",
      "Custom classifier: TRAINING\n",
      "Custom classifier: TRAINING\n",
      "Custom classifier: TRAINING\n",
      "Custom classifier: TRAINING\n",
      "Custom classifier: TRAINING\n",
      "Custom classifier: TRAINING\n",
      "Custom classifier: TRAINING\n",
      "Custom classifier: TRAINING\n",
      "Custom classifier: TRAINING\n",
      "Custom classifier: TRAINING\n",
      "Custom classifier: TRAINING\n",
      "Custom classifier: TRAINING\n",
      "Custom classifier: TRAINING\n",
      "Custom classifier: TRAINING\n",
      "Custom classifier: TRAINING\n",
      "Custom classifier: TRAINING\n",
      "Custom classifier: TRAINING\n",
      "Custom classifier: TRAINING\n",
      "Custom classifier: TRAINING\n",
      "Custom classifier: TRAINING\n",
      "Custom classifier: TRAINING\n",
      "Custom classifier: TRAINING\n",
      "Custom classifier: TRAINING\n",
      "Custom classifier: TRAINING\n",
      "Custom classifier: TRAINING\n",
      "Custom classifier: TRAINING\n",
      "Custom classifier: TRAINING\n",
      "Custom classifier: TRAINING\n",
      "Custom classifier: TRAINING\n",
      "Custom classifier: TRAINING\n",
      "Custom classifier: TRAINING\n",
      "Custom classifier: TRAINING\n",
      "Custom classifier: TRAINING\n",
      "Custom classifier: TRAINING\n",
      "Custom classifier: TRAINING\n",
      "Custom classifier: TRAINING\n",
      "Custom classifier: TRAINING\n",
      "Custom classifier: TRAINING\n",
      "Custom classifier: TRAINING\n",
      "Custom classifier: TRAINING\n",
      "Custom classifier: TRAINING\n",
      "Custom classifier: TRAINING\n",
      "Custom classifier: TRAINING\n",
      "Custom classifier: TRAINING\n",
      "Custom classifier: TRAINING\n",
      "Custom classifier: TRAINING\n",
      "Custom classifier: TRAINING\n",
      "Custom classifier: TRAINING\n",
      "Custom classifier: TRAINING\n",
      "Custom classifier: TRAINING\n",
      "Custom classifier: TRAINING\n",
      "Custom classifier: TRAINING\n",
      "Custom classifier: TRAINING\n",
      "Custom classifier: TRAINING\n",
      "Custom classifier: TRAINING\n",
      "Custom classifier: TRAINING\n",
      "Custom classifier: TRAINING\n",
      "Custom classifier: TRAINING\n",
      "Custom classifier: TRAINING\n",
      "Custom classifier: TRAINING\n",
      "Custom classifier: TRAINING\n",
      "Custom classifier: TRAINING\n",
      "Custom classifier: TRAINING\n",
      "Custom classifier: TRAINING\n",
      "Custom classifier: TRAINING\n",
      "Custom classifier: TRAINING\n",
      "Custom classifier: TRAINING\n",
      "Custom classifier: TRAINING\n",
      "Custom classifier: TRAINING\n",
      "Custom classifier: TRAINING\n",
      "Custom classifier: TRAINING\n",
      "Custom classifier: TRAINING\n",
      "Custom classifier: TRAINING\n",
      "Custom classifier: TRAINING\n",
      "Custom classifier: TRAINING\n",
      "Custom classifier: TRAINING\n",
      "Custom classifier: TRAINING\n",
      "Custom classifier: TRAINING\n",
      "Custom classifier: TRAINING\n",
      "Custom classifier: TRAINING\n",
      "Custom classifier: TRAINING\n",
      "Custom classifier: TRAINING\n",
      "Custom classifier: TRAINING\n",
      "Custom classifier: TRAINING\n",
      "Custom classifier: TRAINING\n",
      "Custom classifier: TRAINING\n",
      "Custom classifier: TRAINING\n",
      "Custom classifier: TRAINING\n",
      "Custom classifier: TRAINING\n",
      "Custom classifier: TRAINING\n",
      "Custom classifier: TRAINING\n",
      "Custom classifier: TRAINING\n",
      "Custom classifier: TRAINING\n",
      "Custom classifier: TRAINING\n",
      "Custom classifier: TRAINING\n",
      "Custom classifier: TRAINING\n",
      "Custom classifier: TRAINING\n",
      "Custom classifier: TRAINING\n",
      "Custom classifier: TRAINING\n",
      "Custom classifier: TRAINING\n",
      "Custom classifier: TRAINING\n",
      "Custom classifier: TRAINING\n",
      "Custom classifier: TRAINING\n",
      "Custom classifier: TRAINING\n",
      "Custom classifier: TRAINING\n",
      "Custom classifier: TRAINING\n",
      "Custom classifier: TRAINING\n",
      "Custom classifier: TRAINING\n",
      "Custom classifier: TRAINING\n",
      "Custom classifier: TRAINING\n",
      "Custom classifier: TRAINING\n",
      "Custom classifier: TRAINING\n",
      "Custom classifier: TRAINING\n",
      "Custom classifier: TRAINING\n",
      "Custom classifier: TRAINING\n",
      "Custom classifier: TRAINING\n",
      "Custom classifier: TRAINING\n",
      "Custom classifier: TRAINING\n",
      "Custom classifier: TRAINING\n",
      "Custom classifier: TRAINING\n",
      "Custom classifier: TRAINING\n",
      "Custom classifier: TRAINING\n",
      "Custom classifier: TRAINING\n",
      "Custom classifier: TRAINING\n",
      "Custom classifier: TRAINING\n",
      "Custom classifier: TRAINING\n",
      "Custom classifier: TRAINING\n",
      "Custom classifier: TRAINING\n",
      "Custom classifier: TRAINING\n",
      "Custom classifier: TRAINING\n",
      "Custom classifier: TRAINING\n",
      "Custom classifier: TRAINING\n",
      "Custom classifier: TRAINING\n",
      "Custom classifier: TRAINING\n",
      "Custom classifier: TRAINING\n",
      "Custom classifier: TRAINING\n",
      "Custom classifier: TRAINING\n",
      "Custom classifier: TRAINING\n",
      "Custom classifier: TRAINING\n",
      "Custom classifier: TRAINING\n",
      "Custom classifier: TRAINING\n",
      "Custom classifier: TRAINING\n",
      "Custom classifier: TRAINING\n",
      "Custom classifier: TRAINING\n",
      "Custom classifier: TRAINING\n",
      "Custom classifier: TRAINING\n",
      "Custom classifier: TRAINING\n",
      "Custom classifier: TRAINING\n",
      "Custom classifier: TRAINING\n",
      "Custom classifier: TRAINING\n",
      "Custom classifier: TRAINING\n",
      "Custom classifier: TRAINING\n",
      "Custom classifier: TRAINING\n",
      "Custom classifier: TRAINING\n",
      "Custom classifier: TRAINING\n",
      "Custom classifier: TRAINING\n",
      "Custom classifier: TRAINING\n",
      "Custom classifier: TRAINING\n",
      "Custom classifier: TRAINING\n",
      "Custom classifier: TRAINING\n",
      "Custom classifier: TRAINING\n",
      "Custom classifier: TRAINING\n",
      "Custom classifier: TRAINING\n",
      "Custom classifier: TRAINING\n",
      "Custom classifier: TRAINING\n",
      "Custom classifier: TRAINING\n",
      "Custom classifier: TRAINING\n",
      "Custom classifier: TRAINING\n",
      "Custom classifier: TRAINING\n",
      "Custom classifier: TRAINING\n",
      "Custom classifier: TRAINING\n",
      "Custom classifier: TRAINING\n",
      "Custom classifier: TRAINING\n",
      "Custom classifier: TRAINING\n",
      "Custom classifier: TRAINING\n",
      "Custom classifier: TRAINING\n",
      "Custom classifier: TRAINING\n",
      "Custom classifier: TRAINING\n",
      "Custom classifier: TRAINING\n",
      "Custom classifier: TRAINING\n",
      "Custom classifier: TRAINING\n",
      "Custom classifier: TRAINING\n",
      "Custom classifier: TRAINING\n",
      "Custom classifier: TRAINING\n",
      "Custom classifier: TRAINING\n",
      "Custom classifier: TRAINING\n",
      "Custom classifier: TRAINING\n",
      "Custom classifier: TRAINING\n",
      "Custom classifier: TRAINING\n",
      "Custom classifier: TRAINING\n",
      "Custom classifier: TRAINING\n",
      "Custom classifier: TRAINING\n",
      "Custom classifier: TRAINING\n",
      "Custom classifier: TRAINING\n",
      "Custom classifier: TRAINING\n",
      "Custom classifier: TRAINING\n",
      "Custom classifier: TRAINING\n",
      "Custom classifier: TRAINING\n",
      "Custom classifier: TRAINING\n",
      "Custom classifier: TRAINING\n",
      "Custom classifier: TRAINING\n",
      "Custom classifier: TRAINING\n",
      "Custom classifier: TRAINING\n",
      "Custom classifier: TRAINING\n",
      "Custom classifier: TRAINING\n",
      "Custom classifier: TRAINING\n",
      "Custom classifier: TRAINING\n",
      "Custom classifier: TRAINING\n",
      "Custom classifier: TRAINING\n",
      "Custom classifier: TRAINING\n",
      "Custom classifier: TRAINING\n",
      "Custom classifier: TRAINING\n",
      "Custom classifier: TRAINING\n",
      "Custom classifier: TRAINING\n",
      "Custom classifier: TRAINING\n",
      "Custom classifier: TRAINING\n",
      "Custom classifier: TRAINING\n",
      "Custom classifier: TRAINING\n",
      "Custom classifier: TRAINING\n",
      "Custom classifier: TRAINING\n",
      "Custom classifier: TRAINING\n",
      "Custom classifier: TRAINING\n",
      "Custom classifier: TRAINING\n",
      "Custom classifier: TRAINING\n",
      "Custom classifier: TRAINING\n",
      "Custom classifier: TRAINING\n",
      "Custom classifier: TRAINING\n",
      "Custom classifier: TRAINING\n",
      "Custom classifier: TRAINING\n",
      "Custom classifier: TRAINING\n",
      "Custom classifier: TRAINING\n",
      "Custom classifier: TRAINING\n",
      "Custom classifier: TRAINING\n",
      "Custom classifier: TRAINING\n",
      "Custom classifier: TRAINING\n",
      "Custom classifier: TRAINING\n",
      "Custom classifier: TRAINING\n",
      "Custom classifier: TRAINING\n",
      "Custom classifier: TRAINING\n",
      "Custom classifier: TRAINING\n",
      "Custom classifier: TRAINING\n",
      "Custom classifier: TRAINING\n",
      "Custom classifier: TRAINING\n",
      "Custom classifier: TRAINING\n",
      "Custom classifier: TRAINING\n",
      "Custom classifier: TRAINING\n",
      "Custom classifier: TRAINING\n",
      "Custom classifier: TRAINING\n",
      "Custom classifier: TRAINED\n",
      "\n",
      "Status TRAINED\n",
      "\n",
      "{'DocumentClassifierArn': 'arn:aws:comprehend:us-east-2:322537213286:document-classifier/Amazon-Customer-Reviews-Classifier-1594804284', 'LanguageCode': 'en', 'Status': 'TRAINED', 'SubmitTime': datetime.datetime(2020, 7, 15, 9, 11, 24, 610000, tzinfo=tzlocal()), 'EndTime': datetime.datetime(2020, 7, 15, 9, 55, 58, 301000, tzinfo=tzlocal()), 'TrainingStartTime': datetime.datetime(2020, 7, 15, 9, 15, 44, 123000, tzinfo=tzlocal()), 'TrainingEndTime': datetime.datetime(2020, 7, 15, 9, 55, 22, 777000, tzinfo=tzlocal()), 'InputDataConfig': {'S3Uri': 's3://sagemaker-us-east-2-322537213286/data/amazon_reviews_us_Digital_Software_v1_00_noheader.csv'}, 'OutputDataConfig': {'S3Uri': 's3://sagemaker-experiments-us-east-2-322537213286/models/comprehend/output/322537213286-CLR-6c79ccfb64d6c02fa039cd892eecde3e/output/output.tar.gz'}, 'ClassifierMetadata': {'NumberOfLabels': 5, 'NumberOfTrainedDocuments': 27905, 'NumberOfTestDocuments': 3100, 'EvaluationMetrics': {'Accuracy': 0.5561, 'Precision': 0.5529, 'Recall': 0.5561, 'F1Score': 0.5542, 'MicroPrecision': 0.5561, 'MicroRecall': 0.5561, 'MicroF1Score': 0.5561, 'HammingLoss': 0.4439}}, 'DataAccessRoleArn': 'arn:aws:iam::322537213286:role/aws_sm_hol_Comprehend', 'Mode': 'MULTI_CLASS'}\n"
     ]
    }
   ],
   "source": [
    "import time\n",
    "\n",
    "jobArn = training_job['DocumentClassifierArn']\n",
    "\n",
    "max_time = time.time() + 3 * 60 * 60 # 3 hours\n",
    "while time.time() < max_time:\n",
    "    describe_custom_classifier = comprehend.describe_document_classifier(\n",
    "        DocumentClassifierArn = jobArn\n",
    "    )\n",
    "    status = describe_custom_classifier[\"DocumentClassifierProperties\"][\"Status\"]\n",
    "    print(\"Custom classifier: {}\".format(status))\n",
    "    \n",
    "    if status == \"TRAINED\" or status == \"IN_ERROR\":\n",
    "        print('')\n",
    "        print('Status {}'.format(status))\n",
    "        print('')\n",
    "        print(describe_custom_classifier[\"DocumentClassifierProperties\"])\n",
    "        break\n",
    "        \n",
    "    time.sleep(10)"
   ]
  },
  {
   "cell_type": "markdown",
   "metadata": {},
   "source": [
    "<h2><span style=\"color:red\">위 Classifier가 완료되기 전까지 기다려 주시기 바랍니다.</span></h2>"
   ]
  },
  {
   "cell_type": "markdown",
   "metadata": {},
   "source": [
    "# Show Results of the Classifier"
   ]
  },
  {
   "cell_type": "code",
   "execution_count": 42,
   "metadata": {},
   "outputs": [
    {
     "name": "stdout",
     "output_type": "stream",
     "text": [
      "{'DocumentClassifierArn': 'arn:aws:comprehend:us-east-2:322537213286:document-classifier/Amazon-Customer-Reviews-Classifier-1594804284', 'LanguageCode': 'en', 'Status': 'TRAINED', 'SubmitTime': datetime.datetime(2020, 7, 15, 9, 11, 24, 610000, tzinfo=tzlocal()), 'EndTime': datetime.datetime(2020, 7, 15, 9, 55, 58, 301000, tzinfo=tzlocal()), 'TrainingStartTime': datetime.datetime(2020, 7, 15, 9, 15, 44, 123000, tzinfo=tzlocal()), 'TrainingEndTime': datetime.datetime(2020, 7, 15, 9, 55, 22, 777000, tzinfo=tzlocal()), 'InputDataConfig': {'S3Uri': 's3://sagemaker-us-east-2-322537213286/data/amazon_reviews_us_Digital_Software_v1_00_noheader.csv'}, 'OutputDataConfig': {'S3Uri': 's3://sagemaker-experiments-us-east-2-322537213286/models/comprehend/output/322537213286-CLR-6c79ccfb64d6c02fa039cd892eecde3e/output/output.tar.gz'}, 'ClassifierMetadata': {'NumberOfLabels': 5, 'NumberOfTrainedDocuments': 27905, 'NumberOfTestDocuments': 3100, 'EvaluationMetrics': {'Accuracy': 0.5561, 'Precision': 0.5529, 'Recall': 0.5561, 'F1Score': 0.5542, 'MicroPrecision': 0.5561, 'MicroRecall': 0.5561, 'MicroF1Score': 0.5561, 'HammingLoss': 0.4439}}, 'DataAccessRoleArn': 'arn:aws:iam::322537213286:role/aws_sm_hol_Comprehend', 'Mode': 'MULTI_CLASS'}\n"
     ]
    }
   ],
   "source": [
    "print(describe_custom_classifier[\"DocumentClassifierProperties\"])"
   ]
  },
  {
   "cell_type": "code",
   "execution_count": 43,
   "metadata": {},
   "outputs": [
    {
     "name": "stdout",
     "output_type": "stream",
     "text": [
      "arn:aws:comprehend:us-east-2:322537213286:document-classifier/Amazon-Customer-Reviews-Classifier-1594804284\n"
     ]
    }
   ],
   "source": [
    "model_arn = describe_custom_classifier[\"DocumentClassifierProperties\"][\"DocumentClassifierArn\"]\n",
    "print(model_arn)"
   ]
  },
  {
   "cell_type": "code",
   "execution_count": 46,
   "metadata": {},
   "outputs": [
    {
     "name": "stdout",
     "output_type": "stream",
     "text": [
      "s3://sagemaker-experiments-us-east-2-322537213286/models/comprehend/output/322537213286-CLR-6c79ccfb64d6c02fa039cd892eecde3e/output/output.tar.gz\n",
      "models/comprehend/output/322537213286-CLR-6c79ccfb64d6c02fa039cd892eecde3e/output/output.tar.gz\n"
     ]
    }
   ],
   "source": [
    "import os\n",
    "#Retrieve the S3URI from the model output and create jobkey variable.\n",
    "job_output = describe_custom_classifier[\"DocumentClassifierProperties\"][\"OutputDataConfig\"][\"S3Uri\"]\n",
    "print(job_output)\n",
    "\n",
    "path_prefix = 's3://{}/'.format(job_bucket)\n",
    "\n",
    "job_key = os.path.relpath(job_output, path_prefix)\n",
    "\n",
    "print(job_key)"
   ]
  },
  {
   "cell_type": "code",
   "execution_count": 48,
   "metadata": {},
   "outputs": [],
   "source": [
    "#Download the model metrics\n",
    "s3 = boto3.resource('s3')\n",
    "\n",
    "s3.Bucket(job_bucket).download_file(job_key, './output.tar.gz')"
   ]
  },
  {
   "cell_type": "code",
   "execution_count": 49,
   "metadata": {},
   "outputs": [
    {
     "name": "stdout",
     "output_type": "stream",
     "text": [
      "output/\r\n",
      "output/confusion_matrix.json\r\n"
     ]
    }
   ],
   "source": [
    "#Unpack the gzip file\n",
    "!tar xvzf ./output.tar.gz"
   ]
  },
  {
   "cell_type": "code",
   "execution_count": 50,
   "metadata": {},
   "outputs": [
    {
     "name": "stdout",
     "output_type": "stream",
     "text": [
      "{\n",
      "  \"confusion_matrix\": [\n",
      "    [\n",
      "      412,\n",
      "      132,\n",
      "      51,\n",
      "      13,\n",
      "      12\n",
      "    ],\n",
      "    [\n",
      "      147,\n",
      "      273,\n",
      "      147,\n",
      "      40,\n",
      "      13\n",
      "    ],\n",
      "    [\n",
      "      62,\n",
      "      139,\n",
      "      298,\n",
      "      95,\n",
      "      26\n",
      "    ],\n",
      "    [\n",
      "      12,\n",
      "      30,\n",
      "      102,\n",
      "      305,\n",
      "      171\n",
      "    ],\n",
      "    [\n",
      "      9,\n",
      "      9,\n",
      "      26,\n",
      "      140,\n",
      "      436\n",
      "    ]\n",
      "  ],\n",
      "  \"labels\": [\n",
      "    \"1\",\n",
      "    \"2\",\n",
      "    \"3\",\n",
      "    \"4\",\n",
      "    \"5\"\n",
      "  ],\n",
      "  \"type\": \"multi_class\",\n",
      "  \"all_labels\": [\n",
      "    \"1\",\n",
      "    \"2\",\n",
      "    \"3\",\n",
      "    \"4\",\n",
      "    \"5\"\n",
      "  ]\n",
      "}\n"
     ]
    }
   ],
   "source": [
    "import json\n",
    "\n",
    "with open('./output/confusion_matrix.json') as json_file:\n",
    "    data = json.load(json_file)\n",
    "print(json.dumps(data, indent=2, default=str))"
   ]
  },
  {
   "cell_type": "code",
   "execution_count": 55,
   "metadata": {},
   "outputs": [
    {
     "name": "stdout",
     "output_type": "stream",
     "text": [
      "Requirement already satisfied: tabulate in /home/ec2-user/anaconda3/envs/python3/lib/python3.6/site-packages (0.8.7)\r\n"
     ]
    }
   ],
   "source": [
    "!{sys.executable} -m pip install tabulate"
   ]
  },
  {
   "cell_type": "code",
   "execution_count": 56,
   "metadata": {},
   "outputs": [
    {
     "data": {
      "text/html": [
       "<table>\n",
       "<tbody>\n",
       "<tr><td>        </td><td style=\"text-align: right;\">  1</td><td style=\"text-align: right;\">  2</td><td style=\"text-align: right;\">  3</td><td style=\"text-align: right;\">  4</td><td style=\"text-align: right;\">  5</td><td>(Predicted)</td></tr>\n",
       "<tr><td>1       </td><td style=\"text-align: right;\">412</td><td style=\"text-align: right;\">132</td><td style=\"text-align: right;\"> 51</td><td style=\"text-align: right;\"> 13</td><td style=\"text-align: right;\"> 12</td><td>           </td></tr>\n",
       "<tr><td>2       </td><td style=\"text-align: right;\">147</td><td style=\"text-align: right;\">273</td><td style=\"text-align: right;\">147</td><td style=\"text-align: right;\"> 40</td><td style=\"text-align: right;\"> 13</td><td>           </td></tr>\n",
       "<tr><td>3       </td><td style=\"text-align: right;\"> 62</td><td style=\"text-align: right;\">139</td><td style=\"text-align: right;\">298</td><td style=\"text-align: right;\"> 95</td><td style=\"text-align: right;\"> 26</td><td>           </td></tr>\n",
       "<tr><td>4       </td><td style=\"text-align: right;\"> 12</td><td style=\"text-align: right;\"> 30</td><td style=\"text-align: right;\">102</td><td style=\"text-align: right;\">305</td><td style=\"text-align: right;\">171</td><td>           </td></tr>\n",
       "<tr><td>5       </td><td style=\"text-align: right;\">  9</td><td style=\"text-align: right;\">  9</td><td style=\"text-align: right;\"> 26</td><td style=\"text-align: right;\">140</td><td style=\"text-align: right;\">436</td><td>           </td></tr>\n",
       "<tr><td>(Actual)</td><td style=\"text-align: right;\">   </td><td style=\"text-align: right;\">   </td><td style=\"text-align: right;\">   </td><td style=\"text-align: right;\">   </td><td style=\"text-align: right;\">   </td><td>           </td></tr>\n",
       "</tbody>\n",
       "</table>"
      ],
      "text/plain": [
       "<IPython.core.display.HTML object>"
      ]
     },
     "metadata": {},
     "output_type": "display_data"
    }
   ],
   "source": [
    "from IPython.display import HTML, display\n",
    "import tabulate\n",
    "table = [['', '1', '2', '3', '4', '5', '(Predicted)'],\n",
    "         ['1', data['confusion_matrix'][0][0], data['confusion_matrix'][0][1], data['confusion_matrix'][0][2], data['confusion_matrix'][0][3], data['confusion_matrix'][0][4]],\n",
    "         ['2', data['confusion_matrix'][1][0], data['confusion_matrix'][1][1], data['confusion_matrix'][1][2], data['confusion_matrix'][1][3], data['confusion_matrix'][1][4]],\n",
    "         ['3', data['confusion_matrix'][2][0], data['confusion_matrix'][2][1], data['confusion_matrix'][2][2], data['confusion_matrix'][2][3], data['confusion_matrix'][2][4]],\n",
    "         ['4', data['confusion_matrix'][3][0], data['confusion_matrix'][3][1], data['confusion_matrix'][3][2], data['confusion_matrix'][3][3], data['confusion_matrix'][3][4]],\n",
    "         ['5', data['confusion_matrix'][4][0], data['confusion_matrix'][4][1], data['confusion_matrix'][4][2], data['confusion_matrix'][4][3], data['confusion_matrix'][4][4]],\n",
    "         ['(Actual)']]\n",
    "display(HTML(tabulate.tabulate(table, tablefmt='html')))"
   ]
  },
  {
   "cell_type": "markdown",
   "metadata": {},
   "source": [
    "# Deploy Endpoint"
   ]
  },
  {
   "cell_type": "code",
   "execution_count": 57,
   "metadata": {},
   "outputs": [],
   "source": [
    "from time import gmtime, strftime, sleep\n",
    "timestamp_suffix = strftime('%d-%H-%M-%S', gmtime())\n",
    "\n",
    "comprehend_endpoint_name = 'comprehend-inference-ep-' + timestamp_suffix\n",
    "\n",
    "inference_endpoint_response = comprehend.create_endpoint(\n",
    "    EndpointName=comprehend_endpoint_name,\n",
    "    ModelArn = model_arn,\n",
    "    DesiredInferenceUnits = 1\n",
    ")"
   ]
  },
  {
   "cell_type": "code",
   "execution_count": 58,
   "metadata": {
    "scrolled": true
   },
   "outputs": [
    {
     "name": "stdout",
     "output_type": "stream",
     "text": [
      "arn:aws:comprehend:us-east-2:322537213286:document-classifier-endpoint/comprehend-inference-ep-15-10-45-14\n"
     ]
    }
   ],
   "source": [
    "comprehend_endpoint_arn = inference_endpoint_response[\"EndpointArn\"]\n",
    "print(comprehend_endpoint_arn)"
   ]
  },
  {
   "cell_type": "markdown",
   "metadata": {},
   "source": [
    "# Pass Variables to the Next Notebook(s)"
   ]
  },
  {
   "cell_type": "code",
   "execution_count": 59,
   "metadata": {},
   "outputs": [
    {
     "name": "stdout",
     "output_type": "stream",
     "text": [
      "Stored 'comprehend_endpoint_arn' (str)\n"
     ]
    }
   ],
   "source": [
    "%store comprehend_endpoint_arn"
   ]
  },
  {
   "cell_type": "markdown",
   "metadata": {},
   "source": [
    "# Predict with Endpoint"
   ]
  },
  {
   "cell_type": "code",
   "execution_count": 60,
   "metadata": {},
   "outputs": [
    {
     "name": "stdout",
     "output_type": "stream",
     "text": [
      "{'EndpointProperties': {'EndpointArn': 'arn:aws:comprehend:us-east-2:322537213286:document-classifier-endpoint/comprehend-inference-ep-15-10-45-14', 'Status': 'CREATING', 'ModelArn': 'arn:aws:comprehend:us-east-2:322537213286:document-classifier/Amazon-Customer-Reviews-Classifier-1594804284', 'DesiredInferenceUnits': 1, 'CurrentInferenceUnits': 0, 'CreationTime': datetime.datetime(2020, 7, 15, 10, 45, 15, 66000, tzinfo=tzlocal()), 'LastModifiedTime': datetime.datetime(2020, 7, 15, 10, 45, 15, 66000, tzinfo=tzlocal())}, 'ResponseMetadata': {'RequestId': '11f37d32-1546-448d-9cb8-e7ad6484b5bd', 'HTTPStatusCode': 200, 'HTTPHeaders': {'x-amzn-requestid': '11f37d32-1546-448d-9cb8-e7ad6484b5bd', 'content-type': 'application/x-amz-json-1.1', 'content-length': '408', 'date': 'Wed, 15 Jul 2020 10:45:22 GMT'}, 'RetryAttempts': 0}}\n"
     ]
    }
   ],
   "source": [
    "describe_response = comprehend.describe_endpoint(\n",
    "    EndpointArn = comprehend_endpoint_arn\n",
    ")\n",
    "print(describe_response)"
   ]
  },
  {
   "cell_type": "code",
   "execution_count": 61,
   "metadata": {},
   "outputs": [
    {
     "name": "stdout",
     "output_type": "stream",
     "text": [
      "Endpoint: CREATING\n",
      "Endpoint: CREATING\n",
      "Endpoint: CREATING\n",
      "Endpoint: CREATING\n",
      "Endpoint: CREATING\n",
      "Endpoint: CREATING\n",
      "Endpoint: CREATING\n",
      "Endpoint: CREATING\n",
      "Endpoint: CREATING\n",
      "Endpoint: CREATING\n",
      "Endpoint: CREATING\n",
      "Endpoint: CREATING\n",
      "Endpoint: CREATING\n",
      "Endpoint: CREATING\n",
      "Endpoint: CREATING\n",
      "Endpoint: CREATING\n",
      "Endpoint: CREATING\n",
      "Endpoint: CREATING\n",
      "Endpoint: CREATING\n",
      "Endpoint: CREATING\n",
      "Endpoint: CREATING\n",
      "Endpoint: CREATING\n",
      "Endpoint: CREATING\n",
      "Endpoint: CREATING\n",
      "Endpoint: CREATING\n",
      "Endpoint: CREATING\n",
      "Endpoint: CREATING\n",
      "Endpoint: CREATING\n",
      "Endpoint: CREATING\n",
      "Endpoint: CREATING\n",
      "Endpoint: CREATING\n",
      "Endpoint: CREATING\n",
      "Endpoint: CREATING\n",
      "Endpoint: CREATING\n",
      "Endpoint: CREATING\n",
      "Endpoint: CREATING\n",
      "Endpoint: CREATING\n",
      "Endpoint: CREATING\n",
      "Endpoint: CREATING\n",
      "Endpoint: CREATING\n",
      "Endpoint: CREATING\n",
      "Endpoint: CREATING\n",
      "Endpoint: CREATING\n",
      "Endpoint: CREATING\n",
      "Endpoint: CREATING\n",
      "Endpoint: CREATING\n",
      "Endpoint: CREATING\n",
      "Endpoint: CREATING\n",
      "Endpoint: CREATING\n",
      "Endpoint: CREATING\n",
      "Endpoint: CREATING\n",
      "Endpoint: CREATING\n",
      "Endpoint: CREATING\n",
      "Endpoint: CREATING\n",
      "Endpoint: CREATING\n",
      "Endpoint: CREATING\n",
      "Endpoint: CREATING\n",
      "Endpoint: CREATING\n",
      "Endpoint: CREATING\n",
      "Endpoint: CREATING\n",
      "Endpoint: CREATING\n",
      "Endpoint: CREATING\n",
      "Endpoint: CREATING\n",
      "Endpoint: CREATING\n",
      "Endpoint: CREATING\n",
      "Endpoint: CREATING\n",
      "Endpoint: CREATING\n",
      "Endpoint: CREATING\n",
      "Endpoint: CREATING\n",
      "Endpoint: CREATING\n",
      "Endpoint: CREATING\n",
      "Endpoint: CREATING\n",
      "Endpoint: CREATING\n",
      "Endpoint: CREATING\n",
      "Endpoint: CREATING\n",
      "Endpoint: CREATING\n",
      "Endpoint: CREATING\n",
      "Endpoint: CREATING\n",
      "Endpoint: CREATING\n",
      "Endpoint: CREATING\n",
      "Endpoint: CREATING\n",
      "Endpoint: CREATING\n",
      "Endpoint: CREATING\n",
      "Endpoint: CREATING\n",
      "Endpoint: CREATING\n",
      "Endpoint: CREATING\n",
      "Endpoint: CREATING\n",
      "Endpoint: CREATING\n",
      "Endpoint: CREATING\n",
      "Endpoint: CREATING\n",
      "Endpoint: CREATING\n",
      "Endpoint: CREATING\n",
      "Endpoint: CREATING\n",
      "Endpoint: CREATING\n",
      "Endpoint: CREATING\n",
      "Endpoint: CREATING\n",
      "Endpoint: CREATING\n",
      "Endpoint: CREATING\n",
      "Endpoint: CREATING\n",
      "Endpoint: CREATING\n",
      "Endpoint: CREATING\n",
      "Endpoint: CREATING\n",
      "Endpoint: CREATING\n",
      "Endpoint: CREATING\n",
      "Endpoint: CREATING\n",
      "Endpoint: CREATING\n",
      "Endpoint: CREATING\n",
      "Endpoint: CREATING\n",
      "Endpoint: CREATING\n",
      "Endpoint: CREATING\n",
      "Endpoint: CREATING\n",
      "Endpoint: CREATING\n",
      "Endpoint: CREATING\n",
      "Endpoint: CREATING\n",
      "Endpoint: CREATING\n",
      "Endpoint: CREATING\n",
      "Endpoint: CREATING\n",
      "Endpoint: CREATING\n",
      "Endpoint: CREATING\n",
      "Endpoint: CREATING\n",
      "Endpoint: CREATING\n",
      "Endpoint: CREATING\n",
      "Endpoint: CREATING\n",
      "Endpoint: IN_SERVICE\n"
     ]
    }
   ],
   "source": [
    "import time\n",
    "\n",
    "max_time = time.time() + 3*60*60 # 3 hours\n",
    "while time.time() < max_time:\n",
    "    describe_response = comprehend.describe_endpoint(\n",
    "        EndpointArn = comprehend_endpoint_arn\n",
    "    )\n",
    "    status = describe_response[\"EndpointProperties\"][\"Status\"]\n",
    "    print(\"Endpoint: {}\".format(status))\n",
    "    \n",
    "    if status == \"IN_SERVICE\" or status == \"IN_ERROR\":\n",
    "        break\n",
    "        \n",
    "    time.sleep(5)"
   ]
  },
  {
   "cell_type": "code",
   "execution_count": 62,
   "metadata": {},
   "outputs": [
    {
     "name": "stdout",
     "output_type": "stream",
     "text": [
      "{\n",
      "  \"Classes\": [\n",
      "    {\n",
      "      \"Name\": \"5\",\n",
      "      \"Score\": 0.9035000205039978\n",
      "    },\n",
      "    {\n",
      "      \"Name\": \"4\",\n",
      "      \"Score\": 0.07039999961853027\n",
      "    },\n",
      "    {\n",
      "      \"Name\": \"1\",\n",
      "      \"Score\": 0.010400000028312206\n",
      "    }\n",
      "  ],\n",
      "  \"ResponseMetadata\": {\n",
      "    \"RequestId\": \"a333a279-f02f-4f75-980f-37011d67d654\",\n",
      "    \"HTTPStatusCode\": 200,\n",
      "    \"HTTPHeaders\": {\n",
      "      \"x-amzn-requestid\": \"a333a279-f02f-4f75-980f-37011d67d654\",\n",
      "      \"content-type\": \"application/x-amz-json-1.1\",\n",
      "      \"content-length\": \"136\",\n",
      "      \"date\": \"Wed, 15 Jul 2020 10:55:41 GMT\"\n",
      "    },\n",
      "    \"RetryAttempts\": 0\n",
      "  }\n",
      "}\n"
     ]
    }
   ],
   "source": [
    "txt = \"\"\"I loved it!  I will recommend this to everyone.\"\"\"\n",
    "\n",
    "response = comprehend.classify_document(\n",
    "    Text= txt,\n",
    "    EndpointArn = comprehend_endpoint_arn\n",
    ")\n",
    "\n",
    "import json\n",
    "print(json.dumps(response, indent=2, default=str))"
   ]
  },
  {
   "cell_type": "code",
   "execution_count": 63,
   "metadata": {},
   "outputs": [
    {
     "name": "stdout",
     "output_type": "stream",
     "text": [
      "{\n",
      "  \"Classes\": [\n",
      "    {\n",
      "      \"Name\": \"3\",\n",
      "      \"Score\": 0.7032999992370605\n",
      "    },\n",
      "    {\n",
      "      \"Name\": \"4\",\n",
      "      \"Score\": 0.11869999766349792\n",
      "    },\n",
      "    {\n",
      "      \"Name\": \"2\",\n",
      "      \"Score\": 0.09589999914169312\n",
      "    }\n",
      "  ],\n",
      "  \"ResponseMetadata\": {\n",
      "    \"RequestId\": \"8db42677-8878-4cae-8c53-a140946d19cd\",\n",
      "    \"HTTPStatusCode\": 200,\n",
      "    \"HTTPHeaders\": {\n",
      "      \"x-amzn-requestid\": \"8db42677-8878-4cae-8c53-a140946d19cd\",\n",
      "      \"content-type\": \"application/x-amz-json-1.1\",\n",
      "      \"content-length\": \"135\",\n",
      "      \"date\": \"Wed, 15 Jul 2020 10:55:41 GMT\"\n",
      "    },\n",
      "    \"RetryAttempts\": 0\n",
      "  }\n",
      "}\n"
     ]
    }
   ],
   "source": [
    "txt = \"\"\"It's OK.\"\"\"\n",
    "\n",
    "response = comprehend.classify_document(\n",
    "    Text= txt,\n",
    "    EndpointArn = comprehend_endpoint_arn\n",
    ")\n",
    "\n",
    "import json\n",
    "print(json.dumps(response, indent=2, default=str))"
   ]
  },
  {
   "cell_type": "code",
   "execution_count": 64,
   "metadata": {},
   "outputs": [
    {
     "name": "stdout",
     "output_type": "stream",
     "text": [
      "{\n",
      "  \"Classes\": [\n",
      "    {\n",
      "      \"Name\": \"1\",\n",
      "      \"Score\": 0.38119998574256897\n",
      "    },\n",
      "    {\n",
      "      \"Name\": \"2\",\n",
      "      \"Score\": 0.3174999952316284\n",
      "    },\n",
      "    {\n",
      "      \"Name\": \"3\",\n",
      "      \"Score\": 0.22840000689029694\n",
      "    }\n",
      "  ],\n",
      "  \"ResponseMetadata\": {\n",
      "    \"RequestId\": \"cb6add5b-a43b-4dc8-ae15-086e7cdd8d39\",\n",
      "    \"HTTPStatusCode\": 200,\n",
      "    \"HTTPHeaders\": {\n",
      "      \"x-amzn-requestid\": \"cb6add5b-a43b-4dc8-ae15-086e7cdd8d39\",\n",
      "      \"content-type\": \"application/x-amz-json-1.1\",\n",
      "      \"content-length\": \"135\",\n",
      "      \"date\": \"Wed, 15 Jul 2020 10:55:42 GMT\"\n",
      "    },\n",
      "    \"RetryAttempts\": 0\n",
      "  }\n",
      "}\n"
     ]
    }
   ],
   "source": [
    "txt = \"\"\"Really bad.  I hope they don't make this anymore.\"\"\"\n",
    "\n",
    "response = comprehend.classify_document(\n",
    "    Text= txt,\n",
    "    EndpointArn = comprehend_endpoint_arn\n",
    ")\n",
    "\n",
    "import json\n",
    "print(json.dumps(response, indent=2, default=str))"
   ]
  },
  {
   "cell_type": "markdown",
   "metadata": {},
   "source": [
    "# Navigate to Comprehend in the AWS Console\n",
    "![Comprehend Console](img/comprehend-console.png)"
   ]
  },
  {
   "cell_type": "code",
   "execution_count": null,
   "metadata": {},
   "outputs": [],
   "source": []
  }
 ],
 "metadata": {
  "kernelspec": {
   "display_name": "conda_python3",
   "language": "python",
   "name": "conda_python3"
  },
  "language_info": {
   "codemirror_mode": {
    "name": "ipython",
    "version": 3
   },
   "file_extension": ".py",
   "mimetype": "text/x-python",
   "name": "python",
   "nbconvert_exporter": "python",
   "pygments_lexer": "ipython3",
   "version": "3.6.10"
  }
 },
 "nbformat": 4,
 "nbformat_minor": 4
}
