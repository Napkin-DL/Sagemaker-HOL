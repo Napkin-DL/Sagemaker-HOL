{
 "cells": [
  {
   "cell_type": "markdown",
   "metadata": {},
   "source": [
    "# 1. Setup Amazon Athena\n",
    "\n",
    "Amazon Athena에서는 interactive query service 제공합니다. 표준 SQL을 사용하여 Amazon S3에서 데이터를 분석하는 것이 쉽게 합니다. Athena는 serverless이므로 관리를 위한 infrastructure가 필요없으며, queries한 부분에 대해 비용이 과금됩니다.\n",
    "\n",
    "Athena는 Presto 기반으로, CSV, JSON, Avro 외에도 Apache Parquet와 Apache ORC 와 같은 columnar data도 지원합니다.\n",
    "\n",
    "Presto는 모든 크기의 데이터에 대해 빠른 분석 쿼리를 위해 개발 된 오픈 소스 분산 SQL 쿼리 엔진입니다. 데이터를 이동할 필요없이 저장된 위치의 데이터를 쿼리 할 수 있습니다. 쿼리 실행은 순수한 메모리 기반 아키텍처에서 병렬로 실행되므로 Presto가 매우 빠릅니다.\n"
   ]
  },
  {
   "cell_type": "code",
   "execution_count": 1,
   "metadata": {},
   "outputs": [],
   "source": [
    "%store -r"
   ]
  },
  {
   "cell_type": "code",
   "execution_count": 2,
   "metadata": {},
   "outputs": [],
   "source": [
    "import sys\n",
    "import boto3"
   ]
  },
  {
   "cell_type": "markdown",
   "metadata": {},
   "source": [
    "<p>SageMaker에서 앞으로 사용할 SageMaker Session 설정, Role 정보를 설정합니다. </p>"
   ]
  },
  {
   "cell_type": "code",
   "execution_count": 3,
   "metadata": {},
   "outputs": [],
   "source": [
    "sess = boto3.Session()\n",
    "sm = sess.client('sagemaker')"
   ]
  },
  {
   "cell_type": "markdown",
   "metadata": {},
   "source": [
    "## 1 ) Install PyAthena\n",
    "\n",
    "[PyAthena](https://pypi.org/project/PyAthena/) 는 Amazon Athena용 Python DB API 2.0 (PEP 249) 호환 클라이언트 입니다."
   ]
  },
  {
   "cell_type": "code",
   "execution_count": 4,
   "metadata": {},
   "outputs": [],
   "source": [
    "# Install PyAthena\n",
    "!{sys.executable} -m pip install -q --upgrade pip\n",
    "!{sys.executable} -m pip install -q PyAthena==1.10.7"
   ]
  },
  {
   "cell_type": "code",
   "execution_count": 5,
   "metadata": {},
   "outputs": [],
   "source": [
    "from pyathena import connect\n",
    "from pyathena.pandas_cursor import PandasCursor\n",
    "from pyathena.util import as_pandas"
   ]
  },
  {
   "cell_type": "markdown",
   "metadata": {},
   "source": [
    "## 2 ) Create Athena Database"
   ]
  },
  {
   "cell_type": "code",
   "execution_count": 6,
   "metadata": {},
   "outputs": [
    {
     "name": "stdout",
     "output_type": "stream",
     "text": [
      "delete: s3://sagemaker-us-east-1-322537213286/amazon-reviews-pds/parquet/product_category=Digital_Video_Games/20201207_130433_00100_twaes_39b672e4-be08-4a9a-8752-16de7435a806\n",
      "delete: s3://sagemaker-us-east-1-322537213286/amazon-reviews-pds/parquet/product_category=Digital_Software/20201207_130433_00100_twaes_a405c838-6837-49a3-9982-f65be2ebe4b2\n",
      "delete: s3://sagemaker-us-east-1-322537213286/amazon-reviews-pds/parquet/product_category=Digital_Video_Games/20201207_130433_00100_twaes_92863409-f3a2-4dee-a807-f7f6a7af12b3\n",
      "delete: s3://sagemaker-us-east-1-322537213286/amazon-reviews-pds/parquet/product_category=Digital_Software/20201207_130433_00100_twaes_00771bd1-0d08-4019-94c9-2b56137e19d1\n",
      "delete: s3://sagemaker-us-east-1-322537213286/amazon-reviews-pds/parquet/product_category=Digital_Software/20201207_130433_00100_twaes_91d254e4-6c69-4e22-97ce-55790579e231\n",
      "delete: s3://sagemaker-us-east-1-322537213286/amazon-reviews-pds/parquet/product_category=Digital_Video_Games/20201207_130433_00100_twaes_d792463c-de02-44f5-839c-2cfd4cf8bb45\n",
      "delete: s3://sagemaker-us-east-1-322537213286/amazon-reviews-pds/parquet/product_category=Digital_Software/20201207_130433_00100_twaes_35793b30-0bda-4cd2-875d-abb143db71f7\n",
      "delete: s3://sagemaker-experiments-us-east-1-322537213286/athena/staging/1b42c9b1-7073-4fee-a1ec-85acc97b3994.csv\n",
      "delete: s3://sagemaker-experiments-us-east-1-322537213286/athena/staging/3c2bc4d2-b192-493c-be7a-0b3374a89f06.csv\n",
      "delete: s3://sagemaker-experiments-us-east-1-322537213286/athena/staging/1b42c9b1-7073-4fee-a1ec-85acc97b3994.csv.metadata\n",
      "delete: s3://sagemaker-experiments-us-east-1-322537213286/athena/staging/3c2bc4d2-b192-493c-be7a-0b3374a89f06.csv.metadata\n",
      "delete: s3://sagemaker-experiments-us-east-1-322537213286/athena/staging/78978fc9-55e2-4043-b94c-52f22ca27f6d.txt.metadata\n",
      "delete: s3://sagemaker-experiments-us-east-1-322537213286/athena/staging/4a2bbd21-fcd2-40a6-9147-3ab35b036b56.txt\n",
      "delete: s3://sagemaker-experiments-us-east-1-322537213286/athena/staging/814c4fb0-d643-4abe-9ef8-11a733cbcc21.csv\n",
      "delete: s3://sagemaker-experiments-us-east-1-322537213286/athena/staging/814c4fb0-d643-4abe-9ef8-11a733cbcc21.csv.metadata\n",
      "delete: s3://sagemaker-experiments-us-east-1-322537213286/athena/staging/78978fc9-55e2-4043-b94c-52f22ca27f6d.txt\n",
      "delete: s3://sagemaker-experiments-us-east-1-322537213286/athena/staging/8760de78-3c37-405d-86a1-2bb03a1d5bbc.txt.metadata\n",
      "delete: s3://sagemaker-experiments-us-east-1-322537213286/athena/staging/70f2b328-8629-4643-94d0-567c01308834.csv.metadata\n",
      "delete: s3://sagemaker-experiments-us-east-1-322537213286/athena/staging/8a434a05-a066-43f6-8748-f6c7f638605a.txt.metadata\n",
      "delete: s3://sagemaker-experiments-us-east-1-322537213286/athena/staging/8760de78-3c37-405d-86a1-2bb03a1d5bbc.txt\n",
      "delete: s3://sagemaker-experiments-us-east-1-322537213286/athena/staging/a6c04ae4-8094-49d8-8f36-babb50388507.csv\n",
      "delete: s3://sagemaker-experiments-us-east-1-322537213286/athena/staging/6a39ccb9-59f5-4948-b0f3-015bc9ba82d6.csv\n",
      "delete: s3://sagemaker-experiments-us-east-1-322537213286/athena/staging/6a39ccb9-59f5-4948-b0f3-015bc9ba82d6.csv.metadata\n",
      "delete: s3://sagemaker-experiments-us-east-1-322537213286/athena/staging/a6c04ae4-8094-49d8-8f36-babb50388507.csv.metadata\n",
      "delete: s3://sagemaker-experiments-us-east-1-322537213286/athena/staging/b8568e9b-c160-42e9-beaf-7f2c467a647f.csv\n",
      "delete: s3://sagemaker-experiments-us-east-1-322537213286/athena/staging/d3b38fcd-af37-4d5c-bfcc-f67e252e6614.csv.metadata\n",
      "delete: s3://sagemaker-experiments-us-east-1-322537213286/athena/staging/bcdf0c6e-6891-4a0b-a6c8-fe3c2fc50d45.csv\n",
      "delete: s3://sagemaker-experiments-us-east-1-322537213286/athena/staging/e62a04b8-071a-4609-a9d7-003e7188ec0c.txt\n",
      "delete: s3://sagemaker-experiments-us-east-1-322537213286/athena/staging/70f2b328-8629-4643-94d0-567c01308834.csv\n",
      "delete: s3://sagemaker-experiments-us-east-1-322537213286/athena/staging/ebbe4608-d98c-44e1-846c-c0ed5c8c6cd6.txt\n",
      "delete: s3://sagemaker-experiments-us-east-1-322537213286/athena/staging/ee144e30-68a5-44f5-9f6b-4d734afd1342.txt\n",
      "delete: s3://sagemaker-experiments-us-east-1-322537213286/athena/staging/tables/433f11b2-dcb7-4045-80c9-736b7f640b78.metadata\n",
      "delete: s3://sagemaker-experiments-us-east-1-322537213286/athena/staging/tables/433f11b2-dcb7-4045-80c9-736b7f640b78/20201207_134818_00103_ia8wx_743c0793-a73f-4e06-a65f-058834402794\n",
      "delete: s3://sagemaker-experiments-us-east-1-322537213286/athena/staging/e4f5a5d7-d426-4455-b411-a33d92d6515d.txt\n",
      "delete: s3://sagemaker-experiments-us-east-1-322537213286/athena/staging/tables/433f11b2-dcb7-4045-80c9-736b7f640b78-manifest.csv\n",
      "delete: s3://sagemaker-experiments-us-east-1-322537213286/athena/staging/8a434a05-a066-43f6-8748-f6c7f638605a.txt\n",
      "delete: s3://sagemaker-experiments-us-east-1-322537213286/athena/staging/tables/9992dd27-12cf-465f-ba71-3477ff5677c5-manifest.csv\n",
      "delete: s3://sagemaker-experiments-us-east-1-322537213286/athena/staging/tables/433f11b2-dcb7-4045-80c9-736b7f640b78/20201207_134818_00103_ia8wx_d8b7e8b3-160c-491e-8275-77ddcaba1f37\n",
      "delete: s3://sagemaker-experiments-us-east-1-322537213286/athena/staging/tables/9992dd27-12cf-465f-ba71-3477ff5677c5.metadata\n",
      "delete: s3://sagemaker-experiments-us-east-1-322537213286/athena/staging/tables/433f11b2-dcb7-4045-80c9-736b7f640b78/20201207_134818_00103_ia8wx_87a91ef7-d0c8-41fa-a040-eeec65f104d1\n",
      "delete: s3://sagemaker-experiments-us-east-1-322537213286/athena/staging/tables/433f11b2-dcb7-4045-80c9-736b7f640b78/20201207_134818_00103_ia8wx_d807829e-f1bb-4452-8560-86f8643a7e1a\n",
      "delete: s3://sagemaker-experiments-us-east-1-322537213286/athena/staging/b8568e9b-c160-42e9-beaf-7f2c467a647f.csv.metadata\n",
      "delete: s3://sagemaker-experiments-us-east-1-322537213286/athena/staging/ebbe4608-d98c-44e1-846c-c0ed5c8c6cd6.txt.metadata\n",
      "delete: s3://sagemaker-experiments-us-east-1-322537213286/athena/staging/bcdf0c6e-6891-4a0b-a6c8-fe3c2fc50d45.csv.metadata\n",
      "delete: s3://sagemaker-experiments-us-east-1-322537213286/athena/staging/d3b38fcd-af37-4d5c-bfcc-f67e252e6614.csv\n",
      "delete: s3://sagemaker-experiments-us-east-1-322537213286/athena/staging/tables/433f11b2-dcb7-4045-80c9-736b7f640b78/20201207_134818_00103_ia8wx_085fb37b-607b-41ab-845e-78f35f9cc94b\n"
     ]
    }
   ],
   "source": [
    "!aws s3 rm s3://$data_bucket/amazon-reviews-pds/parquet --recursive\n",
    "!aws s3 rm s3://$job_bucket/athena --recursive"
   ]
  },
  {
   "cell_type": "code",
   "execution_count": 7,
   "metadata": {},
   "outputs": [],
   "source": [
    "# Set Athena database name\n",
    "database_name = 'awsdb_1124'"
   ]
  },
  {
   "cell_type": "markdown",
   "metadata": {},
   "source": [
    "Athena에서 생성 한 데이터베이스 및 테이블은 Data Catalog 서비스를 사용하여 데이터의 메타 데이터를 저장합니다. 예를 들어, 테이블 이름과 함께 테이블에 있는 각 열의 데이터 이름과 열 이름으로 구성된 스키마 정보는 Data Catalog에 메타 데이터 정보로 저장됩니다.\n",
    "\n",
    "Athena는 기본적으로 AWS Glue Data Catalog 서비스를 지원합니다. AWS Glue Data Catalog를 소스로 사용하여 Athena에서 `CREATE DATABASE` 및 `CREATE TABLE` 쿼리를 실행하면 AWS Glue Data Catalog에서 생성되는 데이터베이스 및 테이블 메타 데이터 항목이 자동으로 표시됩니다."
   ]
  },
  {
   "cell_type": "code",
   "execution_count": 8,
   "metadata": {},
   "outputs": [],
   "source": [
    "# Set S3 staging directory -- this is a temporary directory used for Athena queries\n",
    "s3_staging_dir = 's3://{0}/athena/staging'.format(job_bucket)"
   ]
  },
  {
   "cell_type": "code",
   "execution_count": 9,
   "metadata": {},
   "outputs": [
    {
     "name": "stdout",
     "output_type": "stream",
     "text": [
      "DROP SCHEMA IF EXISTS awsdb_1124 CASCADE\n"
     ]
    },
    {
     "data": {
      "text/plain": [
       "<pyathena.cursor.Cursor at 0x7f7841eb00b8>"
      ]
     },
     "execution_count": 9,
     "metadata": {},
     "output_type": "execute_result"
    }
   ],
   "source": [
    "# SQL statement to execute\n",
    "statement = 'DROP SCHEMA IF EXISTS {} CASCADE'.format(database_name)\n",
    "print(statement)\n",
    "\n",
    "# Execute statement using connection cursor\n",
    "cursor = connect(region_name=region_name, s3_staging_dir=s3_staging_dir).cursor()\n",
    "cursor.execute(statement)"
   ]
  },
  {
   "cell_type": "code",
   "execution_count": 10,
   "metadata": {},
   "outputs": [
    {
     "name": "stdout",
     "output_type": "stream",
     "text": [
      "CREATE DATABASE IF NOT EXISTS awsdb_1124\n"
     ]
    }
   ],
   "source": [
    "# SQL statement to execute\n",
    "statement = 'CREATE DATABASE IF NOT EXISTS {}'.format(database_name)\n",
    "print(statement)"
   ]
  },
  {
   "cell_type": "code",
   "execution_count": 11,
   "metadata": {},
   "outputs": [
    {
     "data": {
      "text/plain": [
       "<pyathena.cursor.Cursor at 0x7f784172e208>"
      ]
     },
     "execution_count": 11,
     "metadata": {},
     "output_type": "execute_result"
    }
   ],
   "source": [
    "# Execute statement using connection cursor\n",
    "cursor = connect(region_name=region_name, s3_staging_dir=s3_staging_dir).cursor()\n",
    "cursor.execute(statement)"
   ]
  },
  {
   "cell_type": "markdown",
   "metadata": {},
   "source": [
    "#### 데이터베이스가 성공적으로 작성되었는지 확인합니다."
   ]
  },
  {
   "cell_type": "code",
   "execution_count": 12,
   "metadata": {},
   "outputs": [
    {
     "data": {
      "text/html": [
       "<div>\n",
       "<style scoped>\n",
       "    .dataframe tbody tr th:only-of-type {\n",
       "        vertical-align: middle;\n",
       "    }\n",
       "\n",
       "    .dataframe tbody tr th {\n",
       "        vertical-align: top;\n",
       "    }\n",
       "\n",
       "    .dataframe thead th {\n",
       "        text-align: right;\n",
       "    }\n",
       "</style>\n",
       "<table border=\"1\" class=\"dataframe\">\n",
       "  <thead>\n",
       "    <tr style=\"text-align: right;\">\n",
       "      <th></th>\n",
       "      <th>database_name</th>\n",
       "    </tr>\n",
       "  </thead>\n",
       "  <tbody>\n",
       "    <tr>\n",
       "      <th>0</th>\n",
       "      <td>awsdb_1124</td>\n",
       "    </tr>\n",
       "    <tr>\n",
       "      <th>1</th>\n",
       "      <td>default</td>\n",
       "    </tr>\n",
       "    <tr>\n",
       "      <th>2</th>\n",
       "      <td>glue-crawler-test</td>\n",
       "    </tr>\n",
       "    <tr>\n",
       "      <th>3</th>\n",
       "      <td>marketdata</td>\n",
       "    </tr>\n",
       "    <tr>\n",
       "      <th>4</th>\n",
       "      <td>quicksightdb</td>\n",
       "    </tr>\n",
       "  </tbody>\n",
       "</table>\n",
       "</div>"
      ],
      "text/plain": [
       "       database_name\n",
       "0         awsdb_1124\n",
       "1            default\n",
       "2  glue-crawler-test\n",
       "3         marketdata\n",
       "4       quicksightdb"
      ]
     },
     "execution_count": 12,
     "metadata": {},
     "output_type": "execute_result"
    }
   ],
   "source": [
    "statement = 'SHOW DATABASES'\n",
    "cursor.execute(statement)\n",
    "\n",
    "df_show = as_pandas(cursor)\n",
    "df_show.head(5)"
   ]
  },
  {
   "cell_type": "markdown",
   "metadata": {},
   "source": [
    "# 2. Amazon Athena에 Data 등록"
   ]
  },
  {
   "cell_type": "code",
   "execution_count": 13,
   "metadata": {},
   "outputs": [],
   "source": [
    "table_name_tsv = 'amazon_reviews_tsv'"
   ]
  },
  {
   "cell_type": "code",
   "execution_count": 14,
   "metadata": {},
   "outputs": [
    {
     "name": "stdout",
     "output_type": "stream",
     "text": [
      "CREATE EXTERNAL TABLE IF NOT EXISTS awsdb_1124.amazon_reviews_tsv(\n",
      "         marketplace string,\n",
      "         customer_id string,\n",
      "         review_id string,\n",
      "         product_id string,\n",
      "         product_parent string,\n",
      "         product_title string,\n",
      "         product_category string,\n",
      "         star_rating int,\n",
      "         helpful_votes int,\n",
      "         total_votes int,\n",
      "         vine string,\n",
      "         verified_purchase string,\n",
      "         review_headline string,\n",
      "         review_body string,\n",
      "         review_date string\n",
      ") ROW FORMAT DELIMITED FIELDS TERMINATED BY '\\t' LINES TERMINATED BY '\\n' LOCATION 's3://sagemaker-us-east-1-322537213286/amazon-reviews-pds/tsv/'\n",
      "TBLPROPERTIES ('compressionType'='gzip', 'skip.header.line.count'='1')\n"
     ]
    }
   ],
   "source": [
    "# SQL statement to execute\n",
    "statement = \"\"\"CREATE EXTERNAL TABLE IF NOT EXISTS {}.{}(\n",
    "         marketplace string,\n",
    "         customer_id string,\n",
    "         review_id string,\n",
    "         product_id string,\n",
    "         product_parent string,\n",
    "         product_title string,\n",
    "         product_category string,\n",
    "         star_rating int,\n",
    "         helpful_votes int,\n",
    "         total_votes int,\n",
    "         vine string,\n",
    "         verified_purchase string,\n",
    "         review_headline string,\n",
    "         review_body string,\n",
    "         review_date string\n",
    ") ROW FORMAT DELIMITED FIELDS TERMINATED BY '\\\\t' LINES TERMINATED BY '\\\\n' LOCATION '{}'\n",
    "TBLPROPERTIES ('compressionType'='gzip', 'skip.header.line.count'='1')\"\"\".format(database_name, table_name_tsv, s3_destination_path_tsv)\n",
    "\n",
    "print(statement)"
   ]
  },
  {
   "cell_type": "code",
   "execution_count": 15,
   "metadata": {},
   "outputs": [
    {
     "data": {
      "text/plain": [
       "<pyathena.cursor.Cursor at 0x7f7826910470>"
      ]
     },
     "execution_count": 15,
     "metadata": {},
     "output_type": "execute_result"
    }
   ],
   "source": [
    "# Execute statement using connection cursor\n",
    "cursor = connect(region_name=region_name, s3_staging_dir=s3_staging_dir).cursor()\n",
    "cursor.execute(statement)"
   ]
  },
  {
   "cell_type": "markdown",
   "metadata": {},
   "source": [
    "#### 테이블 생성을 확인합니다."
   ]
  },
  {
   "cell_type": "code",
   "execution_count": 16,
   "metadata": {},
   "outputs": [
    {
     "data": {
      "text/html": [
       "<div>\n",
       "<style scoped>\n",
       "    .dataframe tbody tr th:only-of-type {\n",
       "        vertical-align: middle;\n",
       "    }\n",
       "\n",
       "    .dataframe tbody tr th {\n",
       "        vertical-align: top;\n",
       "    }\n",
       "\n",
       "    .dataframe thead th {\n",
       "        text-align: right;\n",
       "    }\n",
       "</style>\n",
       "<table border=\"1\" class=\"dataframe\">\n",
       "  <thead>\n",
       "    <tr style=\"text-align: right;\">\n",
       "      <th></th>\n",
       "      <th>tab_name</th>\n",
       "    </tr>\n",
       "  </thead>\n",
       "  <tbody>\n",
       "    <tr>\n",
       "      <th>0</th>\n",
       "      <td>amazon_reviews_tsv</td>\n",
       "    </tr>\n",
       "  </tbody>\n",
       "</table>\n",
       "</div>"
      ],
      "text/plain": [
       "             tab_name\n",
       "0  amazon_reviews_tsv"
      ]
     },
     "execution_count": 16,
     "metadata": {},
     "output_type": "execute_result"
    }
   ],
   "source": [
    "statement = 'SHOW TABLES in {}'.format(database_name)\n",
    "cursor.execute(statement)\n",
    "\n",
    "df_show = as_pandas(cursor)\n",
    "df_show.head(5)"
   ]
  },
  {
   "cell_type": "markdown",
   "metadata": {},
   "source": [
    "#### Sample query를 수행합니다."
   ]
  },
  {
   "cell_type": "code",
   "execution_count": 17,
   "metadata": {},
   "outputs": [
    {
     "name": "stdout",
     "output_type": "stream",
     "text": [
      "SELECT * FROM awsdb_1124.amazon_reviews_tsv\n",
      "    WHERE product_category = 'Digital_Software' LIMIT 100\n"
     ]
    }
   ],
   "source": [
    "product_category = 'Digital_Software'\n",
    "\n",
    "statement = \"\"\"SELECT * FROM {}.{}\n",
    "    WHERE product_category = '{}' LIMIT 100\"\"\".format(database_name, table_name_tsv, product_category)\n",
    "\n",
    "print(statement)"
   ]
  },
  {
   "cell_type": "code",
   "execution_count": 18,
   "metadata": {},
   "outputs": [
    {
     "data": {
      "text/plain": [
       "<pyathena.cursor.Cursor at 0x7f7826612940>"
      ]
     },
     "execution_count": 18,
     "metadata": {},
     "output_type": "execute_result"
    }
   ],
   "source": [
    "# Execute statement using connection cursor\n",
    "cursor = connect(region_name=region_name, s3_staging_dir=s3_staging_dir).cursor()\n",
    "cursor.execute(statement)"
   ]
  },
  {
   "cell_type": "code",
   "execution_count": 19,
   "metadata": {},
   "outputs": [
    {
     "data": {
      "text/html": [
       "<div>\n",
       "<style scoped>\n",
       "    .dataframe tbody tr th:only-of-type {\n",
       "        vertical-align: middle;\n",
       "    }\n",
       "\n",
       "    .dataframe tbody tr th {\n",
       "        vertical-align: top;\n",
       "    }\n",
       "\n",
       "    .dataframe thead th {\n",
       "        text-align: right;\n",
       "    }\n",
       "</style>\n",
       "<table border=\"1\" class=\"dataframe\">\n",
       "  <thead>\n",
       "    <tr style=\"text-align: right;\">\n",
       "      <th></th>\n",
       "      <th>marketplace</th>\n",
       "      <th>customer_id</th>\n",
       "      <th>review_id</th>\n",
       "      <th>product_id</th>\n",
       "      <th>product_parent</th>\n",
       "      <th>product_title</th>\n",
       "      <th>product_category</th>\n",
       "      <th>star_rating</th>\n",
       "      <th>helpful_votes</th>\n",
       "      <th>total_votes</th>\n",
       "      <th>vine</th>\n",
       "      <th>verified_purchase</th>\n",
       "      <th>review_headline</th>\n",
       "      <th>review_body</th>\n",
       "      <th>review_date</th>\n",
       "    </tr>\n",
       "  </thead>\n",
       "  <tbody>\n",
       "    <tr>\n",
       "      <th>0</th>\n",
       "      <td>US</td>\n",
       "      <td>17747349</td>\n",
       "      <td>R2EI7QLPK4LF7U</td>\n",
       "      <td>B00U7LCE6A</td>\n",
       "      <td>106182406</td>\n",
       "      <td>CCleaner Free [Download]</td>\n",
       "      <td>Digital_Software</td>\n",
       "      <td>4</td>\n",
       "      <td>0</td>\n",
       "      <td>0</td>\n",
       "      <td>N</td>\n",
       "      <td>Y</td>\n",
       "      <td>Four Stars</td>\n",
       "      <td>So far so good</td>\n",
       "      <td>2015-08-31</td>\n",
       "    </tr>\n",
       "    <tr>\n",
       "      <th>1</th>\n",
       "      <td>US</td>\n",
       "      <td>10956619</td>\n",
       "      <td>R1W5OMFK1Q3I3O</td>\n",
       "      <td>B00HRJMOM4</td>\n",
       "      <td>162269768</td>\n",
       "      <td>ResumeMaker Professional Deluxe 18</td>\n",
       "      <td>Digital_Software</td>\n",
       "      <td>3</td>\n",
       "      <td>0</td>\n",
       "      <td>0</td>\n",
       "      <td>N</td>\n",
       "      <td>Y</td>\n",
       "      <td>Three Stars</td>\n",
       "      <td>Needs a little more work.....</td>\n",
       "      <td>2015-08-31</td>\n",
       "    </tr>\n",
       "    <tr>\n",
       "      <th>2</th>\n",
       "      <td>US</td>\n",
       "      <td>13132245</td>\n",
       "      <td>RPZWSYWRP92GI</td>\n",
       "      <td>B00P31G9PQ</td>\n",
       "      <td>831433899</td>\n",
       "      <td>Amazon Drive Desktop [PC]</td>\n",
       "      <td>Digital_Software</td>\n",
       "      <td>1</td>\n",
       "      <td>1</td>\n",
       "      <td>2</td>\n",
       "      <td>N</td>\n",
       "      <td>Y</td>\n",
       "      <td>One Star</td>\n",
       "      <td>Please cancel.</td>\n",
       "      <td>2015-08-31</td>\n",
       "    </tr>\n",
       "    <tr>\n",
       "      <th>3</th>\n",
       "      <td>US</td>\n",
       "      <td>35717248</td>\n",
       "      <td>R2WQWM04XHD9US</td>\n",
       "      <td>B00FGDEPDY</td>\n",
       "      <td>991059534</td>\n",
       "      <td>Norton Internet Security 1 User 3 Licenses</td>\n",
       "      <td>Digital_Software</td>\n",
       "      <td>5</td>\n",
       "      <td>0</td>\n",
       "      <td>0</td>\n",
       "      <td>N</td>\n",
       "      <td>Y</td>\n",
       "      <td>Works as Expected!</td>\n",
       "      <td>Works as Expected!</td>\n",
       "      <td>2015-08-31</td>\n",
       "    </tr>\n",
       "    <tr>\n",
       "      <th>4</th>\n",
       "      <td>US</td>\n",
       "      <td>17710652</td>\n",
       "      <td>R1WSPK2RA2PDEF</td>\n",
       "      <td>B00FZ0FK0U</td>\n",
       "      <td>574904556</td>\n",
       "      <td>SecureAnywhere Intermet Security Complete 5 De...</td>\n",
       "      <td>Digital_Software</td>\n",
       "      <td>4</td>\n",
       "      <td>1</td>\n",
       "      <td>2</td>\n",
       "      <td>N</td>\n",
       "      <td>Y</td>\n",
       "      <td>Great antivirus. Worthless customer support</td>\n",
       "      <td>I've had Webroot for a few years. It expired a...</td>\n",
       "      <td>2015-08-31</td>\n",
       "    </tr>\n",
       "  </tbody>\n",
       "</table>\n",
       "</div>"
      ],
      "text/plain": [
       "  marketplace customer_id       review_id  product_id product_parent  \\\n",
       "0          US    17747349  R2EI7QLPK4LF7U  B00U7LCE6A      106182406   \n",
       "1          US    10956619  R1W5OMFK1Q3I3O  B00HRJMOM4      162269768   \n",
       "2          US    13132245   RPZWSYWRP92GI  B00P31G9PQ      831433899   \n",
       "3          US    35717248  R2WQWM04XHD9US  B00FGDEPDY      991059534   \n",
       "4          US    17710652  R1WSPK2RA2PDEF  B00FZ0FK0U      574904556   \n",
       "\n",
       "                                       product_title  product_category  \\\n",
       "0                           CCleaner Free [Download]  Digital_Software   \n",
       "1                 ResumeMaker Professional Deluxe 18  Digital_Software   \n",
       "2                          Amazon Drive Desktop [PC]  Digital_Software   \n",
       "3         Norton Internet Security 1 User 3 Licenses  Digital_Software   \n",
       "4  SecureAnywhere Intermet Security Complete 5 De...  Digital_Software   \n",
       "\n",
       "   star_rating  helpful_votes  total_votes vine verified_purchase  \\\n",
       "0            4              0            0    N                 Y   \n",
       "1            3              0            0    N                 Y   \n",
       "2            1              1            2    N                 Y   \n",
       "3            5              0            0    N                 Y   \n",
       "4            4              1            2    N                 Y   \n",
       "\n",
       "                               review_headline  \\\n",
       "0                                   Four Stars   \n",
       "1                                  Three Stars   \n",
       "2                                     One Star   \n",
       "3                           Works as Expected!   \n",
       "4  Great antivirus. Worthless customer support   \n",
       "\n",
       "                                         review_body review_date  \n",
       "0                                     So far so good  2015-08-31  \n",
       "1                      Needs a little more work.....  2015-08-31  \n",
       "2                                     Please cancel.  2015-08-31  \n",
       "3                                 Works as Expected!  2015-08-31  \n",
       "4  I've had Webroot for a few years. It expired a...  2015-08-31  "
      ]
     },
     "execution_count": 19,
     "metadata": {},
     "output_type": "execute_result"
    }
   ],
   "source": [
    "df = as_pandas(cursor)\n",
    "df.head(5)"
   ]
  },
  {
   "cell_type": "code",
   "execution_count": 20,
   "metadata": {},
   "outputs": [
    {
     "name": "stdout",
     "output_type": "stream",
     "text": [
      "Stored 's3_staging_dir' (str)\n",
      "Stored 'database_name' (str)\n",
      "Stored 'table_name_tsv' (str)\n"
     ]
    }
   ],
   "source": [
    "%store s3_staging_dir database_name table_name_tsv"
   ]
  },
  {
   "cell_type": "code",
   "execution_count": null,
   "metadata": {},
   "outputs": [],
   "source": []
  }
 ],
 "metadata": {
  "kernelspec": {
   "display_name": "conda_python3",
   "language": "python",
   "name": "conda_python3"
  },
  "language_info": {
   "codemirror_mode": {
    "name": "ipython",
    "version": 3
   },
   "file_extension": ".py",
   "mimetype": "text/x-python",
   "name": "python",
   "nbconvert_exporter": "python",
   "pygments_lexer": "ipython3",
   "version": "3.6.10"
  }
 },
 "nbformat": 4,
 "nbformat_minor": 4
}
