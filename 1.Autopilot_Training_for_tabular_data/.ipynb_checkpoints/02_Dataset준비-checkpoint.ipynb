{
 "cells": [
  {
   "cell_type": "markdown",
   "metadata": {},
   "source": [
    "# 1. Write_data_to_S3\n",
    "\n",
    "#### Tabular_dataset을 위해서는 [Amazon Customer Reviews Dataset](https://s3.amazonaws.com/amazon-reviews-pds/readme.html) 을 사용하여 작업합니다.\n",
    "\n",
    "Amazon Customer reviews는 1995 년 첫 번째 review 이후 20 년이 넘는 기간 동안 수백만 명의 아마존 고객이 1 억 건 이상의 리뷰를 통해 Amazon.com 웹 사이트의 제품에 대한 의견을 표명하고 자신의 경험을 설명했습니다. 이로 인해 Amazon Customer Reviews는 자연어 처리 (NLP), 정보 검색 (IR) 및 기계 학습 (ML) 분야의 학술 연구원을위한 풍부한 정보 소스가됩니다. \n",
    "\n",
    "dataset을 Amazon S3 bucket에 Upload를 하게 됩니다. 데이터셋은 2가지 포맷을 모두 이용할 수 있습니다.\n",
    "\n",
    "* Tab separated value (TSV), a text format - `s3://amazon-reviews-pds/tsv/`\n",
    "* Parquet, an optimized columnar binary format - `s3://amazon-reviews-pds/parquet/`\n",
    "\n",
    "Parquet dataset은 쿼리 성능을 개선하기 위해 column에 의해 파티션되어 있습니다. 즉, subfolder들로 구분되어 있습니다.카테고리에 특정한 데이터를 읽고자 할 경우에는 SQL queries에서 product_category에 대해 `WHERE`을 사용할 수 있습니다.\n",
    "\n",
    "이 작업은 the AWS Command Line Interface (CLI)를 이용하여 S3의 bucket 내용을 확인할 수 있습니다.\n"
   ]
  },
  {
   "cell_type": "markdown",
   "metadata": {},
   "source": [
    "#### Dataset columns\n",
    "\n",
    "- `marketplace`: review가 작성된 마켓 플레이스의 2자리 국가 코드 (\"US\").\n",
    "- `customer_id`: review 집계에 사용되는 임의의 작성자 식별 값\n",
    "- `review_id`: review의 고유 ID\n",
    "- `product_id`: reviews와 관련된 제품의 고유 ID (ASIN).  `http://www.amazon.com/dp/<ASIN>` 에서 제품의 상세 정보를 볼 수 있음\n",
    "- `product_parent`: 동일 제품에 대해 review를 집계하는데 사용하는 임의의 식별자\n",
    "- `product_title`: 제품명\n",
    "- `product_category`: review를 그룹화할 수 있는 제품 카테고리 (digital videos).\n",
    "- `star_rating`: review에 대한 1-5 등급\n",
    "- `helpful_votes`:유용한 review의 투표 수\n",
    "- `total_votes`: review가 받은 전체 투표 수\n",
    "- `vine`: [Vine](https://www.amazon.com/gp/vine/help) 프로그램(reviewer 프로그램)에 의해 적힌 review 여부\n",
    "- `verified_purchase`: 확인 구매에 대한 review 여부\n",
    "- `review_headline`: review 제목\n",
    "- `review_body`: review 내용\n",
    "- `review_date`: review가 적힌 날짜\n",
    "\n",
    "\n",
    "\n"
   ]
  },
  {
   "cell_type": "code",
   "execution_count": 1,
   "metadata": {},
   "outputs": [],
   "source": [
    "%store -r"
   ]
  },
  {
   "cell_type": "markdown",
   "metadata": {},
   "source": [
    "# Set S3 Source Location"
   ]
  },
  {
   "cell_type": "code",
   "execution_count": 2,
   "metadata": {},
   "outputs": [],
   "source": [
    "s3_source_path_tsv = 's3://amazon-reviews-pds/tsv/'"
   ]
  },
  {
   "cell_type": "code",
   "execution_count": null,
   "metadata": {},
   "outputs": [],
   "source": [
    "!aws s3 ls $s3_source_path_tsv"
   ]
  },
  {
   "cell_type": "markdown",
   "metadata": {},
   "source": [
    "# Set S3 Destination Location"
   ]
  },
  {
   "cell_type": "code",
   "execution_count": null,
   "metadata": {},
   "outputs": [],
   "source": [
    "s3_destination_path_tsv = 's3://{}/amazon-reviews-pds/tsv/'.format(data_bucket)\n",
    "print(s3_destination_path_tsv)"
   ]
  },
  {
   "cell_type": "code",
   "execution_count": null,
   "metadata": {},
   "outputs": [
    {
     "name": "stdout",
     "output_type": "stream",
     "text": [
      "copy: s3://amazon-reviews-pds/tsv/amazon_reviews_us_Digital_Video_Games_v1_00.tsv.gz to s3://sagemaker-us-east-1-322537213286/amazon-reviews-pds/tsv/amazon_reviews_us_Digital_Video_Games_v1_00.tsv.gz\n",
      "copy: s3://amazon-reviews-pds/tsv/amazon_reviews_us_Musical_Instruments_v1_00.tsv.gz to s3://sagemaker-us-east-1-322537213286/amazon-reviews-pds/tsv/amazon_reviews_us_Musical_Instruments_v1_00.tsv.gz\n"
     ]
    }
   ],
   "source": [
    "!aws s3 cp --recursive $s3_source_path_tsv $s3_destination_path_tsv --exclude \"*\" --include \"amazon_reviews_us_Digital_Software_v1_00.tsv.gz\"\n",
    "!aws s3 cp --recursive $s3_source_path_tsv $s3_destination_path_tsv --exclude \"*\" --include \"amazon_reviews_us_Digital_Video_Games_v1_00.tsv.gz\"\n",
    "!aws s3 cp --recursive $s3_source_path_tsv $s3_destination_path_tsv --exclude \"*\" --include \"amazon_reviews_us_Musical_Instruments_v1_00.tsv.gz\""
   ]
  },
  {
   "cell_type": "markdown",
   "metadata": {},
   "source": [
    "#### List files"
   ]
  },
  {
   "cell_type": "code",
   "execution_count": null,
   "metadata": {},
   "outputs": [
    {
     "name": "stdout",
     "output_type": "stream",
     "text": [
      "2020-12-08 04:12:47   18997559 amazon_reviews_us_Digital_Software_v1_00.tsv.gz\r\n",
      "2020-12-08 04:12:49   27442648 amazon_reviews_us_Digital_Video_Games_v1_00.tsv.gz\r\n",
      "2020-12-08 04:12:51  193389086 amazon_reviews_us_Musical_Instruments_v1_00.tsv.gz\r\n"
     ]
    }
   ],
   "source": [
    "!aws s3 ls $s3_destination_path_tsv"
   ]
  },
  {
   "cell_type": "code",
   "execution_count": null,
   "metadata": {},
   "outputs": [
    {
     "name": "stdout",
     "output_type": "stream",
     "text": [
      "Stored 's3_destination_path_tsv' (str)\n"
     ]
    }
   ],
   "source": [
    "%store s3_destination_path_tsv"
   ]
  },
  {
   "cell_type": "code",
   "execution_count": null,
   "metadata": {},
   "outputs": [],
   "source": []
  },
  {
   "cell_type": "code",
   "execution_count": null,
   "metadata": {},
   "outputs": [],
   "source": []
  }
 ],
 "metadata": {
  "kernelspec": {
   "display_name": "conda_python3",
   "language": "python",
   "name": "conda_python3"
  },
  "language_info": {
   "codemirror_mode": {
    "name": "ipython",
    "version": 3
   },
   "file_extension": ".py",
   "mimetype": "text/x-python",
   "name": "python",
   "nbconvert_exporter": "python",
   "pygments_lexer": "ipython3",
   "version": "3.6.10"
  }
 },
 "nbformat": 4,
 "nbformat_minor": 4
}
