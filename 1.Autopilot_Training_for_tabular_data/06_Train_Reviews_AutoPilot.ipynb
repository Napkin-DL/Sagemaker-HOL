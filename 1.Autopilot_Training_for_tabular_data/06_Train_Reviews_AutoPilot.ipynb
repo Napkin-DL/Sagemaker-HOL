{
 "cells": [
  {
   "cell_type": "markdown",
   "metadata": {},
   "source": [
    "# Train a Model with SageMaker Autopilot\n",
    "\n",
    "Customer review를 예측하기 위해 SageMaker Autopilot을 사용합니다.  \n",
    "Autopilot는 AutoML에 대해 white-box 접근 방식으로 구현합니다."
   ]
  },
  {
   "cell_type": "markdown",
   "metadata": {},
   "source": [
    "<img src=\"./img/autopilot.png\" width=\"80%\" align=\"left\">"
   ]
  },
  {
   "cell_type": "markdown",
   "metadata": {},
   "source": [
    "# Introduction"
   ]
  },
  {
   "cell_type": "markdown",
   "metadata": {},
   "source": [
    "Amazon SageMaker Autopilot은 데이터 세트에서 자동 기계 학습 (AutoML)을 수행하는 서비스입니다. Autopilot은 UI 또는 AWS SDK를 통해 사용할 수 있습니다. 이 노트북에서는 AWS SDK를 사용하여 텍스트 처리 및 sentiment classification 기계 학습 파이프 라인을 생성과 배포를 합니다."
   ]
  },
  {
   "cell_type": "markdown",
   "metadata": {},
   "source": [
    "# Setup\n",
    "\n",
    "* 모델 학습에 사용되는 S3 bucket과 prefix 가 필요합니다. 참고 : 필요한 dataset은 동일 region에 있어야 합니다.\n",
    "* 이 노트북의 IAM role은 dataset에 액세스가 가능해야 합니다."
   ]
  },
  {
   "cell_type": "code",
   "execution_count": 1,
   "metadata": {},
   "outputs": [],
   "source": [
    "%store -r"
   ]
  },
  {
   "cell_type": "code",
   "execution_count": 2,
   "metadata": {},
   "outputs": [],
   "source": [
    "import boto3\n",
    "import sagemaker\n",
    "import pandas as pd\n",
    "\n",
    "# Execute statement using connection cursor\n",
    "from pyathena import connect\n",
    "from pyathena.util import as_pandas\n",
    "\n",
    "sess   = sagemaker.Session()\n",
    "sm = boto3.Session().client(service_name='sagemaker', region_name=region_name)"
   ]
  },
  {
   "cell_type": "markdown",
   "metadata": {},
   "source": [
    "# Dataset"
   ]
  },
  {
   "cell_type": "code",
   "execution_count": 3,
   "metadata": {},
   "outputs": [
    {
     "name": "stdout",
     "output_type": "stream",
     "text": [
      "s3://sagemaker-us-east-1-322537213286/data/amazon_reviews_us_Digital_Software_v1_00_header.csv\n"
     ]
    }
   ],
   "source": [
    "print(header_train_s3_uri)"
   ]
  },
  {
   "cell_type": "code",
   "execution_count": 4,
   "metadata": {},
   "outputs": [
    {
     "name": "stdout",
     "output_type": "stream",
     "text": [
      "2020-11-18 13:04:10   29818030 amazon_reviews_us_Digital_Software_v1_00_header.csv\r\n"
     ]
    }
   ],
   "source": [
    "!aws s3 ls $header_train_s3_uri"
   ]
  },
  {
   "cell_type": "markdown",
   "metadata": {},
   "source": [
    "# Setup the S3 Location for the Autopilot-Generated Assets \n",
    "\n",
    "* Jupyter Notebooks (Analysis)\n",
    "* Python Scripts (Feature Engineering)\n",
    "* Trained Models."
   ]
  },
  {
   "cell_type": "code",
   "execution_count": 5,
   "metadata": {},
   "outputs": [
    {
     "name": "stdout",
     "output_type": "stream",
     "text": [
      "s3://sagemaker-experiments-us-east-1-322537213286/models/autopilot\n"
     ]
    }
   ],
   "source": [
    "prefix_model_output = 'models/autopilot'\n",
    "\n",
    "model_output_s3_uri = 's3://{}/{}'.format(job_bucket, prefix_model_output)\n",
    "\n",
    "print(model_output_s3_uri)\n"
   ]
  },
  {
   "cell_type": "code",
   "execution_count": 6,
   "metadata": {},
   "outputs": [],
   "source": [
    "max_candidates = 3\n",
    "\n",
    "job_config = {\n",
    "    'CompletionCriteria': {\n",
    "      'MaxRuntimePerTrainingJobInSeconds': 600,\n",
    "      'MaxCandidates': max_candidates,\n",
    "      'MaxAutoMLJobRuntimeInSeconds': 3600\n",
    "    },\n",
    "}\n",
    "\n",
    "input_data_config = [{\n",
    "      'DataSource': {\n",
    "        'S3DataSource': {\n",
    "          'S3DataType': 'S3Prefix',\n",
    "          'S3Uri': '{}'.format(header_train_s3_uri)\n",
    "        }\n",
    "      },\n",
    "      'TargetAttributeName': 'star_rating'\n",
    "    }\n",
    "]\n",
    "\n",
    "output_data_config = {\n",
    "    'S3OutputPath': '{}'.format(model_output_s3_uri)\n",
    "}"
   ]
  },
  {
   "cell_type": "markdown",
   "metadata": {},
   "source": [
    "# Launch the SageMaker Autopilot job\n",
    "\n",
    "`create_auto_ml_job` API를 이용하여 Autopilot job을 실행합니다."
   ]
  },
  {
   "cell_type": "code",
   "execution_count": 7,
   "metadata": {},
   "outputs": [
    {
     "name": "stdout",
     "output_type": "stream",
     "text": [
      "AutoMLJobName: automl-dm-19-01-33-55\n"
     ]
    }
   ],
   "source": [
    "from time import gmtime, strftime, sleep\n",
    "timestamp_suffix = strftime('%d-%H-%M-%S', gmtime())\n",
    "\n",
    "auto_ml_job_name = 'automl-dm-' + timestamp_suffix\n",
    "print('AutoMLJobName: ' + auto_ml_job_name)"
   ]
  },
  {
   "cell_type": "markdown",
   "metadata": {},
   "source": [
    "`ProblemType`를 특정할 수 없는 경우에는 Autopilot이 자동으로 regression 또는 Classification (binary 또는 multi-class) 를 탐지합니다."
   ]
  },
  {
   "cell_type": "code",
   "execution_count": 8,
   "metadata": {},
   "outputs": [
    {
     "data": {
      "text/plain": [
       "{'AutoMLJobArn': 'arn:aws:sagemaker:us-east-1:322537213286:automl-job/automl-dm-19-01-33-55',\n",
       " 'ResponseMetadata': {'RequestId': '4e0f3da0-0fe9-4461-a850-4147f8ce8608',\n",
       "  'HTTPStatusCode': 200,\n",
       "  'HTTPHeaders': {'x-amzn-requestid': '4e0f3da0-0fe9-4461-a850-4147f8ce8608',\n",
       "   'content-type': 'application/x-amz-json-1.1',\n",
       "   'content-length': '92',\n",
       "   'date': 'Thu, 19 Nov 2020 01:33:56 GMT'},\n",
       "  'RetryAttempts': 0}}"
      ]
     },
     "execution_count": 8,
     "metadata": {},
     "output_type": "execute_result"
    }
   ],
   "source": [
    "sm.create_auto_ml_job(AutoMLJobName=auto_ml_job_name,\n",
    "                      InputDataConfig=input_data_config,\n",
    "                      OutputDataConfig=output_data_config,\n",
    "                      AutoMLJobConfig=job_config,\n",
    "#                      ProblemType=\"Classification\",\n",
    "                      RoleArn=role)"
   ]
  },
  {
   "cell_type": "markdown",
   "metadata": {},
   "source": [
    "# Tracking the progress of the Autopilot job\n",
    "\n",
    "SageMaker Autopilot은 high-level 단계로 아래와 같이 구성됩니다.\n",
    "\n",
    "* _Data Analysis_ 데이터를 요약하고 분석하여 탐색할 feature engineering 기법, 하이퍼파라미터와 탐색 모델을 결정합니다.\n",
    "* _Feature Engineering_ 데이터가 클린징, 밸런싱, 결합 과 훈련/검증데이터셋으로 분리합니다.\n",
    "* _Model Training and Tuning_ 가장 높은 성능의 features, 하이퍼라미터와 모델을 선택하고 학습합니다."
   ]
  },
  {
   "cell_type": "markdown",
   "metadata": {},
   "source": [
    "# Analyzing Data"
   ]
  },
  {
   "cell_type": "code",
   "execution_count": 9,
   "metadata": {},
   "outputs": [
    {
     "name": "stdout",
     "output_type": "stream",
     "text": [
      "InProgress AnalyzingData\n",
      "InProgress AnalyzingData\n",
      "InProgress AnalyzingData\n",
      "InProgress AnalyzingData\n",
      "InProgress AnalyzingData\n",
      "InProgress AnalyzingData\n",
      "InProgress AnalyzingData\n",
      "InProgress AnalyzingData\n",
      "InProgress AnalyzingData\n",
      "InProgress AnalyzingData\n",
      "InProgress AnalyzingData\n",
      "InProgress AnalyzingData\n",
      "InProgress AnalyzingData\n",
      "InProgress AnalyzingData\n",
      "InProgress AnalyzingData\n",
      "InProgress AnalyzingData\n",
      "InProgress AnalyzingData\n",
      "InProgress AnalyzingData\n",
      "InProgress AnalyzingData\n",
      "InProgress AnalyzingData\n",
      "InProgress FeatureEngineering\n",
      "Data analysis complete\n",
      "{'AutoMLJobName': 'automl-dm-19-01-33-55', 'AutoMLJobArn': 'arn:aws:sagemaker:us-east-1:322537213286:automl-job/automl-dm-19-01-33-55', 'InputDataConfig': [{'DataSource': {'S3DataSource': {'S3DataType': 'S3Prefix', 'S3Uri': 's3://sagemaker-us-east-1-322537213286/data/amazon_reviews_us_Digital_Software_v1_00_header.csv'}}, 'TargetAttributeName': 'star_rating'}], 'OutputDataConfig': {'S3OutputPath': 's3://sagemaker-experiments-us-east-1-322537213286/models/autopilot'}, 'RoleArn': 'arn:aws:iam::322537213286:role/service-role/AIMLWorkshop-targetfor-1124-SageMakerIamRole-TWXQ0O23QRAY', 'AutoMLJobConfig': {'CompletionCriteria': {'MaxCandidates': 3, 'MaxRuntimePerTrainingJobInSeconds': 600, 'MaxAutoMLJobRuntimeInSeconds': 3600}}, 'CreationTime': datetime.datetime(2020, 11, 19, 1, 33, 55, 384000, tzinfo=tzlocal()), 'LastModifiedTime': datetime.datetime(2020, 11, 19, 1, 43, 53, 799000, tzinfo=tzlocal()), 'AutoMLJobStatus': 'InProgress', 'AutoMLJobSecondaryStatus': 'FeatureEngineering', 'GenerateCandidateDefinitionsOnly': False, 'AutoMLJobArtifacts': {'CandidateDefinitionNotebookLocation': 's3://sagemaker-experiments-us-east-1-322537213286/models/autopilot/automl-dm-19-01-33-55/sagemaker-automl-candidates/pr-1-5ae06caecb484da2b6ee959a0c0c4f0b7fafdb0242f5473197466f212f/notebooks/SageMakerAutopilotCandidateDefinitionNotebook.ipynb', 'DataExplorationNotebookLocation': 's3://sagemaker-experiments-us-east-1-322537213286/models/autopilot/automl-dm-19-01-33-55/sagemaker-automl-candidates/pr-1-5ae06caecb484da2b6ee959a0c0c4f0b7fafdb0242f5473197466f212f/notebooks/SageMakerAutopilotDataExplorationNotebook.ipynb'}, 'ResolvedAttributes': {'AutoMLJobObjective': {'MetricName': 'Accuracy'}, 'ProblemType': 'MulticlassClassification', 'CompletionCriteria': {'MaxCandidates': 3, 'MaxRuntimePerTrainingJobInSeconds': 600, 'MaxAutoMLJobRuntimeInSeconds': 3600}}, 'ResponseMetadata': {'RequestId': '9b863fd9-d539-4fd1-bd33-8ad0f44b14ad', 'HTTPStatusCode': 200, 'HTTPHeaders': {'x-amzn-requestid': '9b863fd9-d539-4fd1-bd33-8ad0f44b14ad', 'content-type': 'application/x-amz-json-1.1', 'content-length': '1704', 'date': 'Thu, 19 Nov 2020 01:44:01 GMT'}, 'RetryAttempts': 0}}\n"
     ]
    }
   ],
   "source": [
    "# Sleep for a bit to ensure the AutoML job above has time to start\n",
    "import time\n",
    "time.sleep(3)\n",
    "\n",
    "job = sm.describe_auto_ml_job(AutoMLJobName=auto_ml_job_name)\n",
    "job_status = job['AutoMLJobStatus']\n",
    "job_sec_status = job['AutoMLJobSecondaryStatus']\n",
    "\n",
    "if job_status not in ('Stopped', 'Failed'):\n",
    "    while job_status in ('InProgress') and job_sec_status in ('AnalyzingData'):\n",
    "        job = sm.describe_auto_ml_job(AutoMLJobName=auto_ml_job_name)\n",
    "        job_status = job['AutoMLJobStatus']\n",
    "        job_sec_status = job['AutoMLJobSecondaryStatus']\n",
    "        print(job_status, job_sec_status)\n",
    "        sleep(30)\n",
    "    print(\"Data analysis complete\")\n",
    "    \n",
    "print(job)"
   ]
  },
  {
   "cell_type": "markdown",
   "metadata": {},
   "source": [
    "# Feature Engineering"
   ]
  },
  {
   "cell_type": "code",
   "execution_count": 10,
   "metadata": {},
   "outputs": [
    {
     "name": "stdout",
     "output_type": "stream",
     "text": [
      "InProgress\n",
      "FeatureEngineering\n",
      "InProgress FeatureEngineering\n",
      "InProgress FeatureEngineering\n",
      "InProgress FeatureEngineering\n",
      "InProgress FeatureEngineering\n",
      "InProgress FeatureEngineering\n",
      "InProgress FeatureEngineering\n",
      "InProgress FeatureEngineering\n",
      "InProgress FeatureEngineering\n",
      "InProgress FeatureEngineering\n",
      "InProgress FeatureEngineering\n",
      "InProgress FeatureEngineering\n",
      "InProgress FeatureEngineering\n",
      "InProgress FeatureEngineering\n",
      "InProgress FeatureEngineering\n",
      "InProgress FeatureEngineering\n",
      "InProgress FeatureEngineering\n",
      "InProgress FeatureEngineering\n",
      "InProgress FeatureEngineering\n",
      "InProgress ModelTuning\n",
      "Feature engineering complete\n",
      "{'AutoMLJobName': 'automl-dm-19-01-33-55', 'AutoMLJobArn': 'arn:aws:sagemaker:us-east-1:322537213286:automl-job/automl-dm-19-01-33-55', 'InputDataConfig': [{'DataSource': {'S3DataSource': {'S3DataType': 'S3Prefix', 'S3Uri': 's3://sagemaker-us-east-1-322537213286/data/amazon_reviews_us_Digital_Software_v1_00_header.csv'}}, 'TargetAttributeName': 'star_rating'}], 'OutputDataConfig': {'S3OutputPath': 's3://sagemaker-experiments-us-east-1-322537213286/models/autopilot'}, 'RoleArn': 'arn:aws:iam::322537213286:role/service-role/AIMLWorkshop-targetfor-1124-SageMakerIamRole-TWXQ0O23QRAY', 'AutoMLJobConfig': {'CompletionCriteria': {'MaxCandidates': 3, 'MaxRuntimePerTrainingJobInSeconds': 600, 'MaxAutoMLJobRuntimeInSeconds': 3600}}, 'CreationTime': datetime.datetime(2020, 11, 19, 1, 33, 55, 384000, tzinfo=tzlocal()), 'LastModifiedTime': datetime.datetime(2020, 11, 19, 1, 53, 23, 4000, tzinfo=tzlocal()), 'AutoMLJobStatus': 'InProgress', 'AutoMLJobSecondaryStatus': 'ModelTuning', 'GenerateCandidateDefinitionsOnly': False, 'AutoMLJobArtifacts': {'CandidateDefinitionNotebookLocation': 's3://sagemaker-experiments-us-east-1-322537213286/models/autopilot/automl-dm-19-01-33-55/sagemaker-automl-candidates/pr-1-5ae06caecb484da2b6ee959a0c0c4f0b7fafdb0242f5473197466f212f/notebooks/SageMakerAutopilotCandidateDefinitionNotebook.ipynb', 'DataExplorationNotebookLocation': 's3://sagemaker-experiments-us-east-1-322537213286/models/autopilot/automl-dm-19-01-33-55/sagemaker-automl-candidates/pr-1-5ae06caecb484da2b6ee959a0c0c4f0b7fafdb0242f5473197466f212f/notebooks/SageMakerAutopilotDataExplorationNotebook.ipynb'}, 'ResolvedAttributes': {'AutoMLJobObjective': {'MetricName': 'Accuracy'}, 'ProblemType': 'MulticlassClassification', 'CompletionCriteria': {'MaxCandidates': 3, 'MaxRuntimePerTrainingJobInSeconds': 600, 'MaxAutoMLJobRuntimeInSeconds': 3600}}, 'ResponseMetadata': {'RequestId': 'b5682037-e769-42dc-acd8-a4b56c7a8594', 'HTTPStatusCode': 200, 'HTTPHeaders': {'x-amzn-requestid': 'b5682037-e769-42dc-acd8-a4b56c7a8594', 'content-type': 'application/x-amz-json-1.1', 'content-length': '1697', 'date': 'Thu, 19 Nov 2020 01:53:34 GMT'}, 'RetryAttempts': 0}}\n"
     ]
    }
   ],
   "source": [
    "job = sm.describe_auto_ml_job(AutoMLJobName=auto_ml_job_name)\n",
    "job_status = job['AutoMLJobStatus']\n",
    "job_sec_status = job['AutoMLJobSecondaryStatus']\n",
    "print(job_status)\n",
    "print(job_sec_status)\n",
    "if job_status not in ('Stopped', 'Failed'):\n",
    "    while job_status in ('InProgress') and job_sec_status in ('FeatureEngineering'):\n",
    "        job = sm.describe_auto_ml_job(AutoMLJobName=auto_ml_job_name)\n",
    "        job_status = job['AutoMLJobStatus']\n",
    "        job_sec_status = job['AutoMLJobSecondaryStatus']\n",
    "        print(job_status, job_sec_status)\n",
    "        sleep(30)\n",
    "    print(\"Feature engineering complete\")\n",
    "    \n",
    "print(job)"
   ]
  },
  {
   "cell_type": "markdown",
   "metadata": {},
   "source": [
    "# Model Training and Tuning"
   ]
  },
  {
   "cell_type": "code",
   "execution_count": 11,
   "metadata": {
    "scrolled": false
   },
   "outputs": [
    {
     "name": "stdout",
     "output_type": "stream",
     "text": [
      "InProgress\n",
      "ModelTuning\n",
      "InProgress ModelTuning\n",
      "InProgress ModelTuning\n",
      "InProgress ModelTuning\n",
      "InProgress ModelTuning\n",
      "InProgress ModelTuning\n",
      "InProgress ModelTuning\n",
      "InProgress ModelTuning\n",
      "InProgress ModelTuning\n",
      "InProgress ModelTuning\n",
      "InProgress ModelTuning\n",
      "Completed MaxCandidatesReached\n",
      "Model tuning complete\n",
      "{'AutoMLJobName': 'automl-dm-19-01-33-55', 'AutoMLJobArn': 'arn:aws:sagemaker:us-east-1:322537213286:automl-job/automl-dm-19-01-33-55', 'InputDataConfig': [{'DataSource': {'S3DataSource': {'S3DataType': 'S3Prefix', 'S3Uri': 's3://sagemaker-us-east-1-322537213286/data/amazon_reviews_us_Digital_Software_v1_00_header.csv'}}, 'TargetAttributeName': 'star_rating'}], 'OutputDataConfig': {'S3OutputPath': 's3://sagemaker-experiments-us-east-1-322537213286/models/autopilot'}, 'RoleArn': 'arn:aws:iam::322537213286:role/service-role/AIMLWorkshop-targetfor-1124-SageMakerIamRole-TWXQ0O23QRAY', 'AutoMLJobConfig': {'CompletionCriteria': {'MaxCandidates': 3, 'MaxRuntimePerTrainingJobInSeconds': 600, 'MaxAutoMLJobRuntimeInSeconds': 3600}}, 'CreationTime': datetime.datetime(2020, 11, 19, 1, 33, 55, 384000, tzinfo=tzlocal()), 'EndTime': datetime.datetime(2020, 11, 19, 1, 58, 50, 463000, tzinfo=tzlocal()), 'LastModifiedTime': datetime.datetime(2020, 11, 19, 1, 58, 50, 497000, tzinfo=tzlocal()), 'BestCandidate': {'CandidateName': 'tuning-job-1-7a6f5739bfae48ffbf-002-6bf8e438', 'FinalAutoMLJobObjectiveMetric': {'MetricName': 'validation:accuracy', 'Value': 0.48201999068260193}, 'ObjectiveStatus': 'Succeeded', 'CandidateSteps': [{'CandidateStepType': 'AWS::SageMaker::ProcessingJob', 'CandidateStepArn': 'arn:aws:sagemaker:us-east-1:322537213286:processing-job/db-1-2d9c527a83a04946aa94e02498351a6c67dba2cd48884cd48eff37376e', 'CandidateStepName': 'db-1-2d9c527a83a04946aa94e02498351a6c67dba2cd48884cd48eff37376e'}, {'CandidateStepType': 'AWS::SageMaker::TrainingJob', 'CandidateStepArn': 'arn:aws:sagemaker:us-east-1:322537213286:training-job/automl-dm--dpp2-1-7a6b7dc133994fd3abef6279c934d711de56297fd9f24', 'CandidateStepName': 'automl-dm--dpp2-1-7a6b7dc133994fd3abef6279c934d711de56297fd9f24'}, {'CandidateStepType': 'AWS::SageMaker::TransformJob', 'CandidateStepArn': 'arn:aws:sagemaker:us-east-1:322537213286:transform-job/automl-dm--dpp2-rpb-1-a4250ff0fd4e4c2c9180b738f88ea32b56ca59b35', 'CandidateStepName': 'automl-dm--dpp2-rpb-1-a4250ff0fd4e4c2c9180b738f88ea32b56ca59b35'}, {'CandidateStepType': 'AWS::SageMaker::TrainingJob', 'CandidateStepArn': 'arn:aws:sagemaker:us-east-1:322537213286:training-job/tuning-job-1-7a6f5739bfae48ffbf-002-6bf8e438', 'CandidateStepName': 'tuning-job-1-7a6f5739bfae48ffbf-002-6bf8e438'}], 'CandidateStatus': 'Completed', 'InferenceContainers': [{'Image': '683313688378.dkr.ecr.us-east-1.amazonaws.com/sagemaker-sklearn-automl:0.2-1-cpu-py3', 'ModelDataUrl': 's3://sagemaker-experiments-us-east-1-322537213286/models/autopilot/automl-dm-19-01-33-55/data-processor-models/automl-dm--dpp2-1-7a6b7dc133994fd3abef6279c934d711de56297fd9f24/output/model.tar.gz', 'Environment': {'AUTOML_SPARSE_ENCODE_RECORDIO_PROTOBUF': '1', 'AUTOML_TRANSFORM_MODE': 'feature-transform', 'SAGEMAKER_DEFAULT_INVOCATIONS_ACCEPT': 'application/x-recordio-protobuf', 'SAGEMAKER_PROGRAM': 'sagemaker_serve', 'SAGEMAKER_SUBMIT_DIRECTORY': '/opt/ml/model/code'}}, {'Image': '683313688378.dkr.ecr.us-east-1.amazonaws.com/sagemaker-xgboost:1.0-1-cpu-py3', 'ModelDataUrl': 's3://sagemaker-experiments-us-east-1-322537213286/models/autopilot/automl-dm-19-01-33-55/tuning/automl-dm--dpp2-xgb/tuning-job-1-7a6f5739bfae48ffbf-002-6bf8e438/output/model.tar.gz', 'Environment': {'MAX_CONTENT_LENGTH': '20971520', 'SAGEMAKER_DEFAULT_INVOCATIONS_ACCEPT': 'text/csv', 'SAGEMAKER_INFERENCE_OUTPUT': 'predicted_label', 'SAGEMAKER_INFERENCE_SUPPORTED': 'predicted_label,probability,probabilities'}}, {'Image': '683313688378.dkr.ecr.us-east-1.amazonaws.com/sagemaker-sklearn-automl:0.2-1-cpu-py3', 'ModelDataUrl': 's3://sagemaker-experiments-us-east-1-322537213286/models/autopilot/automl-dm-19-01-33-55/data-processor-models/automl-dm--dpp2-1-7a6b7dc133994fd3abef6279c934d711de56297fd9f24/output/model.tar.gz', 'Environment': {'AUTOML_TRANSFORM_MODE': 'inverse-label-transform', 'SAGEMAKER_DEFAULT_INVOCATIONS_ACCEPT': 'text/csv', 'SAGEMAKER_INFERENCE_INPUT': 'predicted_label', 'SAGEMAKER_INFERENCE_OUTPUT': 'predicted_label', 'SAGEMAKER_INFERENCE_SUPPORTED': 'predicted_label,probability,labels,probabilities', 'SAGEMAKER_PROGRAM': 'sagemaker_serve', 'SAGEMAKER_SUBMIT_DIRECTORY': '/opt/ml/model/code'}}], 'CreationTime': datetime.datetime(2020, 11, 19, 1, 55, 35, tzinfo=tzlocal()), 'EndTime': datetime.datetime(2020, 11, 19, 1, 57, 43, tzinfo=tzlocal()), 'LastModifiedTime': datetime.datetime(2020, 11, 19, 1, 58, 49, 559000, tzinfo=tzlocal())}, 'AutoMLJobStatus': 'Completed', 'AutoMLJobSecondaryStatus': 'MaxCandidatesReached', 'GenerateCandidateDefinitionsOnly': False, 'AutoMLJobArtifacts': {'CandidateDefinitionNotebookLocation': 's3://sagemaker-experiments-us-east-1-322537213286/models/autopilot/automl-dm-19-01-33-55/sagemaker-automl-candidates/pr-1-5ae06caecb484da2b6ee959a0c0c4f0b7fafdb0242f5473197466f212f/notebooks/SageMakerAutopilotCandidateDefinitionNotebook.ipynb', 'DataExplorationNotebookLocation': 's3://sagemaker-experiments-us-east-1-322537213286/models/autopilot/automl-dm-19-01-33-55/sagemaker-automl-candidates/pr-1-5ae06caecb484da2b6ee959a0c0c4f0b7fafdb0242f5473197466f212f/notebooks/SageMakerAutopilotDataExplorationNotebook.ipynb'}, 'ResolvedAttributes': {'AutoMLJobObjective': {'MetricName': 'Accuracy'}, 'ProblemType': 'MulticlassClassification', 'CompletionCriteria': {'MaxCandidates': 3, 'MaxRuntimePerTrainingJobInSeconds': 600, 'MaxAutoMLJobRuntimeInSeconds': 3600}}, 'ResponseMetadata': {'RequestId': '35ef43c5-aad0-453d-b270-a0086d7d8d0a', 'HTTPStatusCode': 200, 'HTTPHeaders': {'x-amzn-requestid': '35ef43c5-aad0-453d-b270-a0086d7d8d0a', 'content-type': 'application/x-amz-json-1.1', 'content-length': '4948', 'date': 'Thu, 19 Nov 2020 01:59:05 GMT'}, 'RetryAttempts': 0}}\n"
     ]
    }
   ],
   "source": [
    "job = sm.describe_auto_ml_job(AutoMLJobName=auto_ml_job_name)\n",
    "job_status = job['AutoMLJobStatus']\n",
    "job_sec_status = job['AutoMLJobSecondaryStatus']\n",
    "print(job_status)\n",
    "print(job_sec_status)\n",
    "if job_status not in ('Stopped', 'Failed'):\n",
    "    while job_status in ('InProgress') and job_sec_status in ('ModelTuning'):\n",
    "        job = sm.describe_auto_ml_job(AutoMLJobName=auto_ml_job_name)\n",
    "        job_status = job['AutoMLJobStatus']\n",
    "        job_sec_status = job['AutoMLJobSecondaryStatus']\n",
    "        print(job_status, job_sec_status)\n",
    "        sleep(30)\n",
    "    print(\"Model tuning complete\")\n",
    "    \n",
    "print(job)"
   ]
  },
  {
   "cell_type": "markdown",
   "metadata": {},
   "source": [
    "<h2><span style=\"color:red\">위 Autopilot이 완료되기 전까지 기다려 주시기 바랍니다.</span></h2>"
   ]
  },
  {
   "cell_type": "markdown",
   "metadata": {},
   "source": [
    "# View Generated Notebooks\n",
    "\n",
    "데이터 분석이 완료되며, SageMaker AutoPilot 2가지 노트북을 생성합니다.\n",
    "* Data exploration,\n",
    "* Candidate definition."
   ]
  },
  {
   "cell_type": "markdown",
   "metadata": {},
   "source": [
    "## Copy the Generated Notebooks Locally"
   ]
  },
  {
   "cell_type": "code",
   "execution_count": 41,
   "metadata": {
    "scrolled": true
   },
   "outputs": [
    {
     "data": {
      "text/plain": [
       "'s3://sagemaker-experiments-us-east-1-322537213286/models/autopilot/automl-dm-19-01-33-55/sagemaker-automl-candidates/pr-1-5ae06caecb484da2b6ee959a0c0c4f0b7fafdb0242f5473197466f212f'"
      ]
     },
     "execution_count": 41,
     "metadata": {},
     "output_type": "execute_result"
    }
   ],
   "source": [
    "generated_resources = job['AutoMLJobArtifacts']['DataExplorationNotebookLocation'].rstrip('notebooks/SageMakerAutopilotDataExplorationNotebook.ipynb')\n",
    "generated_resources"
   ]
  },
  {
   "cell_type": "code",
   "execution_count": 42,
   "metadata": {},
   "outputs": [
    {
     "name": "stdout",
     "output_type": "stream",
     "text": [
      "download: s3://sagemaker-experiments-us-east-1-322537213286/models/autopilot/automl-dm-19-01-33-55/sagemaker-automl-candidates/pr-1-5ae06caecb484da2b6ee959a0c0c4f0b7fafdb0242f5473197466f212f/generated_module/README.md to generated_module/README.md\n",
      "download: s3://sagemaker-experiments-us-east-1-322537213286/models/autopilot/automl-dm-19-01-33-55/sagemaker-automl-candidates/pr-1-5ae06caecb484da2b6ee959a0c0c4f0b7fafdb0242f5473197466f212f/generated_module/candidate_data_processors/sagemaker_serve.py to generated_module/candidate_data_processors/sagemaker_serve.py\n",
      "download: s3://sagemaker-experiments-us-east-1-322537213286/models/autopilot/automl-dm-19-01-33-55/sagemaker-automl-candidates/pr-1-5ae06caecb484da2b6ee959a0c0c4f0b7fafdb0242f5473197466f212f/generated_module/candidate_data_processors/dpp1.py to generated_module/candidate_data_processors/dpp1.py\n",
      "download: s3://sagemaker-experiments-us-east-1-322537213286/models/autopilot/automl-dm-19-01-33-55/sagemaker-automl-candidates/pr-1-5ae06caecb484da2b6ee959a0c0c4f0b7fafdb0242f5473197466f212f/generated_module/candidate_data_processors/dpp0.py to generated_module/candidate_data_processors/dpp0.py\n",
      "download: s3://sagemaker-experiments-us-east-1-322537213286/models/autopilot/automl-dm-19-01-33-55/sagemaker-automl-candidates/pr-1-5ae06caecb484da2b6ee959a0c0c4f0b7fafdb0242f5473197466f212f/generated_module/setup.py to generated_module/setup.py\n",
      "download: s3://sagemaker-experiments-us-east-1-322537213286/models/autopilot/automl-dm-19-01-33-55/sagemaker-automl-candidates/pr-1-5ae06caecb484da2b6ee959a0c0c4f0b7fafdb0242f5473197466f212f/generated_module/MANIFEST.in to generated_module/MANIFEST.in\n",
      "download: s3://sagemaker-experiments-us-east-1-322537213286/models/autopilot/automl-dm-19-01-33-55/sagemaker-automl-candidates/pr-1-5ae06caecb484da2b6ee959a0c0c4f0b7fafdb0242f5473197466f212f/generated_module/candidate_data_processors/trainer.py to generated_module/candidate_data_processors/trainer.py\n",
      "download: s3://sagemaker-experiments-us-east-1-322537213286/models/autopilot/automl-dm-19-01-33-55/sagemaker-automl-candidates/pr-1-5ae06caecb484da2b6ee959a0c0c4f0b7fafdb0242f5473197466f212f/notebooks/SageMakerAutopilotCandidateDefinitionNotebook.ipynb to notebooks/SageMakerAutopilotCandidateDefinitionNotebook.ipynb\n",
      "download: s3://sagemaker-experiments-us-east-1-322537213286/models/autopilot/automl-dm-19-01-33-55/sagemaker-automl-candidates/pr-1-5ae06caecb484da2b6ee959a0c0c4f0b7fafdb0242f5473197466f212f/notebooks/sagemaker_automl/README.md to notebooks/sagemaker_automl/README.md\n",
      "download: s3://sagemaker-experiments-us-east-1-322537213286/models/autopilot/automl-dm-19-01-33-55/sagemaker-automl-candidates/pr-1-5ae06caecb484da2b6ee959a0c0c4f0b7fafdb0242f5473197466f212f/notebooks/sagemaker_automl/interactive_runner.py to notebooks/sagemaker_automl/interactive_runner.py\n",
      "download: s3://sagemaker-experiments-us-east-1-322537213286/models/autopilot/automl-dm-19-01-33-55/sagemaker-automl-candidates/pr-1-5ae06caecb484da2b6ee959a0c0c4f0b7fafdb0242f5473197466f212f/notebooks/sagemaker_automl/config.py to notebooks/sagemaker_automl/config.py\n",
      "download: s3://sagemaker-experiments-us-east-1-322537213286/models/autopilot/automl-dm-19-01-33-55/sagemaker-automl-candidates/pr-1-5ae06caecb484da2b6ee959a0c0c4f0b7fafdb0242f5473197466f212f/generated_module/candidate_data_processors/dpp2.py to generated_module/candidate_data_processors/dpp2.py\n",
      "download: s3://sagemaker-experiments-us-east-1-322537213286/models/autopilot/automl-dm-19-01-33-55/sagemaker-automl-candidates/pr-1-5ae06caecb484da2b6ee959a0c0c4f0b7fafdb0242f5473197466f212f/notebooks/SageMakerAutopilotDataExplorationNotebook.ipynb to notebooks/SageMakerAutopilotDataExplorationNotebook.ipynb\n",
      "download: s3://sagemaker-experiments-us-east-1-322537213286/models/autopilot/automl-dm-19-01-33-55/sagemaker-automl-candidates/pr-1-5ae06caecb484da2b6ee959a0c0c4f0b7fafdb0242f5473197466f212f/notebooks/sagemaker_automl/steps.py to notebooks/sagemaker_automl/steps.py\n",
      "download: s3://sagemaker-experiments-us-east-1-322537213286/models/autopilot/automl-dm-19-01-33-55/sagemaker-automl-candidates/pr-1-5ae06caecb484da2b6ee959a0c0c4f0b7fafdb0242f5473197466f212f/notebooks/sagemaker_automl/__init__.py to notebooks/sagemaker_automl/__init__.py\n",
      "download: s3://sagemaker-experiments-us-east-1-322537213286/models/autopilot/automl-dm-19-01-33-55/sagemaker-automl-candidates/pr-1-5ae06caecb484da2b6ee959a0c0c4f0b7fafdb0242f5473197466f212f/notebooks/sagemaker_automl/local_candidate.py to notebooks/sagemaker_automl/local_candidate.py\n",
      "download: s3://sagemaker-experiments-us-east-1-322537213286/models/autopilot/automl-dm-19-01-33-55/sagemaker-automl-candidates/pr-1-5ae06caecb484da2b6ee959a0c0c4f0b7fafdb0242f5473197466f212f/notebooks/sagemaker_automl/common.py to notebooks/sagemaker_automl/common.py\n"
     ]
    }
   ],
   "source": [
    "!aws s3 cp --recursive $generated_resources ."
   ]
  },
  {
   "cell_type": "markdown",
   "metadata": {},
   "source": [
    "## In the file view, open the following folders:\n",
    "```\n",
    "notebooks/\n",
    "generated_module/\n",
    "```\n",
    "이 폴더에서 많은 정보를 보실 수 있습니다."
   ]
  },
  {
   "cell_type": "markdown",
   "metadata": {},
   "source": [
    "# Viewing All Candidates\n",
    "\n",
    "model tuning이 완료되면 AutoML에서 탐색 한 모든 후보(서로 다른 하이퍼 파라미터 조합을 가진 파이프 라인 평가)를 보고, 최종 성능 메트릭별로 정렬할 수 있습니다."
   ]
  },
  {
   "cell_type": "code",
   "execution_count": 14,
   "metadata": {},
   "outputs": [
    {
     "name": "stdout",
     "output_type": "stream",
     "text": [
      "0  tuning-job-1-7a6f5739bfae48ffbf-002-6bf8e438  0.48201999068260193\n",
      "1  tuning-job-1-7a6f5739bfae48ffbf-001-06837492  0.2903299927711487\n",
      "2  tuning-job-1-7a6f5739bfae48ffbf-003-e256aa27  0.2791000008583069\n"
     ]
    }
   ],
   "source": [
    "candidates = sm.list_candidates_for_auto_ml_job(AutoMLJobName=auto_ml_job_name, \n",
    "                                                SortBy='FinalObjectiveMetricValue')['Candidates']\n",
    "for index, candidate in enumerate(candidates):\n",
    "    print(str(index) + \"  \" \n",
    "        + candidate['CandidateName'] + \"  \" \n",
    "        + str(candidate['FinalAutoMLJobObjectiveMetric']['Value']))"
   ]
  },
  {
   "cell_type": "markdown",
   "metadata": {},
   "source": [
    "# Inspect Trials using Experiments API\n",
    "\n",
    "SageMaker Autopilot은 자동으로 새로운 experiment를 생성하고, 각 trial에 대한 정보를 experiment에 추가합니다."
   ]
  },
  {
   "cell_type": "code",
   "execution_count": 15,
   "metadata": {},
   "outputs": [
    {
     "data": {
      "text/html": [
       "<div>\n",
       "<style scoped>\n",
       "    .dataframe tbody tr th:only-of-type {\n",
       "        vertical-align: middle;\n",
       "    }\n",
       "\n",
       "    .dataframe tbody tr th {\n",
       "        vertical-align: top;\n",
       "    }\n",
       "\n",
       "    .dataframe thead th {\n",
       "        text-align: right;\n",
       "    }\n",
       "</style>\n",
       "<table border=\"1\" class=\"dataframe\">\n",
       "  <thead>\n",
       "    <tr style=\"text-align: right;\">\n",
       "      <th></th>\n",
       "      <th>TrialComponentName</th>\n",
       "      <th>DisplayName</th>\n",
       "      <th>SourceArn</th>\n",
       "      <th>SageMaker.ImageUri</th>\n",
       "      <th>SageMaker.InstanceCount</th>\n",
       "      <th>SageMaker.InstanceType</th>\n",
       "      <th>SageMaker.VolumeSizeInGB</th>\n",
       "      <th>_tuning_objective_metric</th>\n",
       "      <th>alpha</th>\n",
       "      <th>colsample_bytree</th>\n",
       "      <th>...</th>\n",
       "      <th>code - MediaType</th>\n",
       "      <th>code - Value</th>\n",
       "      <th>input_channel_mode</th>\n",
       "      <th>job_name</th>\n",
       "      <th>label_col</th>\n",
       "      <th>max_dataset_size</th>\n",
       "      <th>SageMaker.ImageUri - MediaType</th>\n",
       "      <th>SageMaker.ImageUri - Value</th>\n",
       "      <th>ds - MediaType</th>\n",
       "      <th>ds - Value</th>\n",
       "    </tr>\n",
       "  </thead>\n",
       "  <tbody>\n",
       "    <tr>\n",
       "      <th>0</th>\n",
       "      <td>tuning-job-1-7a6f5739bfae48ffbf-003-e256aa27-a...</td>\n",
       "      <td>tuning-job-1-7a6f5739bfae48ffbf-003-e256aa27-a...</td>\n",
       "      <td>arn:aws:sagemaker:us-east-1:322537213286:train...</td>\n",
       "      <td>683313688378.dkr.ecr.us-east-1.amazonaws.com/s...</td>\n",
       "      <td>1.0</td>\n",
       "      <td>ml.m5.4xlarge</td>\n",
       "      <td>50.0</td>\n",
       "      <td>validation:accuracy</td>\n",
       "      <td>0.000021</td>\n",
       "      <td>0.534112</td>\n",
       "      <td>...</td>\n",
       "      <td>NaN</td>\n",
       "      <td>NaN</td>\n",
       "      <td>NaN</td>\n",
       "      <td>NaN</td>\n",
       "      <td>NaN</td>\n",
       "      <td>NaN</td>\n",
       "      <td>NaN</td>\n",
       "      <td>NaN</td>\n",
       "      <td>NaN</td>\n",
       "      <td>NaN</td>\n",
       "    </tr>\n",
       "    <tr>\n",
       "      <th>1</th>\n",
       "      <td>tuning-job-1-7a6f5739bfae48ffbf-002-6bf8e438-a...</td>\n",
       "      <td>tuning-job-1-7a6f5739bfae48ffbf-002-6bf8e438-a...</td>\n",
       "      <td>arn:aws:sagemaker:us-east-1:322537213286:train...</td>\n",
       "      <td>683313688378.dkr.ecr.us-east-1.amazonaws.com/s...</td>\n",
       "      <td>1.0</td>\n",
       "      <td>ml.m5.4xlarge</td>\n",
       "      <td>50.0</td>\n",
       "      <td>validation:accuracy</td>\n",
       "      <td>0.000001</td>\n",
       "      <td>1.000000</td>\n",
       "      <td>...</td>\n",
       "      <td>NaN</td>\n",
       "      <td>NaN</td>\n",
       "      <td>NaN</td>\n",
       "      <td>NaN</td>\n",
       "      <td>NaN</td>\n",
       "      <td>NaN</td>\n",
       "      <td>NaN</td>\n",
       "      <td>NaN</td>\n",
       "      <td>NaN</td>\n",
       "      <td>NaN</td>\n",
       "    </tr>\n",
       "    <tr>\n",
       "      <th>2</th>\n",
       "      <td>tuning-job-1-7a6f5739bfae48ffbf-001-06837492-a...</td>\n",
       "      <td>tuning-job-1-7a6f5739bfae48ffbf-001-06837492-a...</td>\n",
       "      <td>arn:aws:sagemaker:us-east-1:322537213286:train...</td>\n",
       "      <td>683313688378.dkr.ecr.us-east-1.amazonaws.com/s...</td>\n",
       "      <td>1.0</td>\n",
       "      <td>ml.m5.4xlarge</td>\n",
       "      <td>50.0</td>\n",
       "      <td>validation:accuracy</td>\n",
       "      <td>0.000001</td>\n",
       "      <td>1.000000</td>\n",
       "      <td>...</td>\n",
       "      <td>NaN</td>\n",
       "      <td>NaN</td>\n",
       "      <td>NaN</td>\n",
       "      <td>NaN</td>\n",
       "      <td>NaN</td>\n",
       "      <td>NaN</td>\n",
       "      <td>NaN</td>\n",
       "      <td>NaN</td>\n",
       "      <td>NaN</td>\n",
       "      <td>NaN</td>\n",
       "    </tr>\n",
       "    <tr>\n",
       "      <th>3</th>\n",
       "      <td>automl-dm--dpp1-csv-1-b43ef87eb77448e4b67fb8de...</td>\n",
       "      <td>automl-dm--dpp1-csv-1-b43ef87eb77448e4b67fb8de...</td>\n",
       "      <td>arn:aws:sagemaker:us-east-1:322537213286:trans...</td>\n",
       "      <td>NaN</td>\n",
       "      <td>1.0</td>\n",
       "      <td>ml.m5.4xlarge</td>\n",
       "      <td>NaN</td>\n",
       "      <td>NaN</td>\n",
       "      <td>NaN</td>\n",
       "      <td>NaN</td>\n",
       "      <td>...</td>\n",
       "      <td>NaN</td>\n",
       "      <td>NaN</td>\n",
       "      <td>NaN</td>\n",
       "      <td>NaN</td>\n",
       "      <td>NaN</td>\n",
       "      <td>NaN</td>\n",
       "      <td>NaN</td>\n",
       "      <td>NaN</td>\n",
       "      <td>NaN</td>\n",
       "      <td>NaN</td>\n",
       "    </tr>\n",
       "    <tr>\n",
       "      <th>4</th>\n",
       "      <td>automl-dm--dpp2-rpb-1-a4250ff0fd4e4c2c9180b738...</td>\n",
       "      <td>automl-dm--dpp2-rpb-1-a4250ff0fd4e4c2c9180b738...</td>\n",
       "      <td>arn:aws:sagemaker:us-east-1:322537213286:trans...</td>\n",
       "      <td>NaN</td>\n",
       "      <td>1.0</td>\n",
       "      <td>ml.m5.4xlarge</td>\n",
       "      <td>NaN</td>\n",
       "      <td>NaN</td>\n",
       "      <td>NaN</td>\n",
       "      <td>NaN</td>\n",
       "      <td>...</td>\n",
       "      <td>NaN</td>\n",
       "      <td>NaN</td>\n",
       "      <td>NaN</td>\n",
       "      <td>NaN</td>\n",
       "      <td>NaN</td>\n",
       "      <td>NaN</td>\n",
       "      <td>NaN</td>\n",
       "      <td>NaN</td>\n",
       "      <td>NaN</td>\n",
       "      <td>NaN</td>\n",
       "    </tr>\n",
       "    <tr>\n",
       "      <th>5</th>\n",
       "      <td>automl-dm--dpp1-1-d6cb1b2cef4d4ba9a6de2c757f02...</td>\n",
       "      <td>automl-dm--dpp1-1-d6cb1b2cef4d4ba9a6de2c757f02...</td>\n",
       "      <td>arn:aws:sagemaker:us-east-1:322537213286:train...</td>\n",
       "      <td>683313688378.dkr.ecr.us-east-1.amazonaws.com/s...</td>\n",
       "      <td>1.0</td>\n",
       "      <td>ml.m5.4xlarge</td>\n",
       "      <td>50.0</td>\n",
       "      <td>NaN</td>\n",
       "      <td>NaN</td>\n",
       "      <td>NaN</td>\n",
       "      <td>...</td>\n",
       "      <td>application/x-code</td>\n",
       "      <td>s3://sagemaker-experiments-us-east-1-322537213...</td>\n",
       "      <td>NaN</td>\n",
       "      <td>NaN</td>\n",
       "      <td>NaN</td>\n",
       "      <td>NaN</td>\n",
       "      <td>NaN</td>\n",
       "      <td>NaN</td>\n",
       "      <td>NaN</td>\n",
       "      <td>NaN</td>\n",
       "    </tr>\n",
       "    <tr>\n",
       "      <th>6</th>\n",
       "      <td>automl-dm--dpp2-1-7a6b7dc133994fd3abef6279c934...</td>\n",
       "      <td>automl-dm--dpp2-1-7a6b7dc133994fd3abef6279c934...</td>\n",
       "      <td>arn:aws:sagemaker:us-east-1:322537213286:train...</td>\n",
       "      <td>683313688378.dkr.ecr.us-east-1.amazonaws.com/s...</td>\n",
       "      <td>1.0</td>\n",
       "      <td>ml.m5.4xlarge</td>\n",
       "      <td>50.0</td>\n",
       "      <td>NaN</td>\n",
       "      <td>NaN</td>\n",
       "      <td>NaN</td>\n",
       "      <td>...</td>\n",
       "      <td>application/x-code</td>\n",
       "      <td>s3://sagemaker-experiments-us-east-1-322537213...</td>\n",
       "      <td>NaN</td>\n",
       "      <td>NaN</td>\n",
       "      <td>NaN</td>\n",
       "      <td>NaN</td>\n",
       "      <td>NaN</td>\n",
       "      <td>NaN</td>\n",
       "      <td>NaN</td>\n",
       "      <td>NaN</td>\n",
       "    </tr>\n",
       "    <tr>\n",
       "      <th>7</th>\n",
       "      <td>db-1-2d9c527a83a04946aa94e02498351a6c67dba2cd4...</td>\n",
       "      <td>db-1-2d9c527a83a04946aa94e02498351a6c67dba2cd4...</td>\n",
       "      <td>arn:aws:sagemaker:us-east-1:322537213286:proce...</td>\n",
       "      <td>NaN</td>\n",
       "      <td>1.0</td>\n",
       "      <td>ml.m5.2xlarge</td>\n",
       "      <td>250.0</td>\n",
       "      <td>NaN</td>\n",
       "      <td>NaN</td>\n",
       "      <td>NaN</td>\n",
       "      <td>...</td>\n",
       "      <td>NaN</td>\n",
       "      <td>NaN</td>\n",
       "      <td>Pipe</td>\n",
       "      <td>automl-dm-19-01-33-55</td>\n",
       "      <td>star_rating</td>\n",
       "      <td>5</td>\n",
       "      <td>NaN</td>\n",
       "      <td>120479346908.dkr.ecr.us-east-1.amazonaws.com/d...</td>\n",
       "      <td>NaN</td>\n",
       "      <td>s3://sagemaker-experiments-us-east-1-322537213...</td>\n",
       "    </tr>\n",
       "  </tbody>\n",
       "</table>\n",
       "<p>8 rows × 78 columns</p>\n",
       "</div>"
      ],
      "text/plain": [
       "                                  TrialComponentName  \\\n",
       "0  tuning-job-1-7a6f5739bfae48ffbf-003-e256aa27-a...   \n",
       "1  tuning-job-1-7a6f5739bfae48ffbf-002-6bf8e438-a...   \n",
       "2  tuning-job-1-7a6f5739bfae48ffbf-001-06837492-a...   \n",
       "3  automl-dm--dpp1-csv-1-b43ef87eb77448e4b67fb8de...   \n",
       "4  automl-dm--dpp2-rpb-1-a4250ff0fd4e4c2c9180b738...   \n",
       "5  automl-dm--dpp1-1-d6cb1b2cef4d4ba9a6de2c757f02...   \n",
       "6  automl-dm--dpp2-1-7a6b7dc133994fd3abef6279c934...   \n",
       "7  db-1-2d9c527a83a04946aa94e02498351a6c67dba2cd4...   \n",
       "\n",
       "                                         DisplayName  \\\n",
       "0  tuning-job-1-7a6f5739bfae48ffbf-003-e256aa27-a...   \n",
       "1  tuning-job-1-7a6f5739bfae48ffbf-002-6bf8e438-a...   \n",
       "2  tuning-job-1-7a6f5739bfae48ffbf-001-06837492-a...   \n",
       "3  automl-dm--dpp1-csv-1-b43ef87eb77448e4b67fb8de...   \n",
       "4  automl-dm--dpp2-rpb-1-a4250ff0fd4e4c2c9180b738...   \n",
       "5  automl-dm--dpp1-1-d6cb1b2cef4d4ba9a6de2c757f02...   \n",
       "6  automl-dm--dpp2-1-7a6b7dc133994fd3abef6279c934...   \n",
       "7  db-1-2d9c527a83a04946aa94e02498351a6c67dba2cd4...   \n",
       "\n",
       "                                           SourceArn  \\\n",
       "0  arn:aws:sagemaker:us-east-1:322537213286:train...   \n",
       "1  arn:aws:sagemaker:us-east-1:322537213286:train...   \n",
       "2  arn:aws:sagemaker:us-east-1:322537213286:train...   \n",
       "3  arn:aws:sagemaker:us-east-1:322537213286:trans...   \n",
       "4  arn:aws:sagemaker:us-east-1:322537213286:trans...   \n",
       "5  arn:aws:sagemaker:us-east-1:322537213286:train...   \n",
       "6  arn:aws:sagemaker:us-east-1:322537213286:train...   \n",
       "7  arn:aws:sagemaker:us-east-1:322537213286:proce...   \n",
       "\n",
       "                                  SageMaker.ImageUri  SageMaker.InstanceCount  \\\n",
       "0  683313688378.dkr.ecr.us-east-1.amazonaws.com/s...                      1.0   \n",
       "1  683313688378.dkr.ecr.us-east-1.amazonaws.com/s...                      1.0   \n",
       "2  683313688378.dkr.ecr.us-east-1.amazonaws.com/s...                      1.0   \n",
       "3                                                NaN                      1.0   \n",
       "4                                                NaN                      1.0   \n",
       "5  683313688378.dkr.ecr.us-east-1.amazonaws.com/s...                      1.0   \n",
       "6  683313688378.dkr.ecr.us-east-1.amazonaws.com/s...                      1.0   \n",
       "7                                                NaN                      1.0   \n",
       "\n",
       "  SageMaker.InstanceType  SageMaker.VolumeSizeInGB _tuning_objective_metric  \\\n",
       "0          ml.m5.4xlarge                      50.0      validation:accuracy   \n",
       "1          ml.m5.4xlarge                      50.0      validation:accuracy   \n",
       "2          ml.m5.4xlarge                      50.0      validation:accuracy   \n",
       "3          ml.m5.4xlarge                       NaN                      NaN   \n",
       "4          ml.m5.4xlarge                       NaN                      NaN   \n",
       "5          ml.m5.4xlarge                      50.0                      NaN   \n",
       "6          ml.m5.4xlarge                      50.0                      NaN   \n",
       "7          ml.m5.2xlarge                     250.0                      NaN   \n",
       "\n",
       "      alpha  colsample_bytree  ...    code - MediaType  \\\n",
       "0  0.000021          0.534112  ...                 NaN   \n",
       "1  0.000001          1.000000  ...                 NaN   \n",
       "2  0.000001          1.000000  ...                 NaN   \n",
       "3       NaN               NaN  ...                 NaN   \n",
       "4       NaN               NaN  ...                 NaN   \n",
       "5       NaN               NaN  ...  application/x-code   \n",
       "6       NaN               NaN  ...  application/x-code   \n",
       "7       NaN               NaN  ...                 NaN   \n",
       "\n",
       "                                        code - Value  input_channel_mode  \\\n",
       "0                                                NaN                 NaN   \n",
       "1                                                NaN                 NaN   \n",
       "2                                                NaN                 NaN   \n",
       "3                                                NaN                 NaN   \n",
       "4                                                NaN                 NaN   \n",
       "5  s3://sagemaker-experiments-us-east-1-322537213...                 NaN   \n",
       "6  s3://sagemaker-experiments-us-east-1-322537213...                 NaN   \n",
       "7                                                NaN                Pipe   \n",
       "\n",
       "                job_name    label_col  max_dataset_size  \\\n",
       "0                    NaN          NaN               NaN   \n",
       "1                    NaN          NaN               NaN   \n",
       "2                    NaN          NaN               NaN   \n",
       "3                    NaN          NaN               NaN   \n",
       "4                    NaN          NaN               NaN   \n",
       "5                    NaN          NaN               NaN   \n",
       "6                    NaN          NaN               NaN   \n",
       "7  automl-dm-19-01-33-55  star_rating                 5   \n",
       "\n",
       "   SageMaker.ImageUri - MediaType  \\\n",
       "0                             NaN   \n",
       "1                             NaN   \n",
       "2                             NaN   \n",
       "3                             NaN   \n",
       "4                             NaN   \n",
       "5                             NaN   \n",
       "6                             NaN   \n",
       "7                             NaN   \n",
       "\n",
       "                          SageMaker.ImageUri - Value ds - MediaType  \\\n",
       "0                                                NaN            NaN   \n",
       "1                                                NaN            NaN   \n",
       "2                                                NaN            NaN   \n",
       "3                                                NaN            NaN   \n",
       "4                                                NaN            NaN   \n",
       "5                                                NaN            NaN   \n",
       "6                                                NaN            NaN   \n",
       "7  120479346908.dkr.ecr.us-east-1.amazonaws.com/d...            NaN   \n",
       "\n",
       "                                          ds - Value  \n",
       "0                                                NaN  \n",
       "1                                                NaN  \n",
       "2                                                NaN  \n",
       "3                                                NaN  \n",
       "4                                                NaN  \n",
       "5                                                NaN  \n",
       "6                                                NaN  \n",
       "7  s3://sagemaker-experiments-us-east-1-322537213...  \n",
       "\n",
       "[8 rows x 78 columns]"
      ]
     },
     "execution_count": 15,
     "metadata": {},
     "output_type": "execute_result"
    }
   ],
   "source": [
    "from sagemaker.analytics import ExperimentAnalytics, TrainingJobAnalytics\n",
    "\n",
    "exp = ExperimentAnalytics(\n",
    "        sagemaker_session=sess, \n",
    "        experiment_name=auto_ml_job_name + '-aws-auto-ml-job',\n",
    ")\n",
    "\n",
    "df = exp.dataframe()\n",
    "df"
   ]
  },
  {
   "cell_type": "markdown",
   "metadata": {},
   "source": [
    "# Explore the Best Candidate\n",
    "\n",
    "Dataset에서 AutoML job을 완료하고 trials를 시각화하면, 단일 API call로 어떤 trials에 대해 모델을 생성할 수 있습니다. [Inference Pipelines](https://docs.aws.amazon.com/sagemaker/latest/dg/inference-pipelines.html) 사용하여 온라인으로 또는 batch prediction으로 모델을 배포합니다. 이 노트북에서는 가장 성능이 좋은 trial을 선택하여 inference로 배포합니다.\n"
   ]
  },
  {
   "cell_type": "code",
   "execution_count": 16,
   "metadata": {},
   "outputs": [
    {
     "name": "stdout",
     "output_type": "stream",
     "text": [
      "Candidate name: tuning-job-1-7a6f5739bfae48ffbf-002-6bf8e438\n",
      "Metric name: validation:accuracy\n",
      "Metric value: 0.48201999068260193\n"
     ]
    }
   ],
   "source": [
    "best_candidate = sm.describe_auto_ml_job(AutoMLJobName=auto_ml_job_name)['BestCandidate']\n",
    "best_candidate_identifier = best_candidate['CandidateName']\n",
    "\n",
    "print(\"Candidate name: \" + best_candidate_identifier)\n",
    "print(\"Metric name: \" + best_candidate['FinalAutoMLJobObjectiveMetric']['MetricName'])\n",
    "print(\"Metric value: \" + str(best_candidate['FinalAutoMLJobObjectiveMetric']['Value']))"
   ]
  },
  {
   "cell_type": "code",
   "execution_count": 17,
   "metadata": {},
   "outputs": [
    {
     "data": {
      "text/plain": [
       "{'CandidateName': 'tuning-job-1-7a6f5739bfae48ffbf-002-6bf8e438',\n",
       " 'FinalAutoMLJobObjectiveMetric': {'MetricName': 'validation:accuracy',\n",
       "  'Value': 0.48201999068260193},\n",
       " 'ObjectiveStatus': 'Succeeded',\n",
       " 'CandidateSteps': [{'CandidateStepType': 'AWS::SageMaker::ProcessingJob',\n",
       "   'CandidateStepArn': 'arn:aws:sagemaker:us-east-1:322537213286:processing-job/db-1-2d9c527a83a04946aa94e02498351a6c67dba2cd48884cd48eff37376e',\n",
       "   'CandidateStepName': 'db-1-2d9c527a83a04946aa94e02498351a6c67dba2cd48884cd48eff37376e'},\n",
       "  {'CandidateStepType': 'AWS::SageMaker::TrainingJob',\n",
       "   'CandidateStepArn': 'arn:aws:sagemaker:us-east-1:322537213286:training-job/automl-dm--dpp2-1-7a6b7dc133994fd3abef6279c934d711de56297fd9f24',\n",
       "   'CandidateStepName': 'automl-dm--dpp2-1-7a6b7dc133994fd3abef6279c934d711de56297fd9f24'},\n",
       "  {'CandidateStepType': 'AWS::SageMaker::TransformJob',\n",
       "   'CandidateStepArn': 'arn:aws:sagemaker:us-east-1:322537213286:transform-job/automl-dm--dpp2-rpb-1-a4250ff0fd4e4c2c9180b738f88ea32b56ca59b35',\n",
       "   'CandidateStepName': 'automl-dm--dpp2-rpb-1-a4250ff0fd4e4c2c9180b738f88ea32b56ca59b35'},\n",
       "  {'CandidateStepType': 'AWS::SageMaker::TrainingJob',\n",
       "   'CandidateStepArn': 'arn:aws:sagemaker:us-east-1:322537213286:training-job/tuning-job-1-7a6f5739bfae48ffbf-002-6bf8e438',\n",
       "   'CandidateStepName': 'tuning-job-1-7a6f5739bfae48ffbf-002-6bf8e438'}],\n",
       " 'CandidateStatus': 'Completed',\n",
       " 'InferenceContainers': [{'Image': '683313688378.dkr.ecr.us-east-1.amazonaws.com/sagemaker-sklearn-automl:0.2-1-cpu-py3',\n",
       "   'ModelDataUrl': 's3://sagemaker-experiments-us-east-1-322537213286/models/autopilot/automl-dm-19-01-33-55/data-processor-models/automl-dm--dpp2-1-7a6b7dc133994fd3abef6279c934d711de56297fd9f24/output/model.tar.gz',\n",
       "   'Environment': {'AUTOML_SPARSE_ENCODE_RECORDIO_PROTOBUF': '1',\n",
       "    'AUTOML_TRANSFORM_MODE': 'feature-transform',\n",
       "    'SAGEMAKER_DEFAULT_INVOCATIONS_ACCEPT': 'application/x-recordio-protobuf',\n",
       "    'SAGEMAKER_PROGRAM': 'sagemaker_serve',\n",
       "    'SAGEMAKER_SUBMIT_DIRECTORY': '/opt/ml/model/code'}},\n",
       "  {'Image': '683313688378.dkr.ecr.us-east-1.amazonaws.com/sagemaker-xgboost:1.0-1-cpu-py3',\n",
       "   'ModelDataUrl': 's3://sagemaker-experiments-us-east-1-322537213286/models/autopilot/automl-dm-19-01-33-55/tuning/automl-dm--dpp2-xgb/tuning-job-1-7a6f5739bfae48ffbf-002-6bf8e438/output/model.tar.gz',\n",
       "   'Environment': {'MAX_CONTENT_LENGTH': '20971520',\n",
       "    'SAGEMAKER_DEFAULT_INVOCATIONS_ACCEPT': 'text/csv',\n",
       "    'SAGEMAKER_INFERENCE_OUTPUT': 'predicted_label',\n",
       "    'SAGEMAKER_INFERENCE_SUPPORTED': 'predicted_label,probability,probabilities'}},\n",
       "  {'Image': '683313688378.dkr.ecr.us-east-1.amazonaws.com/sagemaker-sklearn-automl:0.2-1-cpu-py3',\n",
       "   'ModelDataUrl': 's3://sagemaker-experiments-us-east-1-322537213286/models/autopilot/automl-dm-19-01-33-55/data-processor-models/automl-dm--dpp2-1-7a6b7dc133994fd3abef6279c934d711de56297fd9f24/output/model.tar.gz',\n",
       "   'Environment': {'AUTOML_TRANSFORM_MODE': 'inverse-label-transform',\n",
       "    'SAGEMAKER_DEFAULT_INVOCATIONS_ACCEPT': 'text/csv',\n",
       "    'SAGEMAKER_INFERENCE_INPUT': 'predicted_label',\n",
       "    'SAGEMAKER_INFERENCE_OUTPUT': 'predicted_label',\n",
       "    'SAGEMAKER_INFERENCE_SUPPORTED': 'predicted_label,probability,labels,probabilities',\n",
       "    'SAGEMAKER_PROGRAM': 'sagemaker_serve',\n",
       "    'SAGEMAKER_SUBMIT_DIRECTORY': '/opt/ml/model/code'}}],\n",
       " 'CreationTime': datetime.datetime(2020, 11, 19, 1, 55, 35, tzinfo=tzlocal()),\n",
       " 'EndTime': datetime.datetime(2020, 11, 19, 1, 57, 43, tzinfo=tzlocal()),\n",
       " 'LastModifiedTime': datetime.datetime(2020, 11, 19, 1, 58, 49, 559000, tzinfo=tzlocal())}"
      ]
     },
     "execution_count": 17,
     "metadata": {},
     "output_type": "execute_result"
    }
   ],
   "source": [
    "best_candidate"
   ]
  },
  {
   "cell_type": "markdown",
   "metadata": {},
   "source": [
    "inference 파이프라인은 model과 containers로 구성되어 있습니다."
   ]
  },
  {
   "cell_type": "code",
   "execution_count": 18,
   "metadata": {},
   "outputs": [
    {
     "name": "stdout",
     "output_type": "stream",
     "text": [
      "683313688378.dkr.ecr.us-east-1.amazonaws.com/sagemaker-sklearn-automl:0.2-1-cpu-py3\n",
      "s3://sagemaker-experiments-us-east-1-322537213286/models/autopilot/automl-dm-19-01-33-55/data-processor-models/automl-dm--dpp2-1-7a6b7dc133994fd3abef6279c934d711de56297fd9f24/output/model.tar.gz\n",
      "======================\n",
      "683313688378.dkr.ecr.us-east-1.amazonaws.com/sagemaker-xgboost:1.0-1-cpu-py3\n",
      "s3://sagemaker-experiments-us-east-1-322537213286/models/autopilot/automl-dm-19-01-33-55/tuning/automl-dm--dpp2-xgb/tuning-job-1-7a6f5739bfae48ffbf-002-6bf8e438/output/model.tar.gz\n",
      "======================\n",
      "683313688378.dkr.ecr.us-east-1.amazonaws.com/sagemaker-sklearn-automl:0.2-1-cpu-py3\n",
      "s3://sagemaker-experiments-us-east-1-322537213286/models/autopilot/automl-dm-19-01-33-55/data-processor-models/automl-dm--dpp2-1-7a6b7dc133994fd3abef6279c934d711de56297fd9f24/output/model.tar.gz\n",
      "======================\n"
     ]
    }
   ],
   "source": [
    "for container in best_candidate['InferenceContainers']:\n",
    "    print(container['Image'])\n",
    "    print(container['ModelDataUrl'])\n",
    "    print('======================')"
   ]
  },
  {
   "cell_type": "markdown",
   "metadata": {},
   "source": [
    "# Autopilot Chooses XGBoost as Best Candidate!\n",
    "\n",
    "\n",
    "Autopilot은 XGBoost 모델의 기본적인 값과 다른 하이퍼파라미터와 feature transformations을 선택합니다."
   ]
  },
  {
   "cell_type": "markdown",
   "metadata": {},
   "source": [
    "# Deploy the Model as a REST Endpoint\n",
    "\n",
    "Batch transformations 또한 지원하지만, 여기서는 REST Endpoint를 생성합니다."
   ]
  },
  {
   "cell_type": "code",
   "execution_count": 19,
   "metadata": {},
   "outputs": [
    {
     "name": "stdout",
     "output_type": "stream",
     "text": [
      "Best candidate model ARN:  arn:aws:sagemaker:us-east-1:322537213286:model/automl-dm-model-19-01-33-55\n"
     ]
    }
   ],
   "source": [
    "model_name = 'automl-dm-model-' + timestamp_suffix\n",
    "\n",
    "model_arn = sm.create_model(Containers=best_candidate['InferenceContainers'],\n",
    "                            ModelName=model_name,\n",
    "                            ExecutionRoleArn=role)\n",
    "\n",
    "print('Best candidate model ARN: ', model_arn['ModelArn'])"
   ]
  },
  {
   "cell_type": "code",
   "execution_count": 20,
   "metadata": {},
   "outputs": [
    {
     "name": "stdout",
     "output_type": "stream",
     "text": [
      "automl-dm-ep-19-01-33-55\n",
      "automl-dm-variant-19-01-33-55\n"
     ]
    }
   ],
   "source": [
    "# EndpointConfig name\n",
    "timestamp_sufafix = strftime('%d-%H-%M-%S', gmtime())\n",
    "epc_name = 'automl-dm-epc-' + timestamp_suffix\n",
    "\n",
    "# Endpoint name\n",
    "autopilot_endpoint_name = 'automl-dm-ep-' + timestamp_suffix\n",
    "variant_name = 'automl-dm-variant-' + timestamp_suffix\n",
    "\n",
    "print(autopilot_endpoint_name)\n",
    "print(variant_name)"
   ]
  },
  {
   "cell_type": "code",
   "execution_count": 21,
   "metadata": {},
   "outputs": [],
   "source": [
    "ep_config = sm.create_endpoint_config(EndpointConfigName = epc_name,\n",
    "                                      ProductionVariants=[{'InstanceType':'ml.m5.large',\n",
    "                                                           'InitialInstanceCount': 1,\n",
    "                                                           'ModelName': model_name,\n",
    "                                                           'VariantName': variant_name}])\n"
   ]
  },
  {
   "cell_type": "code",
   "execution_count": 22,
   "metadata": {},
   "outputs": [
    {
     "name": "stdout",
     "output_type": "stream",
     "text": [
      "arn:aws:sagemaker:us-east-1:322537213286:endpoint/automl-dm-ep-19-01-33-55\n"
     ]
    }
   ],
   "source": [
    "create_endpoint_response = sm.create_endpoint(EndpointName=autopilot_endpoint_name,\n",
    "                                              EndpointConfigName=epc_name)\n",
    "print(create_endpoint_response['EndpointArn'])"
   ]
  },
  {
   "cell_type": "markdown",
   "metadata": {},
   "source": [
    "# Wait for the Model to Deploy\n",
    "\n",
    "\n",
    "모델을 deploy하는데에는 5~10분 정도 소요됩니다."
   ]
  },
  {
   "cell_type": "code",
   "execution_count": 23,
   "metadata": {},
   "outputs": [],
   "source": [
    "sm.get_waiter('endpoint_in_service').wait(EndpointName=autopilot_endpoint_name)\n"
   ]
  },
  {
   "cell_type": "code",
   "execution_count": 24,
   "metadata": {},
   "outputs": [
    {
     "name": "stdout",
     "output_type": "stream",
     "text": [
      "Arn: arn:aws:sagemaker:us-east-1:322537213286:endpoint/automl-dm-ep-19-01-33-55\n",
      "Status: InService\n"
     ]
    }
   ],
   "source": [
    "resp = sm.describe_endpoint(EndpointName=autopilot_endpoint_name)\n",
    "status = resp['EndpointStatus']\n",
    "\n",
    "print(\"Arn: \" + resp['EndpointArn'])\n",
    "print(\"Status: \" + status)"
   ]
  },
  {
   "cell_type": "markdown",
   "metadata": {},
   "source": [
    "# Test Our Model with Some Example Reviews\n",
    "Let's do some ad-hoc predictions on our model."
   ]
  },
  {
   "cell_type": "code",
   "execution_count": 25,
   "metadata": {},
   "outputs": [],
   "source": [
    "sm_runtime = boto3.client('sagemaker-runtime')"
   ]
  },
  {
   "cell_type": "code",
   "execution_count": 26,
   "metadata": {},
   "outputs": [
    {
     "data": {
      "text/plain": [
       "'5'"
      ]
     },
     "execution_count": 26,
     "metadata": {},
     "output_type": "execute_result"
    }
   ],
   "source": [
    "csv_line_predict_positive = \"\"\"I loved it!\"\"\"\n",
    "\n",
    "response = sm_runtime.invoke_endpoint(EndpointName=autopilot_endpoint_name, ContentType='text/csv', Accept='text/csv', Body=csv_line_predict_positive)\n",
    "\n",
    "response_body = response['Body'].read().decode('utf-8').strip()\n",
    "response_body"
   ]
  },
  {
   "cell_type": "code",
   "execution_count": 27,
   "metadata": {},
   "outputs": [
    {
     "data": {
      "text/plain": [
       "'3'"
      ]
     },
     "execution_count": 27,
     "metadata": {},
     "output_type": "execute_result"
    }
   ],
   "source": [
    "csv_line_predict_meh = \"\"\"It's OK.\"\"\"\n",
    "\n",
    "response = sm_runtime.invoke_endpoint(EndpointName=autopilot_endpoint_name, ContentType='text/csv', Accept='text/csv', Body=csv_line_predict_meh)\n",
    "\n",
    "response_body = response['Body'].read().decode('utf-8').strip()\n",
    "response_body"
   ]
  },
  {
   "cell_type": "code",
   "execution_count": 28,
   "metadata": {
    "scrolled": true
   },
   "outputs": [
    {
     "data": {
      "text/plain": [
       "'1'"
      ]
     },
     "execution_count": 28,
     "metadata": {},
     "output_type": "execute_result"
    }
   ],
   "source": [
    "csv_line_predict_negative = \"\"\"The worst product ever.\"\"\"\n",
    "\n",
    "response = sm_runtime.invoke_endpoint(EndpointName=autopilot_endpoint_name, ContentType='text/csv', Accept='text/csv', Body=csv_line_predict_negative)\n",
    "\n",
    "response_body = response['Body'].read().decode('utf-8').strip()\n",
    "response_body"
   ]
  },
  {
   "cell_type": "markdown",
   "metadata": {},
   "source": [
    "# Create an Athena Table with Sample Reviews"
   ]
  },
  {
   "cell_type": "code",
   "execution_count": 29,
   "metadata": {},
   "outputs": [],
   "source": [
    "table_name = 'product_reviews'"
   ]
  },
  {
   "cell_type": "code",
   "execution_count": 30,
   "metadata": {},
   "outputs": [
    {
     "name": "stdout",
     "output_type": "stream",
     "text": [
      "\n",
      "DROP TABLE IF EXISTS awsdb_1124.product_reviews\n",
      "\n"
     ]
    },
    {
     "data": {
      "text/plain": [
       "<pyathena.cursor.Cursor at 0x7f1488dda1d0>"
      ]
     },
     "execution_count": 30,
     "metadata": {},
     "output_type": "execute_result"
    }
   ],
   "source": [
    "# Create Table SQL Statement\n",
    "statement = \"\"\"\n",
    "DROP TABLE IF EXISTS {}.{}\n",
    "\"\"\".format(database_name, table_name, database_name, table_name_tsv)\n",
    "\n",
    "print(statement)\n",
    "\n",
    "cursor = connect(region_name=region_name, s3_staging_dir=s3_staging_dir).cursor()\n",
    "cursor.execute(statement)"
   ]
  },
  {
   "cell_type": "code",
   "execution_count": 31,
   "metadata": {},
   "outputs": [
    {
     "name": "stdout",
     "output_type": "stream",
     "text": [
      "\n",
      "CREATE TABLE IF NOT EXISTS awsdb_1124.product_reviews AS \n",
      "SELECT review_id, review_body , star_rating\n",
      "FROM awsdb_1124.amazon_reviews_tsv\n",
      "\n"
     ]
    }
   ],
   "source": [
    "# Create Table SQL Statement\n",
    "statement = \"\"\"\n",
    "CREATE TABLE IF NOT EXISTS {}.{} AS \n",
    "SELECT review_id, review_body , star_rating\n",
    "FROM {}.{}\n",
    "\"\"\".format(database_name, table_name, database_name, table_name_tsv)\n",
    "\n",
    "print(statement)"
   ]
  },
  {
   "cell_type": "code",
   "execution_count": 32,
   "metadata": {},
   "outputs": [
    {
     "data": {
      "text/plain": [
       "<pyathena.cursor.Cursor at 0x7f1488b1bf60>"
      ]
     },
     "execution_count": 32,
     "metadata": {},
     "output_type": "execute_result"
    }
   ],
   "source": [
    "# Execute statement using connection cursor\n",
    "from pyathena import connect\n",
    "from pyathena.util import as_pandas\n",
    "\n",
    "cursor = connect(region_name=region_name, s3_staging_dir=s3_staging_dir).cursor()\n",
    "cursor.execute(statement)"
   ]
  },
  {
   "cell_type": "code",
   "execution_count": 33,
   "metadata": {},
   "outputs": [
    {
     "data": {
      "text/plain": [
       "<pyathena.cursor.Cursor at 0x7f1488b1bf60>"
      ]
     },
     "execution_count": 33,
     "metadata": {},
     "output_type": "execute_result"
    }
   ],
   "source": [
    "statement = 'SELECT * FROM {}.{} LIMIT 10'.format(database_name, table_name)\n",
    "cursor.execute(statement)"
   ]
  },
  {
   "cell_type": "code",
   "execution_count": 34,
   "metadata": {},
   "outputs": [
    {
     "data": {
      "text/html": [
       "<div>\n",
       "<style scoped>\n",
       "    .dataframe tbody tr th:only-of-type {\n",
       "        vertical-align: middle;\n",
       "    }\n",
       "\n",
       "    .dataframe tbody tr th {\n",
       "        vertical-align: top;\n",
       "    }\n",
       "\n",
       "    .dataframe thead th {\n",
       "        text-align: right;\n",
       "    }\n",
       "</style>\n",
       "<table border=\"1\" class=\"dataframe\">\n",
       "  <thead>\n",
       "    <tr style=\"text-align: right;\">\n",
       "      <th></th>\n",
       "      <th>review_id</th>\n",
       "      <th>review_body</th>\n",
       "      <th>star_rating</th>\n",
       "    </tr>\n",
       "  </thead>\n",
       "  <tbody>\n",
       "    <tr>\n",
       "      <th>0</th>\n",
       "      <td>R3B4Z83QSCNAU9</td>\n",
       "      <td>I couldn't have asked for a better purchasing ...</td>\n",
       "      <td>5</td>\n",
       "    </tr>\n",
       "    <tr>\n",
       "      <th>1</th>\n",
       "      <td>R28BUCHXGP7MAG</td>\n",
       "      <td>Thank god i did not pay $129.00 for this guita...</td>\n",
       "      <td>1</td>\n",
       "    </tr>\n",
       "    <tr>\n",
       "      <th>2</th>\n",
       "      <td>R221RYSJIR32JS</td>\n",
       "      <td>Its an okay clip. I have had better. It does n...</td>\n",
       "      <td>2</td>\n",
       "    </tr>\n",
       "    <tr>\n",
       "      <th>3</th>\n",
       "      <td>R3LUFVVZFGDXDW</td>\n",
       "      <td>Well I ordered these when I ordered my stand j...</td>\n",
       "      <td>2</td>\n",
       "    </tr>\n",
       "    <tr>\n",
       "      <th>4</th>\n",
       "      <td>R1VBOMACX4PUCO</td>\n",
       "      <td>This is something that is necessary if you are...</td>\n",
       "      <td>5</td>\n",
       "    </tr>\n",
       "    <tr>\n",
       "      <th>5</th>\n",
       "      <td>R18P91UP19K2TL</td>\n",
       "      <td>This is a very poor quality guitar, and I am e...</td>\n",
       "      <td>1</td>\n",
       "    </tr>\n",
       "    <tr>\n",
       "      <th>6</th>\n",
       "      <td>RMJNX41B229DF</td>\n",
       "      <td>I'm very pleased with this recorder. One of th...</td>\n",
       "      <td>4</td>\n",
       "    </tr>\n",
       "    <tr>\n",
       "      <th>7</th>\n",
       "      <td>R24S6X2NTSB9S</td>\n",
       "      <td>I bought these on the basis of the reviews, th...</td>\n",
       "      <td>1</td>\n",
       "    </tr>\n",
       "    <tr>\n",
       "      <th>8</th>\n",
       "      <td>ROP5SUKM14W4M</td>\n",
       "      <td>I really, really enjoy these.  The sound is sm...</td>\n",
       "      <td>5</td>\n",
       "    </tr>\n",
       "    <tr>\n",
       "      <th>9</th>\n",
       "      <td>R3N2B9BUZW8S29</td>\n",
       "      <td>An excellent product that performs as advertis...</td>\n",
       "      <td>5</td>\n",
       "    </tr>\n",
       "  </tbody>\n",
       "</table>\n",
       "</div>"
      ],
      "text/plain": [
       "        review_id                                        review_body  \\\n",
       "0  R3B4Z83QSCNAU9  I couldn't have asked for a better purchasing ...   \n",
       "1  R28BUCHXGP7MAG  Thank god i did not pay $129.00 for this guita...   \n",
       "2  R221RYSJIR32JS  Its an okay clip. I have had better. It does n...   \n",
       "3  R3LUFVVZFGDXDW  Well I ordered these when I ordered my stand j...   \n",
       "4  R1VBOMACX4PUCO  This is something that is necessary if you are...   \n",
       "5  R18P91UP19K2TL  This is a very poor quality guitar, and I am e...   \n",
       "6   RMJNX41B229DF  I'm very pleased with this recorder. One of th...   \n",
       "7   R24S6X2NTSB9S  I bought these on the basis of the reviews, th...   \n",
       "8   ROP5SUKM14W4M  I really, really enjoy these.  The sound is sm...   \n",
       "9  R3N2B9BUZW8S29  An excellent product that performs as advertis...   \n",
       "\n",
       "   star_rating  \n",
       "0            5  \n",
       "1            1  \n",
       "2            2  \n",
       "3            2  \n",
       "4            5  \n",
       "5            1  \n",
       "6            4  \n",
       "7            1  \n",
       "8            5  \n",
       "9            5  "
      ]
     },
     "execution_count": 34,
     "metadata": {},
     "output_type": "execute_result"
    }
   ],
   "source": [
    "df_show = as_pandas(cursor)\n",
    "df_show"
   ]
  },
  {
   "cell_type": "markdown",
   "metadata": {},
   "source": [
    "### Preview Feature를 사용하기 위해  `AmazonAthenaPreviewFunctionality` Work Group에 추가합니다. "
   ]
  },
  {
   "cell_type": "code",
   "execution_count": 35,
   "metadata": {},
   "outputs": [
    {
     "name": "stdout",
     "output_type": "stream",
     "text": [
      "Workgroup already exists.\n"
     ]
    }
   ],
   "source": [
    "import boto3\n",
    "from botocore.exceptions import ClientError\n",
    "\n",
    "client = boto3.client('athena')\n",
    "\n",
    "try:\n",
    "    response = client.create_work_group(Name='AmazonAthenaPreviewFunctionality') \n",
    "    print(response)\n",
    "except ClientError as e:\n",
    "    if e.response['Error']['Code'] == 'InvalidRequestException':\n",
    "        print(\"Workgroup already exists.\")\n",
    "    else:\n",
    "        print(\"Unexpected error: %s\" % e)\n",
    "    \n"
   ]
  },
  {
   "cell_type": "markdown",
   "metadata": {},
   "source": [
    "# SQL Query 생성하기"
   ]
  },
  {
   "cell_type": "markdown",
   "metadata": {},
   "source": [
    "`USING FUNCTION`절은 Athena 함수(preview) 또는 쿼리 내 후속 `SELECT` 문에서 참조할 수 있는 여러 함수에서 ML을 지정하여 사용합니다. 변수와 return 값에 대한 데이터 타입과 변수명, 함수명을 정의합니다."
   ]
  },
  {
   "cell_type": "code",
   "execution_count": 36,
   "metadata": {},
   "outputs": [
    {
     "name": "stdout",
     "output_type": "stream",
     "text": [
      "\n",
      "USING FUNCTION predict_star_rating(review_body VARCHAR) \n",
      "    RETURNS VARCHAR TYPE\n",
      "    SAGEMAKER_INVOKE_ENDPOINT WITH (sagemaker_endpoint = 'automl-dm-ep-19-01-33-55'\n",
      ")\n",
      "SELECT review_id, review_body, star_rating, predict_star_rating(REPLACE(review_body, ',', ' ')) AS predicted_star_rating \n",
      "    FROM awsdb_1124.product_reviews LIMIT 10\n",
      "    \n"
     ]
    }
   ],
   "source": [
    "statement = \"\"\"\n",
    "USING FUNCTION predict_star_rating(review_body VARCHAR) \n",
    "    RETURNS VARCHAR TYPE\n",
    "    SAGEMAKER_INVOKE_ENDPOINT WITH (sagemaker_endpoint = '{}'\n",
    ")\n",
    "SELECT review_id, review_body, star_rating, predict_star_rating(REPLACE(review_body, ',', ' ')) AS predicted_star_rating \n",
    "    FROM {}.{} LIMIT 10\n",
    "    \"\"\".format(autopilot_endpoint_name, database_name, table_name)\n",
    "\n",
    "print(statement)"
   ]
  },
  {
   "cell_type": "code",
   "execution_count": 37,
   "metadata": {},
   "outputs": [
    {
     "data": {
      "text/plain": [
       "<pyathena.cursor.Cursor at 0x7f14887a6dd8>"
      ]
     },
     "execution_count": 37,
     "metadata": {},
     "output_type": "execute_result"
    }
   ],
   "source": [
    "# Execute statement using connection cursor\n",
    "cursor = connect(region_name=region_name, \n",
    "                 s3_staging_dir=s3_staging_dir).cursor()\n",
    "cursor.execute(statement, \n",
    "               work_group='AmazonAthenaPreviewFunctionality')"
   ]
  },
  {
   "cell_type": "code",
   "execution_count": 38,
   "metadata": {},
   "outputs": [
    {
     "data": {
      "text/html": [
       "<div>\n",
       "<style scoped>\n",
       "    .dataframe tbody tr th:only-of-type {\n",
       "        vertical-align: middle;\n",
       "    }\n",
       "\n",
       "    .dataframe tbody tr th {\n",
       "        vertical-align: top;\n",
       "    }\n",
       "\n",
       "    .dataframe thead th {\n",
       "        text-align: right;\n",
       "    }\n",
       "</style>\n",
       "<table border=\"1\" class=\"dataframe\">\n",
       "  <thead>\n",
       "    <tr style=\"text-align: right;\">\n",
       "      <th></th>\n",
       "      <th>review_id</th>\n",
       "      <th>review_body</th>\n",
       "      <th>star_rating</th>\n",
       "      <th>predicted_star_rating</th>\n",
       "    </tr>\n",
       "  </thead>\n",
       "  <tbody>\n",
       "    <tr>\n",
       "      <th>0</th>\n",
       "      <td>R3B4Z83QSCNAU9</td>\n",
       "      <td>I couldn't have asked for a better purchasing ...</td>\n",
       "      <td>5</td>\n",
       "      <td>5</td>\n",
       "    </tr>\n",
       "    <tr>\n",
       "      <th>1</th>\n",
       "      <td>R28BUCHXGP7MAG</td>\n",
       "      <td>Thank god i did not pay $129.00 for this guita...</td>\n",
       "      <td>1</td>\n",
       "      <td>1</td>\n",
       "    </tr>\n",
       "    <tr>\n",
       "      <th>2</th>\n",
       "      <td>R221RYSJIR32JS</td>\n",
       "      <td>Its an okay clip. I have had better. It does n...</td>\n",
       "      <td>2</td>\n",
       "      <td>3</td>\n",
       "    </tr>\n",
       "    <tr>\n",
       "      <th>3</th>\n",
       "      <td>R3LUFVVZFGDXDW</td>\n",
       "      <td>Well I ordered these when I ordered my stand j...</td>\n",
       "      <td>2</td>\n",
       "      <td>3</td>\n",
       "    </tr>\n",
       "    <tr>\n",
       "      <th>4</th>\n",
       "      <td>R1VBOMACX4PUCO</td>\n",
       "      <td>This is something that is necessary if you are...</td>\n",
       "      <td>5</td>\n",
       "      <td>3</td>\n",
       "    </tr>\n",
       "    <tr>\n",
       "      <th>5</th>\n",
       "      <td>R18P91UP19K2TL</td>\n",
       "      <td>This is a very poor quality guitar, and I am e...</td>\n",
       "      <td>1</td>\n",
       "      <td>2</td>\n",
       "    </tr>\n",
       "    <tr>\n",
       "      <th>6</th>\n",
       "      <td>RMJNX41B229DF</td>\n",
       "      <td>I'm very pleased with this recorder. One of th...</td>\n",
       "      <td>4</td>\n",
       "      <td>3</td>\n",
       "    </tr>\n",
       "    <tr>\n",
       "      <th>7</th>\n",
       "      <td>R24S6X2NTSB9S</td>\n",
       "      <td>I bought these on the basis of the reviews, th...</td>\n",
       "      <td>1</td>\n",
       "      <td>5</td>\n",
       "    </tr>\n",
       "    <tr>\n",
       "      <th>8</th>\n",
       "      <td>ROP5SUKM14W4M</td>\n",
       "      <td>I really, really enjoy these.  The sound is sm...</td>\n",
       "      <td>5</td>\n",
       "      <td>5</td>\n",
       "    </tr>\n",
       "    <tr>\n",
       "      <th>9</th>\n",
       "      <td>R3N2B9BUZW8S29</td>\n",
       "      <td>An excellent product that performs as advertis...</td>\n",
       "      <td>5</td>\n",
       "      <td>5</td>\n",
       "    </tr>\n",
       "  </tbody>\n",
       "</table>\n",
       "</div>"
      ],
      "text/plain": [
       "        review_id                                        review_body  \\\n",
       "0  R3B4Z83QSCNAU9  I couldn't have asked for a better purchasing ...   \n",
       "1  R28BUCHXGP7MAG  Thank god i did not pay $129.00 for this guita...   \n",
       "2  R221RYSJIR32JS  Its an okay clip. I have had better. It does n...   \n",
       "3  R3LUFVVZFGDXDW  Well I ordered these when I ordered my stand j...   \n",
       "4  R1VBOMACX4PUCO  This is something that is necessary if you are...   \n",
       "5  R18P91UP19K2TL  This is a very poor quality guitar, and I am e...   \n",
       "6   RMJNX41B229DF  I'm very pleased with this recorder. One of th...   \n",
       "7   R24S6X2NTSB9S  I bought these on the basis of the reviews, th...   \n",
       "8   ROP5SUKM14W4M  I really, really enjoy these.  The sound is sm...   \n",
       "9  R3N2B9BUZW8S29  An excellent product that performs as advertis...   \n",
       "\n",
       "   star_rating predicted_star_rating  \n",
       "0            5                     5  \n",
       "1            1                     1  \n",
       "2            2                     3  \n",
       "3            2                     3  \n",
       "4            5                     3  \n",
       "5            1                     2  \n",
       "6            4                     3  \n",
       "7            1                     5  \n",
       "8            5                     5  \n",
       "9            5                     5  "
      ]
     },
     "execution_count": 38,
     "metadata": {},
     "output_type": "execute_result"
    }
   ],
   "source": [
    "df = as_pandas(cursor)\n",
    "df"
   ]
  },
  {
   "cell_type": "code",
   "execution_count": 39,
   "metadata": {},
   "outputs": [],
   "source": [
    "# sm.delete_endpoint(\n",
    "#     EndpointName=autopilot_endpoint_name\n",
    "# )"
   ]
  },
  {
   "cell_type": "code",
   "execution_count": 40,
   "metadata": {
    "scrolled": true
   },
   "outputs": [
    {
     "name": "stdout",
     "output_type": "stream",
     "text": [
      "Stored variables and their in-db values:\n",
      "artifacts_dir                       -> 's3://sagemaker-us-east-1-322537213286/training-jo\n",
      "comprehend_endpoint_arn             -> 'arn:aws:comprehend:us-east-1:322537213286:documen\n",
      "data_bucket                         -> 'sagemaker-us-east-1-322537213286'\n",
      "database_name                       -> 'awsdb_1124'\n",
      "header_train_s3_uri                 -> 's3://sagemaker-us-east-1-322537213286/data/amazon\n",
      "hyperparameters                     -> {'model_name': 'resnet50', 'height': 128, 'width':\n",
      "job_bucket                          -> 'sagemaker-experiments-us-east-1-322537213286'\n",
      "model_dir                           -> './model'\n",
      "noheader_train_s3_uri               -> 's3://sagemaker-us-east-1-322537213286/data/amazon\n",
      "output_dir                          -> './output'\n",
      "region_name                         -> 'us-east-1'\n",
      "role                                -> 'arn:aws:iam::322537213286:role/service-role/AIMLW\n",
      "s3_destination_path_tsv             -> 's3://sagemaker-us-east-1-322537213286/amazon-revi\n",
      "s3_path_parquet                     -> 's3://sagemaker-us-east-1-322537213286/amazon-revi\n",
      "s3_staging_dir                      -> 's3://sagemaker-experiments-us-east-1-322537213286\n",
      "table_name_parquet                  -> 'amazon_reviews_parquet'\n",
      "table_name_tsv                      -> 'amazon_reviews_tsv'\n"
     ]
    }
   ],
   "source": [
    "%store"
   ]
  },
  {
   "cell_type": "code",
   "execution_count": null,
   "metadata": {},
   "outputs": [],
   "source": []
  }
 ],
 "metadata": {
  "kernelspec": {
   "display_name": "conda_python3",
   "language": "python",
   "name": "conda_python3"
  },
  "language_info": {
   "codemirror_mode": {
    "name": "ipython",
    "version": 3
   },
   "file_extension": ".py",
   "mimetype": "text/x-python",
   "name": "python",
   "nbconvert_exporter": "python",
   "pygments_lexer": "ipython3",
   "version": "3.6.10"
  }
 },
 "nbformat": 4,
 "nbformat_minor": 4
}
