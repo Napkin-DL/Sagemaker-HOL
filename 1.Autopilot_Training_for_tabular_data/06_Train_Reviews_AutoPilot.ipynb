{
 "cells": [
  {
   "cell_type": "markdown",
   "metadata": {},
   "source": [
    "# Train a Model with SageMaker Autopilot\n",
    "\n",
    "Customer review를 예측하기 위해 SageMaker Autopilot을 사용합니다.  \n",
    "Autopilot는 AutoML에 대해 white-box 접근 방식으로 구현합니다."
   ]
  },
  {
   "cell_type": "markdown",
   "metadata": {},
   "source": [
    "<img src=\"./img/autopilot.png\" width=\"80%\" align=\"left\">"
   ]
  },
  {
   "cell_type": "markdown",
   "metadata": {},
   "source": [
    "# Introduction"
   ]
  },
  {
   "cell_type": "markdown",
   "metadata": {},
   "source": [
    "Amazon SageMaker Autopilot은 데이터 세트에서 자동 기계 학습 (AutoML)을 수행하는 서비스입니다. Autopilot은 UI 또는 AWS SDK를 통해 사용할 수 있습니다. 이 노트북에서는 AWS SDK를 사용하여 텍스트 처리 및 sentiment classification 기계 학습 파이프 라인을 생성과 배포를 합니다."
   ]
  },
  {
   "cell_type": "markdown",
   "metadata": {},
   "source": [
    "# Setup\n",
    "\n",
    "* 모델 학습에 사용되는 S3 bucket과 prefix 가 필요합니다. 참고 : 필요한 dataset은 동일 region에 있어야 합니다.\n",
    "* 이 노트북의 IAM role은 dataset에 액세스가 가능해야 합니다."
   ]
  },
  {
   "cell_type": "code",
   "execution_count": 1,
   "metadata": {},
   "outputs": [],
   "source": [
    "%store -r"
   ]
  },
  {
   "cell_type": "code",
   "execution_count": 2,
   "metadata": {},
   "outputs": [],
   "source": [
    "import boto3\n",
    "import sagemaker\n",
    "import pandas as pd\n",
    "\n",
    "# Execute statement using connection cursor\n",
    "from pyathena import connect\n",
    "from pyathena.util import as_pandas\n",
    "\n",
    "sess   = sagemaker.Session()\n",
    "role = sagemaker.get_execution_role()\n",
    "sm = boto3.Session().client(service_name='sagemaker', region_name=region_name)"
   ]
  },
  {
   "cell_type": "markdown",
   "metadata": {},
   "source": [
    "# Dataset"
   ]
  },
  {
   "cell_type": "code",
   "execution_count": 3,
   "metadata": {},
   "outputs": [
    {
     "name": "stdout",
     "output_type": "stream",
     "text": [
      "s3://sagemaker-us-east-1-322537213286/data/amazon_reviews_us_Digital_Software_v1_00_header.csv\n"
     ]
    }
   ],
   "source": [
    "print(header_train_s3_uri)"
   ]
  },
  {
   "cell_type": "code",
   "execution_count": 4,
   "metadata": {},
   "outputs": [
    {
     "name": "stdout",
     "output_type": "stream",
     "text": [
      "2020-09-23 13:24:16   30074958 amazon_reviews_us_Digital_Software_v1_00_header.csv\r\n"
     ]
    }
   ],
   "source": [
    "!aws s3 ls $header_train_s3_uri"
   ]
  },
  {
   "cell_type": "markdown",
   "metadata": {},
   "source": [
    "# Setup the S3 Location for the Autopilot-Generated Assets \n",
    "\n",
    "* Jupyter Notebooks (Analysis)\n",
    "* Python Scripts (Feature Engineering)\n",
    "* Trained Models."
   ]
  },
  {
   "cell_type": "code",
   "execution_count": 5,
   "metadata": {},
   "outputs": [
    {
     "name": "stdout",
     "output_type": "stream",
     "text": [
      "s3://sagemaker-experiments-us-east-1-322537213286/models/autopilot\n"
     ]
    }
   ],
   "source": [
    "prefix_model_output = 'models/autopilot'\n",
    "\n",
    "model_output_s3_uri = 's3://{}/{}'.format(job_bucket, prefix_model_output)\n",
    "\n",
    "print(model_output_s3_uri)\n"
   ]
  },
  {
   "cell_type": "code",
   "execution_count": 6,
   "metadata": {},
   "outputs": [],
   "source": [
    "max_candidates = 3\n",
    "\n",
    "job_config = {\n",
    "    'CompletionCriteria': {\n",
    "      'MaxRuntimePerTrainingJobInSeconds': 600,\n",
    "      'MaxCandidates': max_candidates,\n",
    "      'MaxAutoMLJobRuntimeInSeconds': 3600\n",
    "    },\n",
    "}\n",
    "\n",
    "input_data_config = [{\n",
    "      'DataSource': {\n",
    "        'S3DataSource': {\n",
    "          'S3DataType': 'S3Prefix',\n",
    "          'S3Uri': '{}'.format(header_train_s3_uri)\n",
    "        }\n",
    "      },\n",
    "      'TargetAttributeName': 'star_rating'\n",
    "    }\n",
    "]\n",
    "\n",
    "output_data_config = {\n",
    "    'S3OutputPath': '{}'.format(model_output_s3_uri)\n",
    "}"
   ]
  },
  {
   "cell_type": "markdown",
   "metadata": {},
   "source": [
    "# Launch the SageMaker Autopilot job\n",
    "\n",
    "`create_auto_ml_job` API를 이용하여 Autopilot job을 실행합니다."
   ]
  },
  {
   "cell_type": "code",
   "execution_count": 7,
   "metadata": {},
   "outputs": [
    {
     "name": "stdout",
     "output_type": "stream",
     "text": [
      "AutoMLJobName: automl-dm-23-13-27-39\n"
     ]
    }
   ],
   "source": [
    "from time import gmtime, strftime, sleep\n",
    "timestamp_suffix = strftime('%d-%H-%M-%S', gmtime())\n",
    "\n",
    "auto_ml_job_name = 'automl-dm-' + timestamp_suffix\n",
    "print('AutoMLJobName: ' + auto_ml_job_name)"
   ]
  },
  {
   "cell_type": "markdown",
   "metadata": {},
   "source": [
    "`ProblemType`를 특정할 수 없는 경우에는 Autopilot이 자동으로 regression 또는 Classification (binary 또는 multi-class) 를 탐지합니다."
   ]
  },
  {
   "cell_type": "code",
   "execution_count": 8,
   "metadata": {},
   "outputs": [
    {
     "data": {
      "text/plain": [
       "{'AutoMLJobArn': 'arn:aws:sagemaker:us-east-1:322537213286:automl-job/automl-dm-23-13-27-39',\n",
       " 'ResponseMetadata': {'RequestId': '8fe4b5ab-db7d-4378-a2a4-1d4bf14289be',\n",
       "  'HTTPStatusCode': 200,\n",
       "  'HTTPHeaders': {'x-amzn-requestid': '8fe4b5ab-db7d-4378-a2a4-1d4bf14289be',\n",
       "   'content-type': 'application/x-amz-json-1.1',\n",
       "   'content-length': '92',\n",
       "   'date': 'Wed, 23 Sep 2020 13:27:40 GMT'},\n",
       "  'RetryAttempts': 0}}"
      ]
     },
     "execution_count": 8,
     "metadata": {},
     "output_type": "execute_result"
    }
   ],
   "source": [
    "sm.create_auto_ml_job(AutoMLJobName=auto_ml_job_name,\n",
    "                      InputDataConfig=input_data_config,\n",
    "                      OutputDataConfig=output_data_config,\n",
    "                      AutoMLJobConfig=job_config,\n",
    "#                      ProblemType=\"Classification\",\n",
    "                      RoleArn=role)"
   ]
  },
  {
   "cell_type": "markdown",
   "metadata": {},
   "source": [
    "# Tracking the progress of the Autopilot job\n",
    "\n",
    "SageMaker Autopilot은 high-level 단계로 아래와 같이 구성됩니다.\n",
    "\n",
    "* _Data Analysis_ 데이터를 요약하고 분석하여 탐색할 feature engineering 기법, 하이퍼파라미터와 탐색 모델을 결정합니다.\n",
    "* _Feature Engineering_ 데이터가 클린징, 밸런싱, 결합 과 훈련/검증데이터셋으로 분리합니다.\n",
    "* _Model Training and Tuning_ 가장 높은 성능의 features, 하이퍼라미터와 모델을 선택하고 학습합니다."
   ]
  },
  {
   "cell_type": "markdown",
   "metadata": {},
   "source": [
    "# Analyzing Data"
   ]
  },
  {
   "cell_type": "code",
   "execution_count": 9,
   "metadata": {},
   "outputs": [
    {
     "name": "stdout",
     "output_type": "stream",
     "text": [
      "InProgress AnalyzingData\n",
      "InProgress AnalyzingData\n",
      "InProgress AnalyzingData\n",
      "InProgress AnalyzingData\n",
      "InProgress AnalyzingData\n",
      "InProgress AnalyzingData\n",
      "InProgress AnalyzingData\n",
      "InProgress AnalyzingData\n",
      "InProgress AnalyzingData\n",
      "InProgress AnalyzingData\n",
      "InProgress AnalyzingData\n",
      "InProgress AnalyzingData\n",
      "InProgress AnalyzingData\n",
      "InProgress AnalyzingData\n",
      "InProgress AnalyzingData\n",
      "InProgress AnalyzingData\n",
      "InProgress AnalyzingData\n",
      "InProgress AnalyzingData\n",
      "InProgress FeatureEngineering\n",
      "Data analysis complete\n",
      "{'AutoMLJobName': 'automl-dm-23-13-27-39', 'AutoMLJobArn': 'arn:aws:sagemaker:us-east-1:322537213286:automl-job/automl-dm-23-13-27-39', 'InputDataConfig': [{'DataSource': {'S3DataSource': {'S3DataType': 'S3Prefix', 'S3Uri': 's3://sagemaker-us-east-1-322537213286/data/amazon_reviews_us_Digital_Software_v1_00_header.csv'}}, 'TargetAttributeName': 'star_rating'}], 'OutputDataConfig': {'S3OutputPath': 's3://sagemaker-experiments-us-east-1-322537213286/models/autopilot'}, 'RoleArn': 'arn:aws:iam::322537213286:role/service-role/AIMLWorkshop-0920-SageMakerIamRole-D3Y9Z7WKTMPP', 'AutoMLJobConfig': {'CompletionCriteria': {'MaxCandidates': 3, 'MaxRuntimePerTrainingJobInSeconds': 600, 'MaxAutoMLJobRuntimeInSeconds': 3600}}, 'CreationTime': datetime.datetime(2020, 9, 23, 13, 27, 39, 226000, tzinfo=tzlocal()), 'LastModifiedTime': datetime.datetime(2020, 9, 23, 13, 36, 40, 179000, tzinfo=tzlocal()), 'AutoMLJobStatus': 'InProgress', 'AutoMLJobSecondaryStatus': 'FeatureEngineering', 'GenerateCandidateDefinitionsOnly': False, 'AutoMLJobArtifacts': {'CandidateDefinitionNotebookLocation': 's3://sagemaker-experiments-us-east-1-322537213286/models/autopilot/automl-dm-23-13-27-39/sagemaker-automl-candidates/pr-1-c3217fde95994572ae7f34887d034cdd4c1f1d33ebda4766ac5704e558/notebooks/SageMakerAutopilotCandidateDefinitionNotebook.ipynb', 'DataExplorationNotebookLocation': 's3://sagemaker-experiments-us-east-1-322537213286/models/autopilot/automl-dm-23-13-27-39/sagemaker-automl-candidates/pr-1-c3217fde95994572ae7f34887d034cdd4c1f1d33ebda4766ac5704e558/notebooks/SageMakerAutopilotDataExplorationNotebook.ipynb'}, 'ResolvedAttributes': {'AutoMLJobObjective': {'MetricName': 'Accuracy'}, 'ProblemType': 'MulticlassClassification', 'CompletionCriteria': {'MaxCandidates': 3, 'MaxRuntimePerTrainingJobInSeconds': 600, 'MaxAutoMLJobRuntimeInSeconds': 3600}}, 'ResponseMetadata': {'RequestId': 'cd1b69ba-4941-4728-a1e7-68fc1083e8fd', 'HTTPStatusCode': 200, 'HTTPHeaders': {'x-amzn-requestid': 'cd1b69ba-4941-4728-a1e7-68fc1083e8fd', 'content-type': 'application/x-amz-json-1.1', 'content-length': '1694', 'date': 'Wed, 23 Sep 2020 13:36:45 GMT'}, 'RetryAttempts': 0}}\n"
     ]
    }
   ],
   "source": [
    "# Sleep for a bit to ensure the AutoML job above has time to start\n",
    "import time\n",
    "time.sleep(3)\n",
    "\n",
    "job = sm.describe_auto_ml_job(AutoMLJobName=auto_ml_job_name)\n",
    "job_status = job['AutoMLJobStatus']\n",
    "job_sec_status = job['AutoMLJobSecondaryStatus']\n",
    "\n",
    "if job_status not in ('Stopped', 'Failed'):\n",
    "    while job_status in ('InProgress') and job_sec_status in ('AnalyzingData'):\n",
    "        job = sm.describe_auto_ml_job(AutoMLJobName=auto_ml_job_name)\n",
    "        job_status = job['AutoMLJobStatus']\n",
    "        job_sec_status = job['AutoMLJobSecondaryStatus']\n",
    "        print(job_status, job_sec_status)\n",
    "        sleep(30)\n",
    "    print(\"Data analysis complete\")\n",
    "    \n",
    "print(job)"
   ]
  },
  {
   "cell_type": "code",
   "execution_count": 10,
   "metadata": {
    "scrolled": true
   },
   "outputs": [
    {
     "name": "stdout",
     "output_type": "stream",
     "text": [
      "{'AutoMLJobName': 'automl-dm-23-13-27-39', 'AutoMLJobArn': 'arn:aws:sagemaker:us-east-1:322537213286:automl-job/automl-dm-23-13-27-39', 'InputDataConfig': [{'DataSource': {'S3DataSource': {'S3DataType': 'S3Prefix', 'S3Uri': 's3://sagemaker-us-east-1-322537213286/data/amazon_reviews_us_Digital_Software_v1_00_header.csv'}}, 'TargetAttributeName': 'star_rating'}], 'OutputDataConfig': {'S3OutputPath': 's3://sagemaker-experiments-us-east-1-322537213286/models/autopilot'}, 'RoleArn': 'arn:aws:iam::322537213286:role/service-role/AIMLWorkshop-0920-SageMakerIamRole-D3Y9Z7WKTMPP', 'AutoMLJobConfig': {'CompletionCriteria': {'MaxCandidates': 3, 'MaxRuntimePerTrainingJobInSeconds': 600, 'MaxAutoMLJobRuntimeInSeconds': 3600}}, 'CreationTime': datetime.datetime(2020, 9, 23, 13, 27, 39, 226000, tzinfo=tzlocal()), 'LastModifiedTime': datetime.datetime(2020, 9, 23, 13, 36, 59, 26000, tzinfo=tzlocal()), 'AutoMLJobStatus': 'InProgress', 'AutoMLJobSecondaryStatus': 'FeatureEngineering', 'GenerateCandidateDefinitionsOnly': False, 'AutoMLJobArtifacts': {'CandidateDefinitionNotebookLocation': 's3://sagemaker-experiments-us-east-1-322537213286/models/autopilot/automl-dm-23-13-27-39/sagemaker-automl-candidates/pr-1-c3217fde95994572ae7f34887d034cdd4c1f1d33ebda4766ac5704e558/notebooks/SageMakerAutopilotCandidateDefinitionNotebook.ipynb', 'DataExplorationNotebookLocation': 's3://sagemaker-experiments-us-east-1-322537213286/models/autopilot/automl-dm-23-13-27-39/sagemaker-automl-candidates/pr-1-c3217fde95994572ae7f34887d034cdd4c1f1d33ebda4766ac5704e558/notebooks/SageMakerAutopilotDataExplorationNotebook.ipynb'}, 'ResolvedAttributes': {'AutoMLJobObjective': {'MetricName': 'Accuracy'}, 'ProblemType': 'MulticlassClassification', 'CompletionCriteria': {'MaxCandidates': 3, 'MaxRuntimePerTrainingJobInSeconds': 600, 'MaxAutoMLJobRuntimeInSeconds': 3600}}, 'ResponseMetadata': {'RequestId': '61e178f2-8655-4018-a61d-e63472741dea', 'HTTPStatusCode': 200, 'HTTPHeaders': {'x-amzn-requestid': '61e178f2-8655-4018-a61d-e63472741dea', 'content-type': 'application/x-amz-json-1.1', 'content-length': '1694', 'date': 'Wed, 23 Sep 2020 13:37:15 GMT'}, 'RetryAttempts': 0}}\n"
     ]
    }
   ],
   "source": [
    "job = sm.describe_auto_ml_job(AutoMLJobName=auto_ml_job_name)\n",
    "print(job)"
   ]
  },
  {
   "cell_type": "markdown",
   "metadata": {},
   "source": [
    "# Feature Engineering"
   ]
  },
  {
   "cell_type": "code",
   "execution_count": 11,
   "metadata": {},
   "outputs": [
    {
     "name": "stdout",
     "output_type": "stream",
     "text": [
      "InProgress\n",
      "FeatureEngineering\n",
      "InProgress FeatureEngineering\n",
      "InProgress FeatureEngineering\n",
      "InProgress FeatureEngineering\n",
      "InProgress FeatureEngineering\n",
      "InProgress FeatureEngineering\n",
      "InProgress FeatureEngineering\n",
      "InProgress FeatureEngineering\n",
      "InProgress FeatureEngineering\n",
      "InProgress FeatureEngineering\n",
      "InProgress FeatureEngineering\n",
      "InProgress FeatureEngineering\n",
      "InProgress FeatureEngineering\n",
      "InProgress FeatureEngineering\n",
      "InProgress FeatureEngineering\n",
      "InProgress FeatureEngineering\n",
      "InProgress FeatureEngineering\n",
      "InProgress FeatureEngineering\n",
      "InProgress FeatureEngineering\n",
      "InProgress FeatureEngineering\n",
      "InProgress ModelTuning\n",
      "Feature engineering complete\n",
      "{'AutoMLJobName': 'automl-dm-23-13-27-39', 'AutoMLJobArn': 'arn:aws:sagemaker:us-east-1:322537213286:automl-job/automl-dm-23-13-27-39', 'InputDataConfig': [{'DataSource': {'S3DataSource': {'S3DataType': 'S3Prefix', 'S3Uri': 's3://sagemaker-us-east-1-322537213286/data/amazon_reviews_us_Digital_Software_v1_00_header.csv'}}, 'TargetAttributeName': 'star_rating'}], 'OutputDataConfig': {'S3OutputPath': 's3://sagemaker-experiments-us-east-1-322537213286/models/autopilot'}, 'RoleArn': 'arn:aws:iam::322537213286:role/service-role/AIMLWorkshop-0920-SageMakerIamRole-D3Y9Z7WKTMPP', 'AutoMLJobConfig': {'CompletionCriteria': {'MaxCandidates': 3, 'MaxRuntimePerTrainingJobInSeconds': 600, 'MaxAutoMLJobRuntimeInSeconds': 3600}}, 'CreationTime': datetime.datetime(2020, 9, 23, 13, 27, 39, 226000, tzinfo=tzlocal()), 'LastModifiedTime': datetime.datetime(2020, 9, 23, 13, 46, 40, 548000, tzinfo=tzlocal()), 'AutoMLJobStatus': 'InProgress', 'AutoMLJobSecondaryStatus': 'ModelTuning', 'GenerateCandidateDefinitionsOnly': False, 'AutoMLJobArtifacts': {'CandidateDefinitionNotebookLocation': 's3://sagemaker-experiments-us-east-1-322537213286/models/autopilot/automl-dm-23-13-27-39/sagemaker-automl-candidates/pr-1-c3217fde95994572ae7f34887d034cdd4c1f1d33ebda4766ac5704e558/notebooks/SageMakerAutopilotCandidateDefinitionNotebook.ipynb', 'DataExplorationNotebookLocation': 's3://sagemaker-experiments-us-east-1-322537213286/models/autopilot/automl-dm-23-13-27-39/sagemaker-automl-candidates/pr-1-c3217fde95994572ae7f34887d034cdd4c1f1d33ebda4766ac5704e558/notebooks/SageMakerAutopilotDataExplorationNotebook.ipynb'}, 'ResolvedAttributes': {'AutoMLJobObjective': {'MetricName': 'Accuracy'}, 'ProblemType': 'MulticlassClassification', 'CompletionCriteria': {'MaxCandidates': 3, 'MaxRuntimePerTrainingJobInSeconds': 600, 'MaxAutoMLJobRuntimeInSeconds': 3600}}, 'ResponseMetadata': {'RequestId': 'b1f3cd76-3127-4c07-a67a-f1ce8e85c704', 'HTTPStatusCode': 200, 'HTTPHeaders': {'x-amzn-requestid': 'b1f3cd76-3127-4c07-a67a-f1ce8e85c704', 'content-type': 'application/x-amz-json-1.1', 'content-length': '1687', 'date': 'Wed, 23 Sep 2020 13:46:47 GMT'}, 'RetryAttempts': 0}}\n"
     ]
    }
   ],
   "source": [
    "job = sm.describe_auto_ml_job(AutoMLJobName=auto_ml_job_name)\n",
    "job_status = job['AutoMLJobStatus']\n",
    "job_sec_status = job['AutoMLJobSecondaryStatus']\n",
    "print(job_status)\n",
    "print(job_sec_status)\n",
    "if job_status not in ('Stopped', 'Failed'):\n",
    "    while job_status in ('InProgress') and job_sec_status in ('FeatureEngineering'):\n",
    "        job = sm.describe_auto_ml_job(AutoMLJobName=auto_ml_job_name)\n",
    "        job_status = job['AutoMLJobStatus']\n",
    "        job_sec_status = job['AutoMLJobSecondaryStatus']\n",
    "        print(job_status, job_sec_status)\n",
    "        sleep(30)\n",
    "    print(\"Feature engineering complete\")\n",
    "    \n",
    "print(job)"
   ]
  },
  {
   "cell_type": "markdown",
   "metadata": {},
   "source": [
    "# Model Training and Tuning"
   ]
  },
  {
   "cell_type": "code",
   "execution_count": 12,
   "metadata": {
    "scrolled": false
   },
   "outputs": [
    {
     "name": "stdout",
     "output_type": "stream",
     "text": [
      "InProgress\n",
      "ModelTuning\n",
      "InProgress ModelTuning\n",
      "InProgress ModelTuning\n",
      "InProgress ModelTuning\n",
      "InProgress ModelTuning\n",
      "InProgress ModelTuning\n",
      "InProgress ModelTuning\n",
      "InProgress ModelTuning\n",
      "InProgress ModelTuning\n",
      "InProgress ModelTuning\n",
      "Completed MaxCandidatesReached\n",
      "Model tuning complete\n",
      "{'AutoMLJobName': 'automl-dm-23-13-27-39', 'AutoMLJobArn': 'arn:aws:sagemaker:us-east-1:322537213286:automl-job/automl-dm-23-13-27-39', 'InputDataConfig': [{'DataSource': {'S3DataSource': {'S3DataType': 'S3Prefix', 'S3Uri': 's3://sagemaker-us-east-1-322537213286/data/amazon_reviews_us_Digital_Software_v1_00_header.csv'}}, 'TargetAttributeName': 'star_rating'}], 'OutputDataConfig': {'S3OutputPath': 's3://sagemaker-experiments-us-east-1-322537213286/models/autopilot'}, 'RoleArn': 'arn:aws:iam::322537213286:role/service-role/AIMLWorkshop-0920-SageMakerIamRole-D3Y9Z7WKTMPP', 'AutoMLJobConfig': {'CompletionCriteria': {'MaxCandidates': 3, 'MaxRuntimePerTrainingJobInSeconds': 600, 'MaxAutoMLJobRuntimeInSeconds': 3600}}, 'CreationTime': datetime.datetime(2020, 9, 23, 13, 27, 39, 226000, tzinfo=tzlocal()), 'EndTime': datetime.datetime(2020, 9, 23, 13, 51, 33, 974000, tzinfo=tzlocal()), 'LastModifiedTime': datetime.datetime(2020, 9, 23, 13, 51, 34, 8000, tzinfo=tzlocal()), 'BestCandidate': {'CandidateName': 'tuning-job-1-5a57cb54f373450fa3-001-e8965548', 'FinalAutoMLJobObjectiveMetric': {'MetricName': 'validation:accuracy', 'Value': 0.45120999217033386}, 'ObjectiveStatus': 'Succeeded', 'CandidateSteps': [{'CandidateStepType': 'AWS::SageMaker::ProcessingJob', 'CandidateStepArn': 'arn:aws:sagemaker:us-east-1:322537213286:processing-job/db-1-66ab68f6468141c694e2c4256ebbf49c41284cbbc8c74f9d958fe950df', 'CandidateStepName': 'db-1-66ab68f6468141c694e2c4256ebbf49c41284cbbc8c74f9d958fe950df'}, {'CandidateStepType': 'AWS::SageMaker::TrainingJob', 'CandidateStepArn': 'arn:aws:sagemaker:us-east-1:322537213286:training-job/automl-dm--dpp0-1-ea4191c57e81443a8394d1b4c933b00428daae3e23a84', 'CandidateStepName': 'automl-dm--dpp0-1-ea4191c57e81443a8394d1b4c933b00428daae3e23a84'}, {'CandidateStepType': 'AWS::SageMaker::TransformJob', 'CandidateStepArn': 'arn:aws:sagemaker:us-east-1:322537213286:transform-job/automl-dm--dpp0-rpb-1-c664f9afc55c451aabbc5341f494a1a4d0d8c48ce', 'CandidateStepName': 'automl-dm--dpp0-rpb-1-c664f9afc55c451aabbc5341f494a1a4d0d8c48ce'}, {'CandidateStepType': 'AWS::SageMaker::TrainingJob', 'CandidateStepArn': 'arn:aws:sagemaker:us-east-1:322537213286:training-job/tuning-job-1-5a57cb54f373450fa3-001-e8965548', 'CandidateStepName': 'tuning-job-1-5a57cb54f373450fa3-001-e8965548'}], 'CandidateStatus': 'Completed', 'InferenceContainers': [{'Image': '683313688378.dkr.ecr.us-east-1.amazonaws.com/sagemaker-sklearn-automl:0.2-1-cpu-py3', 'ModelDataUrl': 's3://sagemaker-experiments-us-east-1-322537213286/models/autopilot/automl-dm-23-13-27-39/data-processor-models/automl-dm--dpp0-1-ea4191c57e81443a8394d1b4c933b00428daae3e23a84/output/model.tar.gz', 'Environment': {'AUTOML_SPARSE_ENCODE_RECORDIO_PROTOBUF': '1', 'AUTOML_TRANSFORM_MODE': 'feature-transform', 'SAGEMAKER_DEFAULT_INVOCATIONS_ACCEPT': 'application/x-recordio-protobuf', 'SAGEMAKER_PROGRAM': 'sagemaker_serve', 'SAGEMAKER_SUBMIT_DIRECTORY': '/opt/ml/model/sagemaker_serve.py'}}, {'Image': '683313688378.dkr.ecr.us-east-1.amazonaws.com/sagemaker-xgboost:1.0-1-cpu-py3', 'ModelDataUrl': 's3://sagemaker-experiments-us-east-1-322537213286/models/autopilot/automl-dm-23-13-27-39/tuning/automl-dm--dpp0-xgb/tuning-job-1-5a57cb54f373450fa3-001-e8965548/output/model.tar.gz', 'Environment': {'MAX_CONTENT_LENGTH': '20971520', 'SAGEMAKER_DEFAULT_INVOCATIONS_ACCEPT': 'text/csv', 'SAGEMAKER_INFERENCE_OUTPUT': 'predicted_label', 'SAGEMAKER_INFERENCE_SUPPORTED': 'predicted_label,probability,probabilities'}}, {'Image': '683313688378.dkr.ecr.us-east-1.amazonaws.com/sagemaker-sklearn-automl:0.2-1-cpu-py3', 'ModelDataUrl': 's3://sagemaker-experiments-us-east-1-322537213286/models/autopilot/automl-dm-23-13-27-39/data-processor-models/automl-dm--dpp0-1-ea4191c57e81443a8394d1b4c933b00428daae3e23a84/output/model.tar.gz', 'Environment': {'AUTOML_TRANSFORM_MODE': 'inverse-label-transform', 'SAGEMAKER_DEFAULT_INVOCATIONS_ACCEPT': 'text/csv', 'SAGEMAKER_INFERENCE_INPUT': 'predicted_label', 'SAGEMAKER_INFERENCE_OUTPUT': 'predicted_label', 'SAGEMAKER_INFERENCE_SUPPORTED': 'predicted_label,probability,labels,probabilities', 'SAGEMAKER_PROGRAM': 'sagemaker_serve', 'SAGEMAKER_SUBMIT_DIRECTORY': '/opt/ml/model/sagemaker_serve.py'}}], 'CreationTime': datetime.datetime(2020, 9, 23, 13, 48, 40, tzinfo=tzlocal()), 'EndTime': datetime.datetime(2020, 9, 23, 13, 50, tzinfo=tzlocal()), 'LastModifiedTime': datetime.datetime(2020, 9, 23, 13, 51, 33, 134000, tzinfo=tzlocal())}, 'AutoMLJobStatus': 'Completed', 'AutoMLJobSecondaryStatus': 'MaxCandidatesReached', 'GenerateCandidateDefinitionsOnly': False, 'AutoMLJobArtifacts': {'CandidateDefinitionNotebookLocation': 's3://sagemaker-experiments-us-east-1-322537213286/models/autopilot/automl-dm-23-13-27-39/sagemaker-automl-candidates/pr-1-c3217fde95994572ae7f34887d034cdd4c1f1d33ebda4766ac5704e558/notebooks/SageMakerAutopilotCandidateDefinitionNotebook.ipynb', 'DataExplorationNotebookLocation': 's3://sagemaker-experiments-us-east-1-322537213286/models/autopilot/automl-dm-23-13-27-39/sagemaker-automl-candidates/pr-1-c3217fde95994572ae7f34887d034cdd4c1f1d33ebda4766ac5704e558/notebooks/SageMakerAutopilotDataExplorationNotebook.ipynb'}, 'ResolvedAttributes': {'AutoMLJobObjective': {'MetricName': 'Accuracy'}, 'ProblemType': 'MulticlassClassification', 'CompletionCriteria': {'MaxCandidates': 3, 'MaxRuntimePerTrainingJobInSeconds': 600, 'MaxAutoMLJobRuntimeInSeconds': 3600}}, 'ResponseMetadata': {'RequestId': '9a62d2c0-ec1f-46cb-bdf9-ec0a740c68f4', 'HTTPStatusCode': 200, 'HTTPHeaders': {'x-amzn-requestid': '9a62d2c0-ec1f-46cb-bdf9-ec0a740c68f4', 'content-type': 'application/x-amz-json-1.1', 'content-length': '4962', 'date': 'Wed, 23 Sep 2020 13:51:49 GMT'}, 'RetryAttempts': 0}}\n"
     ]
    }
   ],
   "source": [
    "job = sm.describe_auto_ml_job(AutoMLJobName=auto_ml_job_name)\n",
    "job_status = job['AutoMLJobStatus']\n",
    "job_sec_status = job['AutoMLJobSecondaryStatus']\n",
    "print(job_status)\n",
    "print(job_sec_status)\n",
    "if job_status not in ('Stopped', 'Failed'):\n",
    "    while job_status in ('InProgress') and job_sec_status in ('ModelTuning'):\n",
    "        job = sm.describe_auto_ml_job(AutoMLJobName=auto_ml_job_name)\n",
    "        job_status = job['AutoMLJobStatus']\n",
    "        job_sec_status = job['AutoMLJobSecondaryStatus']\n",
    "        print(job_status, job_sec_status)\n",
    "        sleep(30)\n",
    "    print(\"Model tuning complete\")\n",
    "    \n",
    "print(job)"
   ]
  },
  {
   "cell_type": "markdown",
   "metadata": {},
   "source": [
    "<h2><span style=\"color:red\">위 Autopilot이 완료되기 전까지 기다려 주시기 바랍니다.</span></h2>"
   ]
  },
  {
   "cell_type": "markdown",
   "metadata": {},
   "source": [
    "# View Generated Notebooks\n",
    "\n",
    "데이터 분석이 완료되며, SageMaker AutoPilot 2가지 노트북을 생성합니다.\n",
    "* Data exploration,\n",
    "* Candidate definition."
   ]
  },
  {
   "cell_type": "markdown",
   "metadata": {},
   "source": [
    "## Copy the Generated Notebooks Locally"
   ]
  },
  {
   "cell_type": "code",
   "execution_count": 13,
   "metadata": {
    "scrolled": true
   },
   "outputs": [
    {
     "data": {
      "text/plain": [
       "'s3://sagemaker-experiments-us-east-1-322537213286/models/autopilot/automl-dm-23-13-27-39/sagemaker-automl-candidates/pr-1-c3217fde95994572ae7f34887d034cdd4c1f1d33ebda4766ac5704e558'"
      ]
     },
     "execution_count": 13,
     "metadata": {},
     "output_type": "execute_result"
    }
   ],
   "source": [
    "generated_resources = job['AutoMLJobArtifacts']['DataExplorationNotebookLocation'].rstrip('notebooks/SageMakerAutopilotDataExplorationNotebook.ipynb')\n",
    "generated_resources"
   ]
  },
  {
   "cell_type": "code",
   "execution_count": 14,
   "metadata": {},
   "outputs": [
    {
     "name": "stdout",
     "output_type": "stream",
     "text": [
      "download: s3://sagemaker-experiments-us-east-1-322537213286/models/autopilot/automl-dm-23-13-27-39/sagemaker-automl-candidates/pr-1-c3217fde95994572ae7f34887d034cdd4c1f1d33ebda4766ac5704e558/generated_module/MANIFEST.in to generated_module/MANIFEST.in\n",
      "download: s3://sagemaker-experiments-us-east-1-322537213286/models/autopilot/automl-dm-23-13-27-39/sagemaker-automl-candidates/pr-1-c3217fde95994572ae7f34887d034cdd4c1f1d33ebda4766ac5704e558/generated_module/README.md to generated_module/README.md\n",
      "download: s3://sagemaker-experiments-us-east-1-322537213286/models/autopilot/automl-dm-23-13-27-39/sagemaker-automl-candidates/pr-1-c3217fde95994572ae7f34887d034cdd4c1f1d33ebda4766ac5704e558/generated_module/candidate_data_processors/dpp1.py to generated_module/candidate_data_processors/dpp1.py\n",
      "download: s3://sagemaker-experiments-us-east-1-322537213286/models/autopilot/automl-dm-23-13-27-39/sagemaker-automl-candidates/pr-1-c3217fde95994572ae7f34887d034cdd4c1f1d33ebda4766ac5704e558/generated_module/candidate_data_processors/dpp2.py to generated_module/candidate_data_processors/dpp2.py\n",
      "download: s3://sagemaker-experiments-us-east-1-322537213286/models/autopilot/automl-dm-23-13-27-39/sagemaker-automl-candidates/pr-1-c3217fde95994572ae7f34887d034cdd4c1f1d33ebda4766ac5704e558/notebooks/sagemaker_automl/__init__.py to notebooks/sagemaker_automl/__init__.py\n",
      "download: s3://sagemaker-experiments-us-east-1-322537213286/models/autopilot/automl-dm-23-13-27-39/sagemaker-automl-candidates/pr-1-c3217fde95994572ae7f34887d034cdd4c1f1d33ebda4766ac5704e558/generated_module/candidate_data_processors/trainer.py to generated_module/candidate_data_processors/trainer.py\n",
      "download: s3://sagemaker-experiments-us-east-1-322537213286/models/autopilot/automl-dm-23-13-27-39/sagemaker-automl-candidates/pr-1-c3217fde95994572ae7f34887d034cdd4c1f1d33ebda4766ac5704e558/generated_module/candidate_data_processors/dpp0.py to generated_module/candidate_data_processors/dpp0.py\n",
      "download: s3://sagemaker-experiments-us-east-1-322537213286/models/autopilot/automl-dm-23-13-27-39/sagemaker-automl-candidates/pr-1-c3217fde95994572ae7f34887d034cdd4c1f1d33ebda4766ac5704e558/notebooks/SageMakerAutopilotCandidateDefinitionNotebook.ipynb to notebooks/SageMakerAutopilotCandidateDefinitionNotebook.ipynb\n",
      "download: s3://sagemaker-experiments-us-east-1-322537213286/models/autopilot/automl-dm-23-13-27-39/sagemaker-automl-candidates/pr-1-c3217fde95994572ae7f34887d034cdd4c1f1d33ebda4766ac5704e558/generated_module/setup.py to generated_module/setup.py\n",
      "download: s3://sagemaker-experiments-us-east-1-322537213286/models/autopilot/automl-dm-23-13-27-39/sagemaker-automl-candidates/pr-1-c3217fde95994572ae7f34887d034cdd4c1f1d33ebda4766ac5704e558/generated_module/candidate_data_processors/sagemaker_serve.py to generated_module/candidate_data_processors/sagemaker_serve.py\n",
      "download: s3://sagemaker-experiments-us-east-1-322537213286/models/autopilot/automl-dm-23-13-27-39/sagemaker-automl-candidates/pr-1-c3217fde95994572ae7f34887d034cdd4c1f1d33ebda4766ac5704e558/notebooks/sagemaker_automl/config.py to notebooks/sagemaker_automl/config.py\n",
      "download: s3://sagemaker-experiments-us-east-1-322537213286/models/autopilot/automl-dm-23-13-27-39/sagemaker-automl-candidates/pr-1-c3217fde95994572ae7f34887d034cdd4c1f1d33ebda4766ac5704e558/notebooks/sagemaker_automl/README.md to notebooks/sagemaker_automl/README.md\n",
      "download: s3://sagemaker-experiments-us-east-1-322537213286/models/autopilot/automl-dm-23-13-27-39/sagemaker-automl-candidates/pr-1-c3217fde95994572ae7f34887d034cdd4c1f1d33ebda4766ac5704e558/notebooks/sagemaker_automl/common.py to notebooks/sagemaker_automl/common.py\n",
      "download: s3://sagemaker-experiments-us-east-1-322537213286/models/autopilot/automl-dm-23-13-27-39/sagemaker-automl-candidates/pr-1-c3217fde95994572ae7f34887d034cdd4c1f1d33ebda4766ac5704e558/notebooks/SageMakerAutopilotDataExplorationNotebook.ipynb to notebooks/SageMakerAutopilotDataExplorationNotebook.ipynb\n",
      "download: s3://sagemaker-experiments-us-east-1-322537213286/models/autopilot/automl-dm-23-13-27-39/sagemaker-automl-candidates/pr-1-c3217fde95994572ae7f34887d034cdd4c1f1d33ebda4766ac5704e558/notebooks/sagemaker_automl/local_candidate.py to notebooks/sagemaker_automl/local_candidate.py\n",
      "download: s3://sagemaker-experiments-us-east-1-322537213286/models/autopilot/automl-dm-23-13-27-39/sagemaker-automl-candidates/pr-1-c3217fde95994572ae7f34887d034cdd4c1f1d33ebda4766ac5704e558/notebooks/sagemaker_automl/interactive_runner.py to notebooks/sagemaker_automl/interactive_runner.py\n",
      "download: s3://sagemaker-experiments-us-east-1-322537213286/models/autopilot/automl-dm-23-13-27-39/sagemaker-automl-candidates/pr-1-c3217fde95994572ae7f34887d034cdd4c1f1d33ebda4766ac5704e558/notebooks/sagemaker_automl/steps.py to notebooks/sagemaker_automl/steps.py\n"
     ]
    }
   ],
   "source": [
    "!aws s3 cp --recursive $generated_resources ."
   ]
  },
  {
   "cell_type": "markdown",
   "metadata": {},
   "source": [
    "## In the file view, open the following folders:\n",
    "```\n",
    "notebooks/\n",
    "generated_module/\n",
    "```\n",
    "이 폴더에서 많은 정보를 보실 수 있습니다."
   ]
  },
  {
   "cell_type": "markdown",
   "metadata": {},
   "source": [
    "# Viewing All Candidates\n",
    "\n",
    "model tuning이 완료되면 AutoML에서 탐색 한 모든 후보(서로 다른 하이퍼 파라미터 조합을 가진 파이프 라인 평가)를 보고, 최종 성능 메트릭별로 정렬할 수 있습니다."
   ]
  },
  {
   "cell_type": "code",
   "execution_count": 15,
   "metadata": {},
   "outputs": [
    {
     "name": "stdout",
     "output_type": "stream",
     "text": [
      "0  tuning-job-1-5a57cb54f373450fa3-001-e8965548  0.45120999217033386\n",
      "1  tuning-job-1-5a57cb54f373450fa3-003-b1dcb5fb  0.43064001202583313\n",
      "2  tuning-job-1-5a57cb54f373450fa3-002-80847698  0.2768999934196472\n"
     ]
    }
   ],
   "source": [
    "candidates = sm.list_candidates_for_auto_ml_job(AutoMLJobName=auto_ml_job_name, \n",
    "                                                SortBy='FinalObjectiveMetricValue')['Candidates']\n",
    "for index, candidate in enumerate(candidates):\n",
    "    print(str(index) + \"  \" \n",
    "        + candidate['CandidateName'] + \"  \" \n",
    "        + str(candidate['FinalAutoMLJobObjectiveMetric']['Value']))"
   ]
  },
  {
   "cell_type": "markdown",
   "metadata": {},
   "source": [
    "# Inspect Trials using Experiments API\n",
    "\n",
    "SageMaker Autopilot은 자동으로 새로운 experiment를 생성하고, 각 trial에 대한 정보를 experiment에 추가합니다."
   ]
  },
  {
   "cell_type": "code",
   "execution_count": 16,
   "metadata": {},
   "outputs": [
    {
     "data": {
      "text/html": [
       "<div>\n",
       "<style scoped>\n",
       "    .dataframe tbody tr th:only-of-type {\n",
       "        vertical-align: middle;\n",
       "    }\n",
       "\n",
       "    .dataframe tbody tr th {\n",
       "        vertical-align: top;\n",
       "    }\n",
       "\n",
       "    .dataframe thead th {\n",
       "        text-align: right;\n",
       "    }\n",
       "</style>\n",
       "<table border=\"1\" class=\"dataframe\">\n",
       "  <thead>\n",
       "    <tr style=\"text-align: right;\">\n",
       "      <th></th>\n",
       "      <th>TrialComponentName</th>\n",
       "      <th>DisplayName</th>\n",
       "      <th>SourceArn</th>\n",
       "      <th>SageMaker.ImageUri</th>\n",
       "      <th>SageMaker.InstanceCount</th>\n",
       "      <th>SageMaker.InstanceType</th>\n",
       "      <th>SageMaker.VolumeSizeInGB</th>\n",
       "      <th>_tuning_objective_metric</th>\n",
       "      <th>alpha</th>\n",
       "      <th>colsample_bytree</th>\n",
       "      <th>...</th>\n",
       "      <th>code - MediaType</th>\n",
       "      <th>code - Value</th>\n",
       "      <th>input_channel_mode</th>\n",
       "      <th>job_name</th>\n",
       "      <th>label_col</th>\n",
       "      <th>max_dataset_size</th>\n",
       "      <th>SageMaker.ImageUri - MediaType</th>\n",
       "      <th>SageMaker.ImageUri - Value</th>\n",
       "      <th>ds - MediaType</th>\n",
       "      <th>ds - Value</th>\n",
       "    </tr>\n",
       "  </thead>\n",
       "  <tbody>\n",
       "    <tr>\n",
       "      <th>0</th>\n",
       "      <td>tuning-job-1-5a57cb54f373450fa3-002-80847698-a...</td>\n",
       "      <td>tuning-job-1-5a57cb54f373450fa3-002-80847698-a...</td>\n",
       "      <td>arn:aws:sagemaker:us-east-1:322537213286:train...</td>\n",
       "      <td>683313688378.dkr.ecr.us-east-1.amazonaws.com/s...</td>\n",
       "      <td>1.0</td>\n",
       "      <td>ml.m5.4xlarge</td>\n",
       "      <td>50.0</td>\n",
       "      <td>validation:accuracy</td>\n",
       "      <td>0.000215</td>\n",
       "      <td>0.367657</td>\n",
       "      <td>...</td>\n",
       "      <td>NaN</td>\n",
       "      <td>NaN</td>\n",
       "      <td>NaN</td>\n",
       "      <td>NaN</td>\n",
       "      <td>NaN</td>\n",
       "      <td>NaN</td>\n",
       "      <td>NaN</td>\n",
       "      <td>NaN</td>\n",
       "      <td>NaN</td>\n",
       "      <td>NaN</td>\n",
       "    </tr>\n",
       "    <tr>\n",
       "      <th>1</th>\n",
       "      <td>tuning-job-1-5a57cb54f373450fa3-003-b1dcb5fb-a...</td>\n",
       "      <td>tuning-job-1-5a57cb54f373450fa3-003-b1dcb5fb-a...</td>\n",
       "      <td>arn:aws:sagemaker:us-east-1:322537213286:train...</td>\n",
       "      <td>683313688378.dkr.ecr.us-east-1.amazonaws.com/s...</td>\n",
       "      <td>1.0</td>\n",
       "      <td>ml.m5.4xlarge</td>\n",
       "      <td>50.0</td>\n",
       "      <td>validation:accuracy</td>\n",
       "      <td>0.006235</td>\n",
       "      <td>0.333142</td>\n",
       "      <td>...</td>\n",
       "      <td>NaN</td>\n",
       "      <td>NaN</td>\n",
       "      <td>NaN</td>\n",
       "      <td>NaN</td>\n",
       "      <td>NaN</td>\n",
       "      <td>NaN</td>\n",
       "      <td>NaN</td>\n",
       "      <td>NaN</td>\n",
       "      <td>NaN</td>\n",
       "      <td>NaN</td>\n",
       "    </tr>\n",
       "    <tr>\n",
       "      <th>2</th>\n",
       "      <td>tuning-job-1-5a57cb54f373450fa3-001-e8965548-a...</td>\n",
       "      <td>tuning-job-1-5a57cb54f373450fa3-001-e8965548-a...</td>\n",
       "      <td>arn:aws:sagemaker:us-east-1:322537213286:train...</td>\n",
       "      <td>683313688378.dkr.ecr.us-east-1.amazonaws.com/s...</td>\n",
       "      <td>1.0</td>\n",
       "      <td>ml.m5.4xlarge</td>\n",
       "      <td>50.0</td>\n",
       "      <td>validation:accuracy</td>\n",
       "      <td>0.000215</td>\n",
       "      <td>0.367657</td>\n",
       "      <td>...</td>\n",
       "      <td>NaN</td>\n",
       "      <td>NaN</td>\n",
       "      <td>NaN</td>\n",
       "      <td>NaN</td>\n",
       "      <td>NaN</td>\n",
       "      <td>NaN</td>\n",
       "      <td>NaN</td>\n",
       "      <td>NaN</td>\n",
       "      <td>NaN</td>\n",
       "      <td>NaN</td>\n",
       "    </tr>\n",
       "    <tr>\n",
       "      <th>3</th>\n",
       "      <td>automl-dm--dpp1-csv-1-72e31779f01c4a68bf44e28a...</td>\n",
       "      <td>automl-dm--dpp1-csv-1-72e31779f01c4a68bf44e28a...</td>\n",
       "      <td>arn:aws:sagemaker:us-east-1:322537213286:trans...</td>\n",
       "      <td>NaN</td>\n",
       "      <td>1.0</td>\n",
       "      <td>ml.m5.4xlarge</td>\n",
       "      <td>NaN</td>\n",
       "      <td>NaN</td>\n",
       "      <td>NaN</td>\n",
       "      <td>NaN</td>\n",
       "      <td>...</td>\n",
       "      <td>NaN</td>\n",
       "      <td>NaN</td>\n",
       "      <td>NaN</td>\n",
       "      <td>NaN</td>\n",
       "      <td>NaN</td>\n",
       "      <td>NaN</td>\n",
       "      <td>NaN</td>\n",
       "      <td>NaN</td>\n",
       "      <td>NaN</td>\n",
       "      <td>NaN</td>\n",
       "    </tr>\n",
       "    <tr>\n",
       "      <th>4</th>\n",
       "      <td>automl-dm--dpp0-rpb-1-c664f9afc55c451aabbc5341...</td>\n",
       "      <td>automl-dm--dpp0-rpb-1-c664f9afc55c451aabbc5341...</td>\n",
       "      <td>arn:aws:sagemaker:us-east-1:322537213286:trans...</td>\n",
       "      <td>NaN</td>\n",
       "      <td>1.0</td>\n",
       "      <td>ml.m5.4xlarge</td>\n",
       "      <td>NaN</td>\n",
       "      <td>NaN</td>\n",
       "      <td>NaN</td>\n",
       "      <td>NaN</td>\n",
       "      <td>...</td>\n",
       "      <td>NaN</td>\n",
       "      <td>NaN</td>\n",
       "      <td>NaN</td>\n",
       "      <td>NaN</td>\n",
       "      <td>NaN</td>\n",
       "      <td>NaN</td>\n",
       "      <td>NaN</td>\n",
       "      <td>NaN</td>\n",
       "      <td>NaN</td>\n",
       "      <td>NaN</td>\n",
       "    </tr>\n",
       "    <tr>\n",
       "      <th>5</th>\n",
       "      <td>automl-dm--dpp1-1-4a5d282275e44022a284c959ebd1...</td>\n",
       "      <td>automl-dm--dpp1-1-4a5d282275e44022a284c959ebd1...</td>\n",
       "      <td>arn:aws:sagemaker:us-east-1:322537213286:train...</td>\n",
       "      <td>683313688378.dkr.ecr.us-east-1.amazonaws.com/s...</td>\n",
       "      <td>1.0</td>\n",
       "      <td>ml.m5.4xlarge</td>\n",
       "      <td>50.0</td>\n",
       "      <td>NaN</td>\n",
       "      <td>NaN</td>\n",
       "      <td>NaN</td>\n",
       "      <td>...</td>\n",
       "      <td>application/x-code</td>\n",
       "      <td>s3://sagemaker-experiments-us-east-1-322537213...</td>\n",
       "      <td>NaN</td>\n",
       "      <td>NaN</td>\n",
       "      <td>NaN</td>\n",
       "      <td>NaN</td>\n",
       "      <td>NaN</td>\n",
       "      <td>NaN</td>\n",
       "      <td>NaN</td>\n",
       "      <td>NaN</td>\n",
       "    </tr>\n",
       "    <tr>\n",
       "      <th>6</th>\n",
       "      <td>automl-dm--dpp0-1-ea4191c57e81443a8394d1b4c933...</td>\n",
       "      <td>automl-dm--dpp0-1-ea4191c57e81443a8394d1b4c933...</td>\n",
       "      <td>arn:aws:sagemaker:us-east-1:322537213286:train...</td>\n",
       "      <td>683313688378.dkr.ecr.us-east-1.amazonaws.com/s...</td>\n",
       "      <td>1.0</td>\n",
       "      <td>ml.m5.4xlarge</td>\n",
       "      <td>50.0</td>\n",
       "      <td>NaN</td>\n",
       "      <td>NaN</td>\n",
       "      <td>NaN</td>\n",
       "      <td>...</td>\n",
       "      <td>application/x-code</td>\n",
       "      <td>s3://sagemaker-experiments-us-east-1-322537213...</td>\n",
       "      <td>NaN</td>\n",
       "      <td>NaN</td>\n",
       "      <td>NaN</td>\n",
       "      <td>NaN</td>\n",
       "      <td>NaN</td>\n",
       "      <td>NaN</td>\n",
       "      <td>NaN</td>\n",
       "      <td>NaN</td>\n",
       "    </tr>\n",
       "    <tr>\n",
       "      <th>7</th>\n",
       "      <td>db-1-66ab68f6468141c694e2c4256ebbf49c41284cbbc...</td>\n",
       "      <td>db-1-66ab68f6468141c694e2c4256ebbf49c41284cbbc...</td>\n",
       "      <td>arn:aws:sagemaker:us-east-1:322537213286:proce...</td>\n",
       "      <td>NaN</td>\n",
       "      <td>1.0</td>\n",
       "      <td>ml.m5.2xlarge</td>\n",
       "      <td>250.0</td>\n",
       "      <td>NaN</td>\n",
       "      <td>NaN</td>\n",
       "      <td>NaN</td>\n",
       "      <td>...</td>\n",
       "      <td>NaN</td>\n",
       "      <td>NaN</td>\n",
       "      <td>Pipe</td>\n",
       "      <td>automl-dm-23-13-27-39</td>\n",
       "      <td>star_rating</td>\n",
       "      <td>5</td>\n",
       "      <td>NaN</td>\n",
       "      <td>120479346908.dkr.ecr.us-east-1.amazonaws.com/d...</td>\n",
       "      <td>NaN</td>\n",
       "      <td>s3://sagemaker-experiments-us-east-1-322537213...</td>\n",
       "    </tr>\n",
       "  </tbody>\n",
       "</table>\n",
       "<p>8 rows × 76 columns</p>\n",
       "</div>"
      ],
      "text/plain": [
       "                                  TrialComponentName  \\\n",
       "0  tuning-job-1-5a57cb54f373450fa3-002-80847698-a...   \n",
       "1  tuning-job-1-5a57cb54f373450fa3-003-b1dcb5fb-a...   \n",
       "2  tuning-job-1-5a57cb54f373450fa3-001-e8965548-a...   \n",
       "3  automl-dm--dpp1-csv-1-72e31779f01c4a68bf44e28a...   \n",
       "4  automl-dm--dpp0-rpb-1-c664f9afc55c451aabbc5341...   \n",
       "5  automl-dm--dpp1-1-4a5d282275e44022a284c959ebd1...   \n",
       "6  automl-dm--dpp0-1-ea4191c57e81443a8394d1b4c933...   \n",
       "7  db-1-66ab68f6468141c694e2c4256ebbf49c41284cbbc...   \n",
       "\n",
       "                                         DisplayName  \\\n",
       "0  tuning-job-1-5a57cb54f373450fa3-002-80847698-a...   \n",
       "1  tuning-job-1-5a57cb54f373450fa3-003-b1dcb5fb-a...   \n",
       "2  tuning-job-1-5a57cb54f373450fa3-001-e8965548-a...   \n",
       "3  automl-dm--dpp1-csv-1-72e31779f01c4a68bf44e28a...   \n",
       "4  automl-dm--dpp0-rpb-1-c664f9afc55c451aabbc5341...   \n",
       "5  automl-dm--dpp1-1-4a5d282275e44022a284c959ebd1...   \n",
       "6  automl-dm--dpp0-1-ea4191c57e81443a8394d1b4c933...   \n",
       "7  db-1-66ab68f6468141c694e2c4256ebbf49c41284cbbc...   \n",
       "\n",
       "                                           SourceArn  \\\n",
       "0  arn:aws:sagemaker:us-east-1:322537213286:train...   \n",
       "1  arn:aws:sagemaker:us-east-1:322537213286:train...   \n",
       "2  arn:aws:sagemaker:us-east-1:322537213286:train...   \n",
       "3  arn:aws:sagemaker:us-east-1:322537213286:trans...   \n",
       "4  arn:aws:sagemaker:us-east-1:322537213286:trans...   \n",
       "5  arn:aws:sagemaker:us-east-1:322537213286:train...   \n",
       "6  arn:aws:sagemaker:us-east-1:322537213286:train...   \n",
       "7  arn:aws:sagemaker:us-east-1:322537213286:proce...   \n",
       "\n",
       "                                  SageMaker.ImageUri  SageMaker.InstanceCount  \\\n",
       "0  683313688378.dkr.ecr.us-east-1.amazonaws.com/s...                      1.0   \n",
       "1  683313688378.dkr.ecr.us-east-1.amazonaws.com/s...                      1.0   \n",
       "2  683313688378.dkr.ecr.us-east-1.amazonaws.com/s...                      1.0   \n",
       "3                                                NaN                      1.0   \n",
       "4                                                NaN                      1.0   \n",
       "5  683313688378.dkr.ecr.us-east-1.amazonaws.com/s...                      1.0   \n",
       "6  683313688378.dkr.ecr.us-east-1.amazonaws.com/s...                      1.0   \n",
       "7                                                NaN                      1.0   \n",
       "\n",
       "  SageMaker.InstanceType  SageMaker.VolumeSizeInGB _tuning_objective_metric  \\\n",
       "0          ml.m5.4xlarge                      50.0      validation:accuracy   \n",
       "1          ml.m5.4xlarge                      50.0      validation:accuracy   \n",
       "2          ml.m5.4xlarge                      50.0      validation:accuracy   \n",
       "3          ml.m5.4xlarge                       NaN                      NaN   \n",
       "4          ml.m5.4xlarge                       NaN                      NaN   \n",
       "5          ml.m5.4xlarge                      50.0                      NaN   \n",
       "6          ml.m5.4xlarge                      50.0                      NaN   \n",
       "7          ml.m5.2xlarge                     250.0                      NaN   \n",
       "\n",
       "      alpha  colsample_bytree  ...    code - MediaType  \\\n",
       "0  0.000215          0.367657  ...                 NaN   \n",
       "1  0.006235          0.333142  ...                 NaN   \n",
       "2  0.000215          0.367657  ...                 NaN   \n",
       "3       NaN               NaN  ...                 NaN   \n",
       "4       NaN               NaN  ...                 NaN   \n",
       "5       NaN               NaN  ...  application/x-code   \n",
       "6       NaN               NaN  ...  application/x-code   \n",
       "7       NaN               NaN  ...                 NaN   \n",
       "\n",
       "                                        code - Value  input_channel_mode  \\\n",
       "0                                                NaN                 NaN   \n",
       "1                                                NaN                 NaN   \n",
       "2                                                NaN                 NaN   \n",
       "3                                                NaN                 NaN   \n",
       "4                                                NaN                 NaN   \n",
       "5  s3://sagemaker-experiments-us-east-1-322537213...                 NaN   \n",
       "6  s3://sagemaker-experiments-us-east-1-322537213...                 NaN   \n",
       "7                                                NaN                Pipe   \n",
       "\n",
       "                job_name    label_col  max_dataset_size  \\\n",
       "0                    NaN          NaN               NaN   \n",
       "1                    NaN          NaN               NaN   \n",
       "2                    NaN          NaN               NaN   \n",
       "3                    NaN          NaN               NaN   \n",
       "4                    NaN          NaN               NaN   \n",
       "5                    NaN          NaN               NaN   \n",
       "6                    NaN          NaN               NaN   \n",
       "7  automl-dm-23-13-27-39  star_rating                 5   \n",
       "\n",
       "   SageMaker.ImageUri - MediaType  \\\n",
       "0                             NaN   \n",
       "1                             NaN   \n",
       "2                             NaN   \n",
       "3                             NaN   \n",
       "4                             NaN   \n",
       "5                             NaN   \n",
       "6                             NaN   \n",
       "7                             NaN   \n",
       "\n",
       "                          SageMaker.ImageUri - Value ds - MediaType  \\\n",
       "0                                                NaN            NaN   \n",
       "1                                                NaN            NaN   \n",
       "2                                                NaN            NaN   \n",
       "3                                                NaN            NaN   \n",
       "4                                                NaN            NaN   \n",
       "5                                                NaN            NaN   \n",
       "6                                                NaN            NaN   \n",
       "7  120479346908.dkr.ecr.us-east-1.amazonaws.com/d...            NaN   \n",
       "\n",
       "                                          ds - Value  \n",
       "0                                                NaN  \n",
       "1                                                NaN  \n",
       "2                                                NaN  \n",
       "3                                                NaN  \n",
       "4                                                NaN  \n",
       "5                                                NaN  \n",
       "6                                                NaN  \n",
       "7  s3://sagemaker-experiments-us-east-1-322537213...  \n",
       "\n",
       "[8 rows x 76 columns]"
      ]
     },
     "execution_count": 16,
     "metadata": {},
     "output_type": "execute_result"
    }
   ],
   "source": [
    "from sagemaker.analytics import ExperimentAnalytics, TrainingJobAnalytics\n",
    "\n",
    "exp = ExperimentAnalytics(\n",
    "        sagemaker_session=sess, \n",
    "        experiment_name=auto_ml_job_name + '-aws-auto-ml-job',\n",
    ")\n",
    "\n",
    "df = exp.dataframe()\n",
    "df"
   ]
  },
  {
   "cell_type": "markdown",
   "metadata": {},
   "source": [
    "# Explore the Best Candidate\n",
    "\n",
    "Dataset에서 AutoML job을 완료하고 trials를 시각화하면, 단일 API call로 어떤 trials에 대해 모델을 생성할 수 있습니다. [Inference Pipelines](https://docs.aws.amazon.com/sagemaker/latest/dg/inference-pipelines.html) 사용하여 온라인으로 또는 batch prediction으로 모델을 배포합니다. 이 노트북에서는 가장 성능이 좋은 trial을 선택하여 inference로 배포합니다.\n"
   ]
  },
  {
   "cell_type": "code",
   "execution_count": 17,
   "metadata": {},
   "outputs": [
    {
     "name": "stdout",
     "output_type": "stream",
     "text": [
      "Candidate name: tuning-job-1-5a57cb54f373450fa3-001-e8965548\n",
      "Metric name: validation:accuracy\n",
      "Metric value: 0.45120999217033386\n"
     ]
    }
   ],
   "source": [
    "best_candidate = sm.describe_auto_ml_job(AutoMLJobName=auto_ml_job_name)['BestCandidate']\n",
    "best_candidate_identifier = best_candidate['CandidateName']\n",
    "\n",
    "print(\"Candidate name: \" + best_candidate_identifier)\n",
    "print(\"Metric name: \" + best_candidate['FinalAutoMLJobObjectiveMetric']['MetricName'])\n",
    "print(\"Metric value: \" + str(best_candidate['FinalAutoMLJobObjectiveMetric']['Value']))"
   ]
  },
  {
   "cell_type": "code",
   "execution_count": 18,
   "metadata": {},
   "outputs": [
    {
     "data": {
      "text/plain": [
       "{'CandidateName': 'tuning-job-1-5a57cb54f373450fa3-001-e8965548',\n",
       " 'FinalAutoMLJobObjectiveMetric': {'MetricName': 'validation:accuracy',\n",
       "  'Value': 0.45120999217033386},\n",
       " 'ObjectiveStatus': 'Succeeded',\n",
       " 'CandidateSteps': [{'CandidateStepType': 'AWS::SageMaker::ProcessingJob',\n",
       "   'CandidateStepArn': 'arn:aws:sagemaker:us-east-1:322537213286:processing-job/db-1-66ab68f6468141c694e2c4256ebbf49c41284cbbc8c74f9d958fe950df',\n",
       "   'CandidateStepName': 'db-1-66ab68f6468141c694e2c4256ebbf49c41284cbbc8c74f9d958fe950df'},\n",
       "  {'CandidateStepType': 'AWS::SageMaker::TrainingJob',\n",
       "   'CandidateStepArn': 'arn:aws:sagemaker:us-east-1:322537213286:training-job/automl-dm--dpp0-1-ea4191c57e81443a8394d1b4c933b00428daae3e23a84',\n",
       "   'CandidateStepName': 'automl-dm--dpp0-1-ea4191c57e81443a8394d1b4c933b00428daae3e23a84'},\n",
       "  {'CandidateStepType': 'AWS::SageMaker::TransformJob',\n",
       "   'CandidateStepArn': 'arn:aws:sagemaker:us-east-1:322537213286:transform-job/automl-dm--dpp0-rpb-1-c664f9afc55c451aabbc5341f494a1a4d0d8c48ce',\n",
       "   'CandidateStepName': 'automl-dm--dpp0-rpb-1-c664f9afc55c451aabbc5341f494a1a4d0d8c48ce'},\n",
       "  {'CandidateStepType': 'AWS::SageMaker::TrainingJob',\n",
       "   'CandidateStepArn': 'arn:aws:sagemaker:us-east-1:322537213286:training-job/tuning-job-1-5a57cb54f373450fa3-001-e8965548',\n",
       "   'CandidateStepName': 'tuning-job-1-5a57cb54f373450fa3-001-e8965548'}],\n",
       " 'CandidateStatus': 'Completed',\n",
       " 'InferenceContainers': [{'Image': '683313688378.dkr.ecr.us-east-1.amazonaws.com/sagemaker-sklearn-automl:0.2-1-cpu-py3',\n",
       "   'ModelDataUrl': 's3://sagemaker-experiments-us-east-1-322537213286/models/autopilot/automl-dm-23-13-27-39/data-processor-models/automl-dm--dpp0-1-ea4191c57e81443a8394d1b4c933b00428daae3e23a84/output/model.tar.gz',\n",
       "   'Environment': {'AUTOML_SPARSE_ENCODE_RECORDIO_PROTOBUF': '1',\n",
       "    'AUTOML_TRANSFORM_MODE': 'feature-transform',\n",
       "    'SAGEMAKER_DEFAULT_INVOCATIONS_ACCEPT': 'application/x-recordio-protobuf',\n",
       "    'SAGEMAKER_PROGRAM': 'sagemaker_serve',\n",
       "    'SAGEMAKER_SUBMIT_DIRECTORY': '/opt/ml/model/sagemaker_serve.py'}},\n",
       "  {'Image': '683313688378.dkr.ecr.us-east-1.amazonaws.com/sagemaker-xgboost:1.0-1-cpu-py3',\n",
       "   'ModelDataUrl': 's3://sagemaker-experiments-us-east-1-322537213286/models/autopilot/automl-dm-23-13-27-39/tuning/automl-dm--dpp0-xgb/tuning-job-1-5a57cb54f373450fa3-001-e8965548/output/model.tar.gz',\n",
       "   'Environment': {'MAX_CONTENT_LENGTH': '20971520',\n",
       "    'SAGEMAKER_DEFAULT_INVOCATIONS_ACCEPT': 'text/csv',\n",
       "    'SAGEMAKER_INFERENCE_OUTPUT': 'predicted_label',\n",
       "    'SAGEMAKER_INFERENCE_SUPPORTED': 'predicted_label,probability,probabilities'}},\n",
       "  {'Image': '683313688378.dkr.ecr.us-east-1.amazonaws.com/sagemaker-sklearn-automl:0.2-1-cpu-py3',\n",
       "   'ModelDataUrl': 's3://sagemaker-experiments-us-east-1-322537213286/models/autopilot/automl-dm-23-13-27-39/data-processor-models/automl-dm--dpp0-1-ea4191c57e81443a8394d1b4c933b00428daae3e23a84/output/model.tar.gz',\n",
       "   'Environment': {'AUTOML_TRANSFORM_MODE': 'inverse-label-transform',\n",
       "    'SAGEMAKER_DEFAULT_INVOCATIONS_ACCEPT': 'text/csv',\n",
       "    'SAGEMAKER_INFERENCE_INPUT': 'predicted_label',\n",
       "    'SAGEMAKER_INFERENCE_OUTPUT': 'predicted_label',\n",
       "    'SAGEMAKER_INFERENCE_SUPPORTED': 'predicted_label,probability,labels,probabilities',\n",
       "    'SAGEMAKER_PROGRAM': 'sagemaker_serve',\n",
       "    'SAGEMAKER_SUBMIT_DIRECTORY': '/opt/ml/model/sagemaker_serve.py'}}],\n",
       " 'CreationTime': datetime.datetime(2020, 9, 23, 13, 48, 40, tzinfo=tzlocal()),\n",
       " 'EndTime': datetime.datetime(2020, 9, 23, 13, 50, tzinfo=tzlocal()),\n",
       " 'LastModifiedTime': datetime.datetime(2020, 9, 23, 13, 51, 33, 134000, tzinfo=tzlocal())}"
      ]
     },
     "execution_count": 18,
     "metadata": {},
     "output_type": "execute_result"
    }
   ],
   "source": [
    "best_candidate"
   ]
  },
  {
   "cell_type": "markdown",
   "metadata": {},
   "source": [
    "inference 파이프라인은 model과 containers로 구성되어 있습니다."
   ]
  },
  {
   "cell_type": "code",
   "execution_count": 19,
   "metadata": {},
   "outputs": [
    {
     "name": "stdout",
     "output_type": "stream",
     "text": [
      "683313688378.dkr.ecr.us-east-1.amazonaws.com/sagemaker-sklearn-automl:0.2-1-cpu-py3\n",
      "s3://sagemaker-experiments-us-east-1-322537213286/models/autopilot/automl-dm-23-13-27-39/data-processor-models/automl-dm--dpp0-1-ea4191c57e81443a8394d1b4c933b00428daae3e23a84/output/model.tar.gz\n",
      "======================\n",
      "683313688378.dkr.ecr.us-east-1.amazonaws.com/sagemaker-xgboost:1.0-1-cpu-py3\n",
      "s3://sagemaker-experiments-us-east-1-322537213286/models/autopilot/automl-dm-23-13-27-39/tuning/automl-dm--dpp0-xgb/tuning-job-1-5a57cb54f373450fa3-001-e8965548/output/model.tar.gz\n",
      "======================\n",
      "683313688378.dkr.ecr.us-east-1.amazonaws.com/sagemaker-sklearn-automl:0.2-1-cpu-py3\n",
      "s3://sagemaker-experiments-us-east-1-322537213286/models/autopilot/automl-dm-23-13-27-39/data-processor-models/automl-dm--dpp0-1-ea4191c57e81443a8394d1b4c933b00428daae3e23a84/output/model.tar.gz\n",
      "======================\n"
     ]
    }
   ],
   "source": [
    "for container in best_candidate['InferenceContainers']:\n",
    "    print(container['Image'])\n",
    "    print(container['ModelDataUrl'])\n",
    "    print('======================')"
   ]
  },
  {
   "cell_type": "markdown",
   "metadata": {},
   "source": [
    "# Autopilot Chooses XGBoost as Best Candidate!\n",
    "\n",
    "\n",
    "Autopilot은 XGBoost 모델의 기본적인 값과 다른 하이퍼파라미터와 feature transformations을 선택합니다."
   ]
  },
  {
   "cell_type": "markdown",
   "metadata": {},
   "source": [
    "# Deploy the Model as a REST Endpoint\n",
    "\n",
    "Batch transformations 또한 지원하지만, 여기서는 REST Endpoint를 생성합니다."
   ]
  },
  {
   "cell_type": "code",
   "execution_count": 20,
   "metadata": {},
   "outputs": [
    {
     "name": "stdout",
     "output_type": "stream",
     "text": [
      "Best candidate model ARN:  arn:aws:sagemaker:us-east-1:322537213286:model/automl-dm-model-23-13-27-39\n"
     ]
    }
   ],
   "source": [
    "model_name = 'automl-dm-model-' + timestamp_suffix\n",
    "\n",
    "model_arn = sm.create_model(Containers=best_candidate['InferenceContainers'],\n",
    "                            ModelName=model_name,\n",
    "                            ExecutionRoleArn=role)\n",
    "\n",
    "print('Best candidate model ARN: ', model_arn['ModelArn'])"
   ]
  },
  {
   "cell_type": "code",
   "execution_count": 21,
   "metadata": {},
   "outputs": [
    {
     "name": "stdout",
     "output_type": "stream",
     "text": [
      "automl-dm-ep-23-13-27-39\n",
      "automl-dm-variant-23-13-27-39\n"
     ]
    }
   ],
   "source": [
    "# EndpointConfig name\n",
    "timestamp_sufafix = strftime('%d-%H-%M-%S', gmtime())\n",
    "epc_name = 'automl-dm-epc-' + timestamp_suffix\n",
    "\n",
    "# Endpoint name\n",
    "autopilot_endpoint_name = 'automl-dm-ep-' + timestamp_suffix\n",
    "variant_name = 'automl-dm-variant-' + timestamp_suffix\n",
    "\n",
    "print(autopilot_endpoint_name)\n",
    "print(variant_name)"
   ]
  },
  {
   "cell_type": "code",
   "execution_count": 22,
   "metadata": {},
   "outputs": [],
   "source": [
    "ep_config = sm.create_endpoint_config(EndpointConfigName = epc_name,\n",
    "                                      ProductionVariants=[{'InstanceType':'ml.m5.large',\n",
    "                                                           'InitialInstanceCount': 1,\n",
    "                                                           'ModelName': model_name,\n",
    "                                                           'VariantName': variant_name}])\n"
   ]
  },
  {
   "cell_type": "code",
   "execution_count": 23,
   "metadata": {},
   "outputs": [
    {
     "name": "stdout",
     "output_type": "stream",
     "text": [
      "arn:aws:sagemaker:us-east-1:322537213286:endpoint/automl-dm-ep-23-13-27-39\n"
     ]
    }
   ],
   "source": [
    "create_endpoint_response = sm.create_endpoint(EndpointName=autopilot_endpoint_name,\n",
    "                                              EndpointConfigName=epc_name)\n",
    "print(create_endpoint_response['EndpointArn'])"
   ]
  },
  {
   "cell_type": "markdown",
   "metadata": {},
   "source": [
    "# Wait for the Model to Deploy\n",
    "\n",
    "\n",
    "모델을 deploy하는데에는 5~10분 정도 소요됩니다."
   ]
  },
  {
   "cell_type": "code",
   "execution_count": 24,
   "metadata": {},
   "outputs": [],
   "source": [
    "sm.get_waiter('endpoint_in_service').wait(EndpointName=autopilot_endpoint_name)\n"
   ]
  },
  {
   "cell_type": "code",
   "execution_count": 25,
   "metadata": {},
   "outputs": [
    {
     "name": "stdout",
     "output_type": "stream",
     "text": [
      "Arn: arn:aws:sagemaker:us-east-1:322537213286:endpoint/automl-dm-ep-23-13-27-39\n",
      "Status: InService\n"
     ]
    }
   ],
   "source": [
    "resp = sm.describe_endpoint(EndpointName=autopilot_endpoint_name)\n",
    "status = resp['EndpointStatus']\n",
    "\n",
    "print(\"Arn: \" + resp['EndpointArn'])\n",
    "print(\"Status: \" + status)"
   ]
  },
  {
   "cell_type": "markdown",
   "metadata": {},
   "source": [
    "# Test Our Model with Some Example Reviews\n",
    "Let's do some ad-hoc predictions on our model."
   ]
  },
  {
   "cell_type": "code",
   "execution_count": 26,
   "metadata": {},
   "outputs": [],
   "source": [
    "sm_runtime = boto3.client('sagemaker-runtime')"
   ]
  },
  {
   "cell_type": "code",
   "execution_count": 27,
   "metadata": {},
   "outputs": [
    {
     "data": {
      "text/plain": [
       "'5'"
      ]
     },
     "execution_count": 27,
     "metadata": {},
     "output_type": "execute_result"
    }
   ],
   "source": [
    "csv_line_predict_positive = \"\"\"I loved it!\"\"\"\n",
    "\n",
    "response = sm_runtime.invoke_endpoint(EndpointName=autopilot_endpoint_name, ContentType='text/csv', Accept='text/csv', Body=csv_line_predict_positive)\n",
    "\n",
    "response_body = response['Body'].read().decode('utf-8').strip()\n",
    "response_body"
   ]
  },
  {
   "cell_type": "code",
   "execution_count": 28,
   "metadata": {},
   "outputs": [
    {
     "data": {
      "text/plain": [
       "'3'"
      ]
     },
     "execution_count": 28,
     "metadata": {},
     "output_type": "execute_result"
    }
   ],
   "source": [
    "csv_line_predict_meh = \"\"\"It's OK.\"\"\"\n",
    "\n",
    "response = sm_runtime.invoke_endpoint(EndpointName=autopilot_endpoint_name, ContentType='text/csv', Accept='text/csv', Body=csv_line_predict_meh)\n",
    "\n",
    "response_body = response['Body'].read().decode('utf-8').strip()\n",
    "response_body"
   ]
  },
  {
   "cell_type": "code",
   "execution_count": 29,
   "metadata": {
    "scrolled": true
   },
   "outputs": [
    {
     "data": {
      "text/plain": [
       "'1'"
      ]
     },
     "execution_count": 29,
     "metadata": {},
     "output_type": "execute_result"
    }
   ],
   "source": [
    "csv_line_predict_negative = \"\"\"The worst product ever.\"\"\"\n",
    "\n",
    "response = sm_runtime.invoke_endpoint(EndpointName=autopilot_endpoint_name, ContentType='text/csv', Accept='text/csv', Body=csv_line_predict_negative)\n",
    "\n",
    "response_body = response['Body'].read().decode('utf-8').strip()\n",
    "response_body"
   ]
  },
  {
   "cell_type": "markdown",
   "metadata": {},
   "source": [
    "# Create an Athena Table with Sample Reviews"
   ]
  },
  {
   "cell_type": "code",
   "execution_count": 30,
   "metadata": {},
   "outputs": [],
   "source": [
    "table_name = 'product_reviews'"
   ]
  },
  {
   "cell_type": "code",
   "execution_count": 31,
   "metadata": {},
   "outputs": [
    {
     "name": "stdout",
     "output_type": "stream",
     "text": [
      "\n",
      "DROP TABLE IF EXISTS awsdb_0920.product_reviews\n",
      "\n"
     ]
    },
    {
     "data": {
      "text/plain": [
       "<pyathena.cursor.Cursor at 0x7f0a8c710390>"
      ]
     },
     "execution_count": 31,
     "metadata": {},
     "output_type": "execute_result"
    }
   ],
   "source": [
    "# Create Table SQL Statement\n",
    "statement = \"\"\"\n",
    "DROP TABLE IF EXISTS {}.{}\n",
    "\"\"\".format(database_name, table_name, database_name, table_name_tsv)\n",
    "\n",
    "print(statement)\n",
    "\n",
    "cursor = connect(region_name=region_name, s3_staging_dir=s3_staging_dir).cursor()\n",
    "cursor.execute(statement)"
   ]
  },
  {
   "cell_type": "code",
   "execution_count": 32,
   "metadata": {},
   "outputs": [
    {
     "name": "stdout",
     "output_type": "stream",
     "text": [
      "\n",
      "CREATE TABLE IF NOT EXISTS awsdb_0920.product_reviews AS \n",
      "SELECT review_id, review_body , star_rating\n",
      "FROM awsdb_0920.amazon_reviews_tsv\n",
      "\n"
     ]
    }
   ],
   "source": [
    "# Create Table SQL Statement\n",
    "statement = \"\"\"\n",
    "CREATE TABLE IF NOT EXISTS {}.{} AS \n",
    "SELECT review_id, review_body , star_rating\n",
    "FROM {}.{}\n",
    "\"\"\".format(database_name, table_name, database_name, table_name_tsv)\n",
    "\n",
    "print(statement)"
   ]
  },
  {
   "cell_type": "code",
   "execution_count": 33,
   "metadata": {},
   "outputs": [
    {
     "data": {
      "text/plain": [
       "<pyathena.cursor.Cursor at 0x7f0a8c446cf8>"
      ]
     },
     "execution_count": 33,
     "metadata": {},
     "output_type": "execute_result"
    }
   ],
   "source": [
    "# Execute statement using connection cursor\n",
    "from pyathena import connect\n",
    "from pyathena.util import as_pandas\n",
    "\n",
    "cursor = connect(region_name=region_name, s3_staging_dir=s3_staging_dir).cursor()\n",
    "cursor.execute(statement)"
   ]
  },
  {
   "cell_type": "code",
   "execution_count": 34,
   "metadata": {},
   "outputs": [
    {
     "data": {
      "text/plain": [
       "<pyathena.cursor.Cursor at 0x7f0a8c446cf8>"
      ]
     },
     "execution_count": 34,
     "metadata": {},
     "output_type": "execute_result"
    }
   ],
   "source": [
    "statement = 'SELECT * FROM {}.{} LIMIT 10'.format(database_name, table_name)\n",
    "cursor.execute(statement)"
   ]
  },
  {
   "cell_type": "code",
   "execution_count": 35,
   "metadata": {},
   "outputs": [
    {
     "data": {
      "text/html": [
       "<div>\n",
       "<style scoped>\n",
       "    .dataframe tbody tr th:only-of-type {\n",
       "        vertical-align: middle;\n",
       "    }\n",
       "\n",
       "    .dataframe tbody tr th {\n",
       "        vertical-align: top;\n",
       "    }\n",
       "\n",
       "    .dataframe thead th {\n",
       "        text-align: right;\n",
       "    }\n",
       "</style>\n",
       "<table border=\"1\" class=\"dataframe\">\n",
       "  <thead>\n",
       "    <tr style=\"text-align: right;\">\n",
       "      <th></th>\n",
       "      <th>review_id</th>\n",
       "      <th>review_body</th>\n",
       "      <th>star_rating</th>\n",
       "    </tr>\n",
       "  </thead>\n",
       "  <tbody>\n",
       "    <tr>\n",
       "      <th>0</th>\n",
       "      <td>R5LLJ0GMBMM4Q</td>\n",
       "      <td>We use these units a lot around here.  For the...</td>\n",
       "      <td>4</td>\n",
       "    </tr>\n",
       "    <tr>\n",
       "      <th>1</th>\n",
       "      <td>R1XJF4XA83TIT0</td>\n",
       "      <td>This light bulb is really great. It's not the ...</td>\n",
       "      <td>5</td>\n",
       "    </tr>\n",
       "    <tr>\n",
       "      <th>2</th>\n",
       "      <td>R37L6F34HKELA</td>\n",
       "      <td>I use these in my classroom to hang guitars in...</td>\n",
       "      <td>5</td>\n",
       "    </tr>\n",
       "    <tr>\n",
       "      <th>3</th>\n",
       "      <td>R2CID0BLPTYYB9</td>\n",
       "      <td>I ought this bass just to get a starter bass a...</td>\n",
       "      <td>5</td>\n",
       "    </tr>\n",
       "    <tr>\n",
       "      <th>4</th>\n",
       "      <td>R2AJG9NONB3VF9</td>\n",
       "      <td>I bought these bad boys a month ago and man, a...</td>\n",
       "      <td>5</td>\n",
       "    </tr>\n",
       "    <tr>\n",
       "      <th>5</th>\n",
       "      <td>R2WV9X9KOOAILQ</td>\n",
       "      <td>I purchased my deluxe used, it`s an 2009 which...</td>\n",
       "      <td>5</td>\n",
       "    </tr>\n",
       "    <tr>\n",
       "      <th>6</th>\n",
       "      <td>R312WN34VD95BZ</td>\n",
       "      <td>Great stand for our keyboardist.  Road worthy,...</td>\n",
       "      <td>4</td>\n",
       "    </tr>\n",
       "    <tr>\n",
       "      <th>7</th>\n",
       "      <td>RQOMDOVLASV8R</td>\n",
       "      <td>Arrived in package with box inside.  The box w...</td>\n",
       "      <td>5</td>\n",
       "    </tr>\n",
       "    <tr>\n",
       "      <th>8</th>\n",
       "      <td>R3NY0U7I9P996J</td>\n",
       "      <td>I'll admit it, after seeing a ton of Gearmandu...</td>\n",
       "      <td>5</td>\n",
       "    </tr>\n",
       "    <tr>\n",
       "      <th>9</th>\n",
       "      <td>R26AR6XPSW5GHZ</td>\n",
       "      <td>These cables rock! I got the 6 ft since I'm in...</td>\n",
       "      <td>5</td>\n",
       "    </tr>\n",
       "  </tbody>\n",
       "</table>\n",
       "</div>"
      ],
      "text/plain": [
       "        review_id                                        review_body  \\\n",
       "0   R5LLJ0GMBMM4Q  We use these units a lot around here.  For the...   \n",
       "1  R1XJF4XA83TIT0  This light bulb is really great. It's not the ...   \n",
       "2   R37L6F34HKELA  I use these in my classroom to hang guitars in...   \n",
       "3  R2CID0BLPTYYB9  I ought this bass just to get a starter bass a...   \n",
       "4  R2AJG9NONB3VF9  I bought these bad boys a month ago and man, a...   \n",
       "5  R2WV9X9KOOAILQ  I purchased my deluxe used, it`s an 2009 which...   \n",
       "6  R312WN34VD95BZ  Great stand for our keyboardist.  Road worthy,...   \n",
       "7   RQOMDOVLASV8R  Arrived in package with box inside.  The box w...   \n",
       "8  R3NY0U7I9P996J  I'll admit it, after seeing a ton of Gearmandu...   \n",
       "9  R26AR6XPSW5GHZ  These cables rock! I got the 6 ft since I'm in...   \n",
       "\n",
       "   star_rating  \n",
       "0            4  \n",
       "1            5  \n",
       "2            5  \n",
       "3            5  \n",
       "4            5  \n",
       "5            5  \n",
       "6            4  \n",
       "7            5  \n",
       "8            5  \n",
       "9            5  "
      ]
     },
     "execution_count": 35,
     "metadata": {},
     "output_type": "execute_result"
    }
   ],
   "source": [
    "df_show = as_pandas(cursor)\n",
    "df_show"
   ]
  },
  {
   "cell_type": "markdown",
   "metadata": {},
   "source": [
    "### Preview Feature를 사용하기 위해  `AmazonAthenaPreviewFunctionality` Work Group에 추가합니다. "
   ]
  },
  {
   "cell_type": "code",
   "execution_count": 36,
   "metadata": {},
   "outputs": [
    {
     "name": "stdout",
     "output_type": "stream",
     "text": [
      "Workgroup already exists.\n"
     ]
    }
   ],
   "source": [
    "import boto3\n",
    "from botocore.exceptions import ClientError\n",
    "\n",
    "client = boto3.client('athena')\n",
    "\n",
    "try:\n",
    "    response = client.create_work_group(Name='AmazonAthenaPreviewFunctionality') \n",
    "    print(response)\n",
    "except ClientError as e:\n",
    "    if e.response['Error']['Code'] == 'InvalidRequestException':\n",
    "        print(\"Workgroup already exists.\")\n",
    "    else:\n",
    "        print(\"Unexpected error: %s\" % e)\n",
    "    \n"
   ]
  },
  {
   "cell_type": "markdown",
   "metadata": {},
   "source": [
    "# SQL Query 생성하기"
   ]
  },
  {
   "cell_type": "markdown",
   "metadata": {},
   "source": [
    "`USING FUNCTION`절은 Athena 함수(preview) 또는 쿼리 내 후속 `SELECT` 문에서 참조할 수 있는 여러 함수에서 ML을 지정하여 사용합니다. 변수와 return 값에 대한 데이터 타입과 변수명, 함수명을 정의합니다."
   ]
  },
  {
   "cell_type": "code",
   "execution_count": 37,
   "metadata": {},
   "outputs": [
    {
     "name": "stdout",
     "output_type": "stream",
     "text": [
      "\n",
      "USING FUNCTION predict_star_rating(review_body VARCHAR) \n",
      "    RETURNS VARCHAR TYPE\n",
      "    SAGEMAKER_INVOKE_ENDPOINT WITH (sagemaker_endpoint = 'automl-dm-ep-23-13-27-39'\n",
      ")\n",
      "SELECT review_id, review_body, star_rating, predict_star_rating(REPLACE(review_body, ',', ' ')) AS predicted_star_rating \n",
      "    FROM awsdb_0920.product_reviews LIMIT 10\n",
      "    \n"
     ]
    }
   ],
   "source": [
    "statement = \"\"\"\n",
    "USING FUNCTION predict_star_rating(review_body VARCHAR) \n",
    "    RETURNS VARCHAR TYPE\n",
    "    SAGEMAKER_INVOKE_ENDPOINT WITH (sagemaker_endpoint = '{}'\n",
    ")\n",
    "SELECT review_id, review_body, star_rating, predict_star_rating(REPLACE(review_body, ',', ' ')) AS predicted_star_rating \n",
    "    FROM {}.{} LIMIT 10\n",
    "    \"\"\".format(autopilot_endpoint_name, database_name, table_name)\n",
    "\n",
    "print(statement)"
   ]
  },
  {
   "cell_type": "code",
   "execution_count": 38,
   "metadata": {},
   "outputs": [
    {
     "data": {
      "text/plain": [
       "<pyathena.cursor.Cursor at 0x7f0a8c05b710>"
      ]
     },
     "execution_count": 38,
     "metadata": {},
     "output_type": "execute_result"
    }
   ],
   "source": [
    "# Execute statement using connection cursor\n",
    "cursor = connect(region_name=region_name, \n",
    "                 s3_staging_dir=s3_staging_dir).cursor()\n",
    "cursor.execute(statement, \n",
    "               work_group='AmazonAthenaPreviewFunctionality')"
   ]
  },
  {
   "cell_type": "code",
   "execution_count": 39,
   "metadata": {},
   "outputs": [
    {
     "data": {
      "text/html": [
       "<div>\n",
       "<style scoped>\n",
       "    .dataframe tbody tr th:only-of-type {\n",
       "        vertical-align: middle;\n",
       "    }\n",
       "\n",
       "    .dataframe tbody tr th {\n",
       "        vertical-align: top;\n",
       "    }\n",
       "\n",
       "    .dataframe thead th {\n",
       "        text-align: right;\n",
       "    }\n",
       "</style>\n",
       "<table border=\"1\" class=\"dataframe\">\n",
       "  <thead>\n",
       "    <tr style=\"text-align: right;\">\n",
       "      <th></th>\n",
       "      <th>review_id</th>\n",
       "      <th>review_body</th>\n",
       "      <th>star_rating</th>\n",
       "      <th>predicted_star_rating</th>\n",
       "    </tr>\n",
       "  </thead>\n",
       "  <tbody>\n",
       "    <tr>\n",
       "      <th>0</th>\n",
       "      <td>R1NAW5XPDS2M2F</td>\n",
       "      <td>While it is true, many have had issues with th...</td>\n",
       "      <td>5</td>\n",
       "      <td>1</td>\n",
       "    </tr>\n",
       "    <tr>\n",
       "      <th>1</th>\n",
       "      <td>RONQXBSDE3PAF</td>\n",
       "      <td>Very easy to purchase and access code.  Would ...</td>\n",
       "      <td>5</td>\n",
       "      <td>5</td>\n",
       "    </tr>\n",
       "    <tr>\n",
       "      <th>2</th>\n",
       "      <td>R1EPXTTFK1ZULM</td>\n",
       "      <td>With Sony's massive and ongoing security probl...</td>\n",
       "      <td>5</td>\n",
       "      <td>5</td>\n",
       "    </tr>\n",
       "    <tr>\n",
       "      <th>3</th>\n",
       "      <td>R2CT8XWBJJSGWV</td>\n",
       "      <td>I bought this game and played it  for literall...</td>\n",
       "      <td>5</td>\n",
       "      <td>4</td>\n",
       "    </tr>\n",
       "    <tr>\n",
       "      <th>4</th>\n",
       "      <td>R2BCND7MNV39R4</td>\n",
       "      <td>Compared to Silent Hunter 3, one of the best s...</td>\n",
       "      <td>1</td>\n",
       "      <td>1</td>\n",
       "    </tr>\n",
       "    <tr>\n",
       "      <th>5</th>\n",
       "      <td>RFMYZ1HUNFNNA</td>\n",
       "      <td>Summary: It's GTA in 1940s Paris. Nicely done,...</td>\n",
       "      <td>4</td>\n",
       "      <td>1</td>\n",
       "    </tr>\n",
       "    <tr>\n",
       "      <th>6</th>\n",
       "      <td>R3JLOL8ETIAIJH</td>\n",
       "      <td>We got this some time back, but the first thin...</td>\n",
       "      <td>1</td>\n",
       "      <td>2</td>\n",
       "    </tr>\n",
       "    <tr>\n",
       "      <th>7</th>\n",
       "      <td>R2DV1EHJNDV0EK</td>\n",
       "      <td>Ok i wanted to buy it for 8 dollars... see 8 d...</td>\n",
       "      <td>1</td>\n",
       "      <td>1</td>\n",
       "    </tr>\n",
       "    <tr>\n",
       "      <th>8</th>\n",
       "      <td>RCX7OAFGXWOEZ</td>\n",
       "      <td>Good game but sometimes crashed.</td>\n",
       "      <td>4</td>\n",
       "      <td>4</td>\n",
       "    </tr>\n",
       "    <tr>\n",
       "      <th>9</th>\n",
       "      <td>R1FFAVSHH791E2</td>\n",
       "      <td>This expansion plays more like a mini-adventur...</td>\n",
       "      <td>4</td>\n",
       "      <td>2</td>\n",
       "    </tr>\n",
       "  </tbody>\n",
       "</table>\n",
       "</div>"
      ],
      "text/plain": [
       "        review_id                                        review_body  \\\n",
       "0  R1NAW5XPDS2M2F  While it is true, many have had issues with th...   \n",
       "1   RONQXBSDE3PAF  Very easy to purchase and access code.  Would ...   \n",
       "2  R1EPXTTFK1ZULM  With Sony's massive and ongoing security probl...   \n",
       "3  R2CT8XWBJJSGWV  I bought this game and played it  for literall...   \n",
       "4  R2BCND7MNV39R4  Compared to Silent Hunter 3, one of the best s...   \n",
       "5   RFMYZ1HUNFNNA  Summary: It's GTA in 1940s Paris. Nicely done,...   \n",
       "6  R3JLOL8ETIAIJH  We got this some time back, but the first thin...   \n",
       "7  R2DV1EHJNDV0EK  Ok i wanted to buy it for 8 dollars... see 8 d...   \n",
       "8   RCX7OAFGXWOEZ                   Good game but sometimes crashed.   \n",
       "9  R1FFAVSHH791E2  This expansion plays more like a mini-adventur...   \n",
       "\n",
       "   star_rating predicted_star_rating  \n",
       "0            5                     1  \n",
       "1            5                     5  \n",
       "2            5                     5  \n",
       "3            5                     4  \n",
       "4            1                     1  \n",
       "5            4                     1  \n",
       "6            1                     2  \n",
       "7            1                     1  \n",
       "8            4                     4  \n",
       "9            4                     2  "
      ]
     },
     "execution_count": 39,
     "metadata": {},
     "output_type": "execute_result"
    }
   ],
   "source": [
    "df = as_pandas(cursor)\n",
    "df"
   ]
  },
  {
   "cell_type": "code",
   "execution_count": 40,
   "metadata": {},
   "outputs": [],
   "source": [
    "# sm.delete_endpoint(\n",
    "#     EndpointName=autopilot_endpoint_name\n",
    "# )"
   ]
  },
  {
   "cell_type": "code",
   "execution_count": 41,
   "metadata": {
    "scrolled": true
   },
   "outputs": [
    {
     "name": "stdout",
     "output_type": "stream",
     "text": [
      "Stored variables and their in-db values:\n",
      "data_bucket                                  -> 'sagemaker-us-east-1-322537213286'\n",
      "database_name                                -> 'awsdb_0920'\n",
      "header_train_s3_uri                          -> 's3://sagemaker-us-east-1-322537213286/data/amazon\n",
      "job_bucket                                   -> 'sagemaker-experiments-us-east-1-322537213286'\n",
      "max_seq_length                               -> 128\n",
      "noheader_train_s3_uri                        -> 's3://sagemaker-us-east-1-322537213286/data/amazon\n",
      "processed_test_data_s3_uri                   -> 's3://sagemaker-us-east-1-322537213286/sagemaker-s\n",
      "processed_train_data_s3_uri                  -> 's3://sagemaker-us-east-1-322537213286/sagemaker-s\n",
      "processed_validation_data_s3_uri             -> 's3://sagemaker-us-east-1-322537213286/sagemaker-s\n",
      "region_name                                  -> 'us-east-1'\n",
      "role                                         -> 'arn:aws:iam::322537213286:role/service-role/AIMLW\n",
      "s3_destination_path_tsv                      -> 's3://sagemaker-us-east-1-322537213286/amazon-revi\n",
      "s3_path_parquet                              -> 's3://sagemaker-us-east-1-322537213286/amazon-revi\n",
      "s3_raw_input_data                            -> 's3://sagemaker-us-east-1-322537213286/amazon-revi\n",
      "s3_staging_dir                               -> 's3://sagemaker-experiments-us-east-1-322537213286\n",
      "table_name_parquet                           -> 'amazon_reviews_parquet'\n",
      "table_name_tsv                               -> 'amazon_reviews_tsv'\n",
      "test_data                                    -> './data-tfrecord/bert-test'\n",
      "test_split_percentage                        -> 0.05\n",
      "train_data                                   -> './data-tfrecord/bert-train'\n",
      "train_split_percentage                       -> 0.9\n",
      "validation_data                              -> './data-tfrecord/bert-validation'\n",
      "validation_split_percentage                  -> 0.05\n"
     ]
    }
   ],
   "source": [
    "%store"
   ]
  },
  {
   "cell_type": "code",
   "execution_count": null,
   "metadata": {},
   "outputs": [],
   "source": []
  }
 ],
 "metadata": {
  "kernelspec": {
   "display_name": "conda_python3",
   "language": "python",
   "name": "conda_python3"
  },
  "language_info": {
   "codemirror_mode": {
    "name": "ipython",
    "version": 3
   },
   "file_extension": ".py",
   "mimetype": "text/x-python",
   "name": "python",
   "nbconvert_exporter": "python",
   "pygments_lexer": "ipython3",
   "version": "3.6.10"
  }
 },
 "nbformat": 4,
 "nbformat_minor": 4
}
